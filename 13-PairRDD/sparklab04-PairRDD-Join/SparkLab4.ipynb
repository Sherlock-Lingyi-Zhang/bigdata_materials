{
 "cells": [
  {
   "cell_type": "markdown",
   "metadata": {},
   "source": [
    "# Spark Lab 4: Use Pair RDDs to join two datasets\n",
    "\n",
    "Data used in this lab:\n",
    "- weblog data: `/home/cloudera/training_materials/data/weblogs/`\n",
    "- user accounts data: `/home/cloudera/training_materials/data/static_data/accounts/`\n"
   ]
  },
  {
   "cell_type": "markdown",
   "metadata": {},
   "source": [
    "**Tip**: In this lab you will be reducing and joining large datasets, which can take a lot of time. You may wish to perform the exercises below using a smaller dataset, consisting of only one of the many web log files, rather than all of them. For example, one of the web log file is **`2013-09-15.log`**."
   ]
  },
  {
   "cell_type": "markdown",
   "metadata": {},
   "source": [
    "## Explore Web Log Files"
   ]
  },
  {
   "cell_type": "markdown",
   "metadata": {},
   "source": [
    "The following python function parse a log line into a tuple using regular expression. You can use this later on for log line pasing."
   ]
  },
  {
   "cell_type": "code",
   "execution_count": null,
   "metadata": {
    "collapsed": true
   },
   "outputs": [],
   "source": [
    "import re \n",
    "def parse_log_line(line):\n",
    "    pattern = '^([\\d.]+) - (\\d+) \\[(.+?)\\] \\\"(.+?)\\\" (\\d{3}) (\\d+) \\\"(.+?)\\\"  \\\"(.+)\\\"';\n",
    "    try:\n",
    "        match = re.search(pattern,line)\n",
    "        return (match.group(1),match.group(2),match.group(3),match.group(4), \\\n",
    "            match.group(5),match.group(6),match.group(7),match.group(8))\n",
    "    except:\n",
    "        pass"
   ]
  },
  {
   "cell_type": "markdown",
   "metadata": {},
   "source": [
    "### Step 1. Load and parse data data\n",
    "Load the data from the weblog data location and parse it with the provided `parse_log_line` function.\n",
    "- Please read just one file **2013-09-15.log** in the testing period. After you're done testing, you can load the entire dataset, which may be time-consuming to process. \n",
    "- You can cache the data for later reuse using `.cache()`, so that you don't have to reload and repharse in each step of the way"
   ]
  },
  {
   "cell_type": "code",
   "execution_count": null,
   "metadata": {
    "collapsed": false
   },
   "outputs": [],
   "source": [
    "logs = "
   ]
  },
  {
   "cell_type": "code",
   "execution_count": null,
   "metadata": {
    "collapsed": false
   },
   "outputs": [],
   "source": [
    "# print some samples to verify the result\n",
    "for row in logs.take(2):\n",
    "    print row"
   ]
  },
  {
   "cell_type": "markdown",
   "metadata": {},
   "source": [
    "### Step 2. Using map-reduce to count the number of requests from each user\n",
    "\n",
    "- Use map and to create a Pair RDD with the user ID as the key, and the integer 1 as the value. (The user ID is the second field in each line.) After mapping, your data will look something like this:\n",
    "```\n",
    "(userid,1) \n",
    "(userid,1) \n",
    "(userid,1)\n",
    "```\n",
    "- Use reduceByKey to sum the values for each user ID. Your RDD data will be similar to:\n",
    "```\n",
    "(userid1,5) \n",
    "(userid2,7) \n",
    "(userid3,2)\n",
    "```"
   ]
  },
  {
   "cell_type": "code",
   "execution_count": null,
   "metadata": {
    "collapsed": true
   },
   "outputs": [],
   "source": [
    "userCount = "
   ]
  },
  {
   "cell_type": "code",
   "execution_count": null,
   "metadata": {
    "collapsed": false
   },
   "outputs": [],
   "source": [
    "# use type function to verify the type of the variable\n",
    "type(userCount)"
   ]
  },
  {
   "cell_type": "code",
   "execution_count": null,
   "metadata": {
    "collapsed": false
   },
   "outputs": [],
   "source": [
    "# print the outcome in formatted fasion\n",
    "for row in userCount.take(5):\n",
    "    print(\"{},{}\".format(*row))  # the operator * unpack the elements in the `row` tuple"
   ]
  },
  {
   "cell_type": "markdown",
   "metadata": {},
   "source": [
    "### Step 3. Determine how many users visited the site for each frequency (histogram) \n",
    "Determine how many users visited the site for each frequency. That is, how many users visited once, twice, three times and so on.\n",
    "- Use `map` to reverse the key and value, like this:\n",
    "```\n",
    "(5,userid)\n",
    "(7,userid)\n",
    "(2,userid)\n",
    "```\n",
    "- Use the `countByKey` action to return a Map of `frequency:user-count` pairs, such as:\n",
    "```\n",
    "(5,10)\n",
    "(7,50)\n",
    "(2,100)\n",
    "```\n",
    "- save the result in variable `freqCount`\n"
   ]
  },
  {
   "cell_type": "code",
   "execution_count": null,
   "metadata": {
    "collapsed": true
   },
   "outputs": [],
   "source": [
    "freqCount = "
   ]
  },
  {
   "cell_type": "markdown",
   "metadata": {},
   "source": [
    "- Determine the type of the variable `freqCount`"
   ]
  },
  {
   "cell_type": "code",
   "execution_count": null,
   "metadata": {
    "collapsed": false,
    "scrolled": true
   },
   "outputs": [],
   "source": []
  },
  {
   "cell_type": "markdown",
   "metadata": {},
   "source": [
    "- Print the outcome in the formatted fashion like this:\n",
    "```\n",
    "1:25\n",
    "2:32\n",
    "3:44\n",
    "```"
   ]
  },
  {
   "cell_type": "code",
   "execution_count": null,
   "metadata": {
    "collapsed": false
   },
   "outputs": [],
   "source": []
  },
  {
   "cell_type": "markdown",
   "metadata": {},
   "source": [
    "### Step 4. Build an IP address list for each user"
   ]
  },
  {
   "cell_type": "markdown",
   "metadata": {},
   "source": [
    "#### A. Frist build a list of `<user_id, ip>` pairs sorted by user id\n",
    "- Create an RDD where the user id is the key, and the value is the IP addresses that user has connected from. (IP address is the first field in each request line.)\n",
    "- Sort result by userid\n",
    "- Save result in **`userIpSorted`**\n",
    "\n"
   ]
  },
  {
   "cell_type": "code",
   "execution_count": null,
   "metadata": {
    "collapsed": false
   },
   "outputs": [],
   "source": [
    "userIpSorted = "
   ]
  },
  {
   "cell_type": "markdown",
   "metadata": {},
   "source": [
    "- Print the first 10 outcome in the form of `userid<tab>ip_address`, such as:\n",
    "```\n",
    "1         127.0.0.1\n",
    "123       127.0.0.2\n",
    "```"
   ]
  },
  {
   "cell_type": "code",
   "execution_count": null,
   "metadata": {
    "collapsed": false
   },
   "outputs": [],
   "source": []
  },
  {
   "cell_type": "markdown",
   "metadata": {},
   "source": [
    "#### B. Create an RDD where the user id is the key, and the value is the list of all the IP addresses that user has connected from. \n",
    "- Hint: Map to (userid,ip_address) and then use **`groupByKey`**\n",
    "- Hint: **`groupByKey`** return a pyspark iterable object, you can convert it to a list using **`mapValues`** with a type conversion function: **`list()`**\n",
    "- Save results in **userIpList**"
   ]
  },
  {
   "cell_type": "code",
   "execution_count": null,
   "metadata": {
    "collapsed": false
   },
   "outputs": [],
   "source": [
    "userIpList = "
   ]
  },
  {
   "cell_type": "markdown",
   "metadata": {},
   "source": [
    "- Print the first five result as tab delimited rows, such as:\n",
    "```\n",
    "123    [ip_1, ip_2, ...]\n",
    "2334   [ip_1, ip_4]\n",
    "```"
   ]
  },
  {
   "cell_type": "code",
   "execution_count": null,
   "metadata": {
    "collapsed": false
   },
   "outputs": [],
   "source": []
  },
  {
   "cell_type": "markdown",
   "metadata": {},
   "source": [
    "#### C. Create an RDD where the user id is the key, and the value is the *distinct* list of all the IP addresses that user has connected from. \n",
    "- Similar to B, but now we want a distinct list of values, consider using **set** instead of list\n",
    "- Save results to **userIpListDistinct**"
   ]
  },
  {
   "cell_type": "code",
   "execution_count": null,
   "metadata": {
    "collapsed": true
   },
   "outputs": [],
   "source": [
    "userIpListDistinct = "
   ]
  },
  {
   "cell_type": "markdown",
   "metadata": {},
   "source": [
    "- Print the first five result as tab delimited rows, such as:\n",
    "```\n",
    "123    [ip_1, ip_2, ...]\n",
    "2334   [ip_1, ip_4]\n",
    "```"
   ]
  },
  {
   "cell_type": "code",
   "execution_count": null,
   "metadata": {
    "collapsed": false
   },
   "outputs": [],
   "source": []
  },
  {
   "cell_type": "markdown",
   "metadata": {},
   "source": [
    "## Join Web Log Data with Account Data\n",
    "\n",
    "The accounts data (located in /home/cloudera/training_materials/data/static_data/accounts/). Sample rows look like this:\n",
    "```\n",
    "1,2008-10-23 16:05:05.0,\\N,Donald,Becton,2275 Washburn Street,Oakland,CA,94660,5100032418,2014-03-18 13:29:47.0,2014-03-18 13:29:47.0\n",
    "2,2008-11-12 03:00:01.0,\\N,Donna,Jones,3885 Elliott Street,San Francisco,CA,94171,4150835799,2014-03-18 13:29:47.0,2014-03-18 13:29:47.0\n",
    "3,2008-12-21 09:19:50.0,\\N,Dorthy,Chalmers,4073 Whaley Lane,San Mateo,CA,94479,6506877757,2014-03-18 13:29:47.0,2014-03-18 13:29:47.0\n",
    "```\n",
    "- The first field in each line is the user ID, which corresponds to the user ID in the web server logs. \n",
    "- The other fields include account details such as creation date, first and last name and so on.\n"
   ]
  },
  {
   "cell_type": "markdown",
   "metadata": {},
   "source": [
    "### Step 1. Load and parse data data\n",
    "- Load the data from the account data location and parse it.\n",
    "- Cache the data for later reuse\n",
    "- Save result in **accounts**"
   ]
  },
  {
   "cell_type": "code",
   "execution_count": null,
   "metadata": {
    "collapsed": false
   },
   "outputs": [],
   "source": [
    "accounts = "
   ]
  },
  {
   "cell_type": "markdown",
   "metadata": {},
   "source": [
    "- verify result by printing the first element"
   ]
  },
  {
   "cell_type": "code",
   "execution_count": null,
   "metadata": {
    "collapsed": false
   },
   "outputs": [],
   "source": []
  },
  {
   "cell_type": "markdown",
   "metadata": {},
   "source": [
    "### Step 2. Join the accounts data with userCount data. \n",
    "The goal of this step is to produce a dataset with userid, hitcount, and name. In order to do this, we need to \n",
    "- Create an RDD based on the accounts data consisting of key/value pairs such as:\n",
    "```\n",
    "(userid1,[userid1,2008-11-24 10:04:08,\\N,Cheryl,West,4905 Olive Street,San Francisco,CA,…])\n",
    "(userid2,[userid2,2008-11-23 14:05:07,\\N,Elizabeth,Kerns,4703 Eva Pearl Street,Richmond,CA,…])\n",
    "(userid3,[userid3,2008-11-02 17:12:12,2013-07-18 16:42:36,Melissa,Roman,3539 James Martin Circle,…])\n",
    "```\n",
    "- Join the Pair RDD with the set of userCount pair RDD calculated in the first section.\n",
    "```\n",
    "(userid1,([userid1,2008-11-24 10:04:08,\\N,Cheryl,West,4905 Olive Street,San Francisco,CA,…], 3))\n",
    "(userid2,([userid2,2008-11-23 14:05:07,\\N,Elizabeth,Kerns,4703 Eva Pearl Street,Richmond,CA,…], 8))\n",
    "(userid3,([userid3,2008-11-02 17:12:12,2013-07-18 16:42:36,Melissa,Roman,3539 James Martin Circle,…], 10))\n",
    "```\n",
    "- Save results in **joined**"
   ]
  },
  {
   "cell_type": "code",
   "execution_count": null,
   "metadata": {
    "collapsed": false
   },
   "outputs": [],
   "source": [
    "joined = "
   ]
  },
  {
   "cell_type": "markdown",
   "metadata": {},
   "source": [
    "- Verify results by print the first 5 rows"
   ]
  },
  {
   "cell_type": "code",
   "execution_count": null,
   "metadata": {
    "collapsed": false
   },
   "outputs": [],
   "source": []
  },
  {
   "cell_type": "markdown",
   "metadata": {},
   "source": [
    "### Step 3. Create a list of names by Postal Code\n",
    "- Use **keyBy** to create an RDD of account data with the postal code (9th field in the CSV data) as the key\n",
    "- Convert the RDD to a new RDD with postal code as the key and a list of names (Last Name,First Name) in that postal code as the value.\n",
    "    - Hint: First name and last name are the 4th and 5th fields respectively\n",
    "- Save results in **postalRoster**"
   ]
  },
  {
   "cell_type": "code",
   "execution_count": null,
   "metadata": {
    "collapsed": false
   },
   "outputs": [],
   "source": [
    "postalRoster = "
   ]
  },
  {
   "cell_type": "markdown",
   "metadata": {},
   "source": [
    "- Take the first five postal codes sorted by postal code"
   ]
  },
  {
   "cell_type": "code",
   "execution_count": null,
   "metadata": {
    "collapsed": false
   },
   "outputs": [],
   "source": [
    "first5postal = "
   ]
  },
  {
   "cell_type": "markdown",
   "metadata": {},
   "source": [
    "-  Display the names for the first five postal codes in the following format, e.g. \n",
    "```\n",
    "--- 85003\n",
    "Jenkins, Thad \n",
    "Rick, Edward \n",
    "Lindsay, Ivy\n",
    "...\n",
    "--- 85004\n",
    "Morris, Eric \n",
    "Reiser, Hazel \n",
    "Gregg, Alicia \n",
    "Preston, Elizabeth\n",
    "...\n",
    "```"
   ]
  },
  {
   "cell_type": "code",
   "execution_count": null,
   "metadata": {
    "collapsed": false
   },
   "outputs": [],
   "source": []
  }
 ],
 "metadata": {
  "kernelspec": {
   "display_name": "Python 2",
   "language": "python",
   "name": "python2"
  },
  "language_info": {
   "codemirror_mode": {
    "name": "ipython",
    "version": 2
   },
   "file_extension": ".py",
   "mimetype": "text/x-python",
   "name": "python",
   "nbconvert_exporter": "python",
   "pygments_lexer": "ipython2",
   "version": "2.7.13"
  }
 },
 "nbformat": 4,
 "nbformat_minor": 2
}
