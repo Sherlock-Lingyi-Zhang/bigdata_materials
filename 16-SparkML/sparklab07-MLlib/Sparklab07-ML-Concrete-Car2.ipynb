{
 "cells": [
  {
   "cell_type": "markdown",
   "metadata": {},
   "source": [
    "# Spark Lab 7: Using Spark MLlib for Feature Engineering and Prediction\n",
    "\n",
    "\n",
    "This lab focuses on building a ML pipeline with focus on feature data exploration and feature engineering. It has two parts:\n",
    "\n",
    "- Part 1 `Concrete Quality`: we focus on doing column statistics and engineering numerical features \n",
    "- Part 2 `Car Value`: we focus on engineering string columns.\n",
    "\n",
    "\n",
    "**Topics**: `describe, VectorAssembler, StandardScaler, Pipeline, StringIndexer, DecisionTreeClassifier, MulticlassClassificationEvaluator`\n",
    "\n",
    "\n",
    "\n",
    "\n",
    "**Tip**:If at any point you see this error, `AnalysisException: u'java.lang.RuntimeException: java.lang.RuntimeException: Unable to instantiate org.apache.hadoop.hive.ql.metadata.SessionHiveMetaStoreClient;`. \n",
    "\n",
    "Please\n",
    "- removing the *.lck file from hive `metastore_db`\n",
    "```\n",
    "# assuming you're running this from your home directory from cloudera vm\n",
    "rm  metastore_db/*.lck\n",
    "```\n",
    "- Terminate all other running jupyter notebooks (from your jupyter home, go to Running tab, then terminate). \n",
    "\n",
    "If the above does not work still, try to restart the kernel (from your current jupyter notebook's menu, kernel > restart).  "
   ]
  },
  {
   "cell_type": "markdown",
   "metadata": {},
   "source": [
    "### Preparation\n",
    "\n",
    "1\\. Download and unzip the data files needed for this lab from \n",
    "\n",
    "[http://idsdl.csom.umn.edu/c/share/sparklab07data.zip](http://idsdl.csom.umn.edu/c/share/sparklab07data.zip)\n",
    "\n"
   ]
  },
  {
   "cell_type": "code",
   "execution_count": 4,
   "metadata": {},
   "outputs": [
    {
     "name": "stdout",
     "output_type": "stream",
     "text": [
      "--2019-10-30 18:59:21--  http://idsdl.csom.umn.edu/c/share/sparklab07data.zip\n",
      "Resolving idsdl.csom.umn.edu (idsdl.csom.umn.edu)... 134.84.138.46, 2607:ea00:101:480a:250:56ff:febb:e76b\n",
      "Connecting to idsdl.csom.umn.edu (idsdl.csom.umn.edu)|134.84.138.46|:80... connected.\n",
      "HTTP request sent, awaiting response... 200 OK\n",
      "Length: 26506 (26K) [application/zip]\n",
      "Saving to: ‘sparklab07data.zip.2’\n",
      "\n",
      "sparklab07data.zip. 100%[===================>]  25.88K  --.-KB/s    in 0.001s  \n",
      "\n",
      "2019-10-30 18:59:21 (22.9 MB/s) - ‘sparklab07data.zip.2’ saved [26506/26506]\n",
      "\n",
      "Archive:  spark_sample_data.zip\n",
      "  inflating: streaming/AFINN-111.txt  \n",
      "  inflating: mllib/als/sample_movielens_ratings.txt  \n",
      "  inflating: mllib/als/test.data     \n",
      "  inflating: mllib/gmm_data.txt      \n",
      "  inflating: mllib/kmeans_data.txt   \n",
      "  inflating: mllib/pagerank_data.txt  \n",
      "  inflating: mllib/pic_data.txt      \n",
      "  inflating: mllib/ridge-data/lpsa.data  \n",
      "  inflating: mllib/sample_binary_classification_data.txt  \n",
      "  inflating: mllib/sample_fpgrowth.txt  \n",
      "  inflating: mllib/sample_isotonic_regression_libsvm_data.txt  \n",
      "  inflating: mllib/sample_kmeans_data.txt  \n",
      "  inflating: mllib/sample_lda_data.txt  \n",
      "  inflating: mllib/sample_lda_libsvm_data.txt  \n",
      "  inflating: mllib/sample_libsvm_data.txt  \n",
      "  inflating: mllib/sample_linear_regression_data.txt  \n",
      "  inflating: mllib/sample_movielens_data.txt  \n",
      "  inflating: mllib/sample_multiclass_classification_data.txt  \n",
      "  inflating: mllib/sample_svm_data.txt  \n",
      "  inflating: mllib/streaming_kmeans_data_test.txt  \n",
      "  inflating: graphx/followers.txt    \n",
      "  inflating: graphx/users.txt        \n"
     ]
    }
   ],
   "source": [
    "!wget http://idsdl.csom.umn.edu/c/share/sparklab07data.zip\n"
   ]
  },
  {
   "cell_type": "code",
   "execution_count": 6,
   "metadata": {},
   "outputs": [
    {
     "name": "stdout",
     "output_type": "stream",
     "text": [
      "Archive:  sparklab07data.zip\n",
      "  inflating: cars_test.csv           \n",
      "  inflating: cars_train.csv          \n",
      "  inflating: concrete.csv            \n",
      "  inflating: concrete_test.csv       \n",
      "  inflating: concrete_train.csv      \n"
     ]
    }
   ],
   "source": [
    "!unzip -o sparklab07data.zip"
   ]
  },
  {
   "cell_type": "markdown",
   "metadata": {},
   "source": [
    "## Part I. Prepare Concrete Quality Dataset for Spark MLlib"
   ]
  },
  {
   "cell_type": "markdown",
   "metadata": {},
   "source": [
    "This part of the lab uses adataset regarding the various properties and strength of concrete. Please complete the lab using `spark.ml` API functions. \n",
    "\n",
    "#|Field Name|Type| Description\n",
    "--|--|--|--\n",
    "0|cement|Double|Mass, in kg per cubic meter of mixture\n",
    "1|blast_furnace_slag|Double|Mass, in kg per cubic meter of mixture\n",
    "2|fly_ash|Double|Mass, in kg per cubic meter of mixture\n",
    "3|water|Double|Mass, in kg per cubic meter of mixture\n",
    "4|superplasticizer|Double|Mass, in kg per cubic meter of mixture\n",
    "5|course_aggregate|Double|Mass, in kg per cubic meter of mixture\n",
    "6|fine_aggregate|Double|Mass, in kg per cubic meter of mixture\n",
    "7|age|Double|Age, in days\n",
    "8|compressive_strength|Double|Strength, in megapascals (MPa)"
   ]
  },
  {
   "cell_type": "markdown",
   "metadata": {},
   "source": [
    "1\\. Sample the first few lines of `concrete_train.csv` using linux command(s), which helps you decide how to handle this file."
   ]
  },
  {
   "cell_type": "code",
   "execution_count": 7,
   "metadata": {},
   "outputs": [
    {
     "name": "stdout",
     "output_type": "stream",
     "text": [
      "540.0,0.0,0.0,162.0,2.5,1040.0,676.0,28,79.99\r",
      "\r\n",
      "540.0,0.0,0.0,162.0,2.5,1055.0,676.0,28,61.89\r",
      "\r\n",
      "332.5,142.5,0.0,228.0,0.0,932.0,594.0,270,40.27\r",
      "\r\n",
      "332.5,142.5,0.0,228.0,0.0,932.0,594.0,365,41.05\r",
      "\r\n",
      "198.6,132.4,0.0,192.0,0.0,978.4,825.5,360,44.30\r",
      "\r\n",
      "266.0,114.0,0.0,228.0,0.0,932.0,670.0,90,47.03\r",
      "\r\n",
      "380.0,95.0,0.0,228.0,0.0,932.0,594.0,365,43.70\r",
      "\r\n",
      "380.0,95.0,0.0,228.0,0.0,932.0,594.0,28,36.45\r",
      "\r\n",
      "266.0,114.0,0.0,228.0,0.0,932.0,670.0,28,45.85\r",
      "\r\n",
      "475.0,0.0,0.0,228.0,0.0,932.0,594.0,28,39.29\r",
      "\r\n"
     ]
    }
   ],
   "source": [
    "!head concrete_train.csv"
   ]
  },
  {
   "cell_type": "markdown",
   "metadata": {},
   "source": [
    "2\\. Load the `concrete_train.csv` file into a dataframe. Verify its content"
   ]
  },
  {
   "cell_type": "code",
   "execution_count": 8,
   "metadata": {},
   "outputs": [],
   "source": [
    "train = spark.read.option(\"inferSchema\",\"true\").csv(\"concrete_train.csv\")"
   ]
  },
  {
   "cell_type": "code",
   "execution_count": 9,
   "metadata": {},
   "outputs": [
    {
     "data": {
      "text/html": [
       "<div>\n",
       "<style scoped>\n",
       "    .dataframe tbody tr th:only-of-type {\n",
       "        vertical-align: middle;\n",
       "    }\n",
       "\n",
       "    .dataframe tbody tr th {\n",
       "        vertical-align: top;\n",
       "    }\n",
       "\n",
       "    .dataframe thead th {\n",
       "        text-align: right;\n",
       "    }\n",
       "</style>\n",
       "<table border=\"1\" class=\"dataframe\">\n",
       "  <thead>\n",
       "    <tr style=\"text-align: right;\">\n",
       "      <th></th>\n",
       "      <th>_c0</th>\n",
       "      <th>_c1</th>\n",
       "      <th>_c2</th>\n",
       "      <th>_c3</th>\n",
       "      <th>_c4</th>\n",
       "      <th>_c5</th>\n",
       "      <th>_c6</th>\n",
       "      <th>_c7</th>\n",
       "      <th>_c8</th>\n",
       "    </tr>\n",
       "  </thead>\n",
       "  <tbody>\n",
       "    <tr>\n",
       "      <th>0</th>\n",
       "      <td>540.0</td>\n",
       "      <td>0.0</td>\n",
       "      <td>0.0</td>\n",
       "      <td>162.0</td>\n",
       "      <td>2.5</td>\n",
       "      <td>1040.0</td>\n",
       "      <td>676.0</td>\n",
       "      <td>28</td>\n",
       "      <td>79.99</td>\n",
       "    </tr>\n",
       "    <tr>\n",
       "      <th>1</th>\n",
       "      <td>540.0</td>\n",
       "      <td>0.0</td>\n",
       "      <td>0.0</td>\n",
       "      <td>162.0</td>\n",
       "      <td>2.5</td>\n",
       "      <td>1055.0</td>\n",
       "      <td>676.0</td>\n",
       "      <td>28</td>\n",
       "      <td>61.89</td>\n",
       "    </tr>\n",
       "  </tbody>\n",
       "</table>\n",
       "</div>"
      ],
      "text/plain": [
       "     _c0  _c1  _c2    _c3  _c4     _c5    _c6  _c7    _c8\n",
       "0  540.0  0.0  0.0  162.0  2.5  1040.0  676.0   28  79.99\n",
       "1  540.0  0.0  0.0  162.0  2.5  1055.0  676.0   28  61.89"
      ]
     },
     "execution_count": 9,
     "metadata": {},
     "output_type": "execute_result"
    }
   ],
   "source": [
    "train.limit(2).toPandas()"
   ]
  },
  {
   "cell_type": "code",
   "execution_count": 10,
   "metadata": {},
   "outputs": [
    {
     "data": {
      "text/html": [
       "<div>\n",
       "<style scoped>\n",
       "    .dataframe tbody tr th:only-of-type {\n",
       "        vertical-align: middle;\n",
       "    }\n",
       "\n",
       "    .dataframe tbody tr th {\n",
       "        vertical-align: top;\n",
       "    }\n",
       "\n",
       "    .dataframe thead th {\n",
       "        text-align: right;\n",
       "    }\n",
       "</style>\n",
       "<table border=\"1\" class=\"dataframe\">\n",
       "  <thead>\n",
       "    <tr style=\"text-align: right;\">\n",
       "      <th></th>\n",
       "      <th>cement</th>\n",
       "      <th>blast_furname_slag</th>\n",
       "      <th>fly_ash</th>\n",
       "      <th>water</th>\n",
       "      <th>superplasticizer</th>\n",
       "      <th>coarse_aggregate</th>\n",
       "      <th>fine_aggregate</th>\n",
       "      <th>age</th>\n",
       "      <th>compressive_strength</th>\n",
       "    </tr>\n",
       "  </thead>\n",
       "  <tbody>\n",
       "    <tr>\n",
       "      <th>0</th>\n",
       "      <td>540.0</td>\n",
       "      <td>0.0</td>\n",
       "      <td>0.0</td>\n",
       "      <td>162.0</td>\n",
       "      <td>2.5</td>\n",
       "      <td>1040.0</td>\n",
       "      <td>676.0</td>\n",
       "      <td>28</td>\n",
       "      <td>79.99</td>\n",
       "    </tr>\n",
       "    <tr>\n",
       "      <th>1</th>\n",
       "      <td>540.0</td>\n",
       "      <td>0.0</td>\n",
       "      <td>0.0</td>\n",
       "      <td>162.0</td>\n",
       "      <td>2.5</td>\n",
       "      <td>1055.0</td>\n",
       "      <td>676.0</td>\n",
       "      <td>28</td>\n",
       "      <td>61.89</td>\n",
       "    </tr>\n",
       "  </tbody>\n",
       "</table>\n",
       "</div>"
      ],
      "text/plain": [
       "   cement  blast_furname_slag  fly_ash  water  superplasticizer  \\\n",
       "0   540.0                 0.0      0.0  162.0               2.5   \n",
       "1   540.0                 0.0      0.0  162.0               2.5   \n",
       "\n",
       "   coarse_aggregate  fine_aggregate  age  compressive_strength  \n",
       "0            1040.0           676.0   28                 79.99  \n",
       "1            1055.0           676.0   28                 61.89  "
      ]
     },
     "execution_count": 10,
     "metadata": {},
     "output_type": "execute_result"
    }
   ],
   "source": [
    "fields = [\"cement\",\"blast_furname_slag\",\"fly_ash\",\"water\",\n",
    "         \"superplasticizer\",\"coarse_aggregate\",\"fine_aggregate\",\n",
    "         \"age\",\"compressive_strength\"]\n",
    "train2 = train.toDF(*fields)\n",
    "\n",
    "# the above is same as\n",
    "# train2 = train.toDF(\"cement\",\"blast_furname_slag\",\"fly_ash\",\"water\",\n",
    "#         \"superplasticizer\",\"coarse_aggregate\",\"fine_aggregate\",\n",
    "#         \"age\",\"compressive_strength\")\n",
    "train2.limit(2).toPandas()\n"
   ]
  },
  {
   "cell_type": "markdown",
   "metadata": {},
   "source": [
    "3\\. Because this dataset has numerical columns, it is useful to conduct summary statistics on it. Report the descriptive statistics\n",
    "\n",
    "**You may convert a DataFrame to pandas dataframe using `.toPandas()` for better readability.**"
   ]
  },
  {
   "cell_type": "code",
   "execution_count": null,
   "metadata": {},
   "outputs": [],
   "source": []
  },
  {
   "cell_type": "markdown",
   "metadata": {},
   "source": [
    "[`SQLTransformer(statement=...)`](https://spark.apache.org/docs/latest/api/python/pyspark.ml.html#pyspark.ml.feature.SQLTransformer) implements the transforms which are defined by SQL statement. \n",
    "\n",
    "Currently it only supports SQL syntax like `\"SELECT … FROM __THIS__\"` where `__THIS__` represents the underlying table of the input dataset.\n",
    "\n",
    "4\\. Define a SQLTransformer `st` that creates a new field `age_enc` that takes the following values:\n",
    "\n",
    "- 1, if age is between 0 and 30\n",
    "- 2, if age is > 30 and <= 90\n",
    "- 3, if age is > 90 and <= 180\n",
    "- 4, if age is 180 and above\n",
    "\n",
    "Click the above link to see the documentation/example of this API."
   ]
  },
  {
   "cell_type": "code",
   "execution_count": null,
   "metadata": {},
   "outputs": [],
   "source": []
  },
  {
   "cell_type": "markdown",
   "metadata": {},
   "source": [
    "5\\. Use [`VectorAssembler`](https://spark.apache.org/docs/latest/ml-features.html#vectorassembler) to create a new `features` column with all fields except `compressive_strength` and `age`. \n",
    "\n",
    "If needed, click the link above to see an example from the official pyspark documentation."
   ]
  },
  {
   "cell_type": "code",
   "execution_count": null,
   "metadata": {},
   "outputs": [],
   "source": []
  },
  {
   "cell_type": "markdown",
   "metadata": {},
   "source": [
    "Verify your assembler does what it needs to do:"
   ]
  },
  {
   "cell_type": "code",
   "execution_count": null,
   "metadata": {},
   "outputs": [],
   "source": []
  },
  {
   "cell_type": "markdown",
   "metadata": {},
   "source": [
    "`StandardScaler` transforms a dataset of Vector rows, normalizing each feature to have unit standard deviation and/or zero mean. It takes parameters:\n",
    "\n",
    "- `withStd`: True by default. Scales the data to unit standard deviation.\n",
    "- `withMean`: False by default. Centers the data with mean before scaling. It will build a dense output, so take care when applying to sparse input.\n",
    "\n",
    "6\\. Create an instance of [`StandardScaler`](https://spark.apache.org/docs/latest/ml-features.html#standardscaler) called `ss`\n",
    "\n",
    "- it should apply to `features` and create a new column `scaledfeatures`\n"
   ]
  },
  {
   "cell_type": "code",
   "execution_count": null,
   "metadata": {},
   "outputs": [],
   "source": []
  },
  {
   "cell_type": "markdown",
   "metadata": {},
   "source": [
    "Verify your standard scaler"
   ]
  },
  {
   "cell_type": "code",
   "execution_count": null,
   "metadata": {},
   "outputs": [],
   "source": []
  },
  {
   "cell_type": "markdown",
   "metadata": {},
   "source": [
    "7\\. Create an instance of [`Pipeline`](https://spark.apache.org/docs/latest/ml-pipeline.html#example-pipeline) called `pl`\n",
    "\n",
    "-  Its `stages` should include the SQLTransformer, VectorAssembler and StandardScaler."
   ]
  },
  {
   "cell_type": "code",
   "execution_count": null,
   "metadata": {},
   "outputs": [],
   "source": []
  },
  {
   "cell_type": "markdown",
   "metadata": {},
   "source": [
    "8\\. Use the `Pipeline` to transform the data and obtain a new dataframe, `transformed`"
   ]
  },
  {
   "cell_type": "code",
   "execution_count": null,
   "metadata": {},
   "outputs": [],
   "source": []
  },
  {
   "cell_type": "markdown",
   "metadata": {},
   "source": [
    "Inspect `scaledFeatures` and `features` column in the transformed dataset"
   ]
  },
  {
   "cell_type": "code",
   "execution_count": null,
   "metadata": {},
   "outputs": [],
   "source": []
  },
  {
   "cell_type": "markdown",
   "metadata": {},
   "source": [
    "## Part 2. Using Decision Tree Classifiers to Predict Car Value\n",
    "\n",
    "During this exercise, you will build a Spark ML Pipeline to encode categorical string variables as integers before using them to build a model. \n",
    "\n",
    "The data used for this exercise concerns various properties of cars, and whether or not these cars were\n",
    "classified as a good value. The target value to be predictive is `acceptability`, which is a categorical variable representing whether or not a car is considered acceptable for purchase. All other feature variables are also **categorical**.\n",
    "\n",
    "#|Field|Data Type |Description\n",
    "--|--|--|--\n",
    "0|buying|String|Based on selling price\n",
    "1|maint|String|Based on cost to maintain the vehicle\n",
    "2|doors|String|Number of doors\n",
    "3|persons|String|Passenger capacity\n",
    "4|lug_boot|String|Based on luggage boot size\n",
    "5|safety|String|Based on estimated safety of the vehicle\n",
    "6|acceptability|String|Based on overall acceptability of the vehicle"
   ]
  },
  {
   "cell_type": "markdown",
   "metadata": {},
   "source": [
    "10\\. Begin by importing the necessary modules for this exercise.\n",
    "\n",
    "If you’re using the Scala, you’ll use this code:\n",
    "```\n",
    "import org.apache.spark.ml.linalg.Vectors\n",
    "import org.apache.spark.ml.Pipeline\n",
    "import org.apache.spark.ml.feature.{StringIndexer,VectorAssembler}\n",
    "import org.apache.spark.ml.classification.DecisionTreeClassifier\n",
    "import org.apache.spark.ml.evaluation.MulticlassClassificationEvaluator\n",
    "```\n",
    "If you’re using the the PySpark, you’ll use this code:\n",
    "```\n",
    "from pyspark.ml.linalg import Vectors\n",
    "from pyspark.ml import Pipeline\n",
    "from pyspark.ml.feature import StringIndexer, VectorAssembler\n",
    "from pyspark.ml.classification import DecisionTreeClassifier\n",
    "from pyspark.ml.evaluation import MulticlassClassificationEvaluator\n",
    "```"
   ]
  },
  {
   "cell_type": "code",
   "execution_count": null,
   "metadata": {},
   "outputs": [],
   "source": []
  },
  {
   "cell_type": "markdown",
   "metadata": {},
   "source": [
    "\n",
    "1\\. Sample the first few lines of `cars_train.csv` using linux command(s), which helps you decide how to handle this file."
   ]
  },
  {
   "cell_type": "code",
   "execution_count": null,
   "metadata": {},
   "outputs": [],
   "source": []
  },
  {
   "cell_type": "markdown",
   "metadata": {},
   "source": [
    "2\\. Load the `cars_train.csv` file into a DataFrame named `train_df`. Verify its schema & content"
   ]
  },
  {
   "cell_type": "code",
   "execution_count": null,
   "metadata": {},
   "outputs": [],
   "source": []
  },
  {
   "cell_type": "markdown",
   "metadata": {},
   "source": [
    "4\\. Explore the `buying`, `doors`,`persons`,`acceptability` columns by showing their distinct values. What kinds of columns are these?"
   ]
  },
  {
   "cell_type": "code",
   "execution_count": null,
   "metadata": {},
   "outputs": [],
   "source": [
    "    "
   ]
  },
  {
   "cell_type": "markdown",
   "metadata": {},
   "source": [
    "5\\. Create a new [`StringIndexer`](https://spark.apache.org/docs/latest/api/python/pyspark.ml.html#pyspark.ml.feature.StringIndexer) for each of the columns, with the output column name in the form of `[colname]_ix` (for example, `buying` becomes `buying_ix`). Save these seven StringIndexers as `si1`, `si2`, `si3`, and so on.\n",
    "\n",
    "**Note**: the default sort order of `StringIndexer` is `frequencyDesc`, others include `frequencyAsc, alphabetDesc, alphabetAsc`. See the above link and click source to see more details."
   ]
  },
  {
   "cell_type": "code",
   "execution_count": null,
   "metadata": {},
   "outputs": [],
   "source": []
  },
  {
   "cell_type": "markdown",
   "metadata": {},
   "source": [
    "6\\. Next, create a `VectorAssembler` called `va` to assemble each of the indexed columns **except `accetability_ix`** into a new column called `features`. \n",
    "\n"
   ]
  },
  {
   "cell_type": "code",
   "execution_count": null,
   "metadata": {},
   "outputs": [],
   "source": []
  },
  {
   "cell_type": "markdown",
   "metadata": {},
   "source": [
    "7\\. Create a `DecisionTreeClassifier` \n",
    "\n",
    "- the label column should be `acceacceptability_ix` \n",
    "- the features column should be `features`. "
   ]
  },
  {
   "cell_type": "code",
   "execution_count": null,
   "metadata": {},
   "outputs": [],
   "source": []
  },
  {
   "cell_type": "markdown",
   "metadata": {},
   "source": [
    "8\\. Create a new Spark ML `Pipeline` called `pl` \n",
    "\n",
    "- the `steps` should include all of the `StringIndexer`s,  the `VectorAssembler`, and the `DecisionTreeClassifier`."
   ]
  },
  {
   "cell_type": "code",
   "execution_count": null,
   "metadata": {},
   "outputs": [],
   "source": []
  },
  {
   "cell_type": "markdown",
   "metadata": {},
   "source": [
    "9\\. Create a PipelineModel named `plmodel` by fitting the pipeline on `train_df`."
   ]
  },
  {
   "cell_type": "code",
   "execution_count": null,
   "metadata": {},
   "outputs": [],
   "source": []
  },
  {
   "cell_type": "markdown",
   "metadata": {},
   "source": [
    "10\\. Create a new DataFrame called `test_df` from the `cars_test.csv` dataset. "
   ]
  },
  {
   "cell_type": "code",
   "execution_count": null,
   "metadata": {},
   "outputs": [],
   "source": []
  },
  {
   "cell_type": "markdown",
   "metadata": {},
   "source": [
    "12\\. Applied the learned model on `test_df` and save the resultant DataFrame as `predictions`. \n",
    "\n",
    "- How many of the first 15 values in the `prediction` column match the values in the `acceptability_ix` column?  \n"
   ]
  },
  {
   "cell_type": "code",
   "execution_count": null,
   "metadata": {},
   "outputs": [],
   "source": []
  },
  {
   "cell_type": "markdown",
   "metadata": {},
   "source": [
    "13\\. Using [`MulticlassClassificationEvaluator`](https://spark.apache.org/docs/latest/api/python/pyspark.ml.html#pyspark.ml.evaluation.MulticlassClassificationEvaluator) to evaluate the predictions on the `accuracy` metric. "
   ]
  },
  {
   "cell_type": "code",
   "execution_count": null,
   "metadata": {},
   "outputs": [],
   "source": []
  }
 ],
 "metadata": {
  "kernelspec": {
   "display_name": "Pyspark (Py3)",
   "language": "",
   "name": "pyspark"
  },
  "language_info": {
   "codemirror_mode": {
    "name": "ipython",
    "version": 3
   },
   "file_extension": ".py",
   "mimetype": "text/x-python",
   "name": "python",
   "nbconvert_exporter": "python",
   "pygments_lexer": "ipython3",
   "version": "3.6.7"
  }
 },
 "nbformat": 4,
 "nbformat_minor": 2
}
