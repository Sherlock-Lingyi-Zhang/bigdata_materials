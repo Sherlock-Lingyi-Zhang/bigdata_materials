{
 "cells": [
  {
   "cell_type": "markdown",
   "metadata": {},
   "source": [
    "# Spark Lab 6: Use Spark SQL to Join and Aggregate Data (Solution)\n",
    "\n",
    "In this lab, we will learn a few things:\n",
    "\n",
    "- how to read json type (a specific kind with each row is a json-encoded record) data into Spark SQL\n",
    "- how to use SQL functions to do some more advanced data manipulations (e.g. split).\n",
    "- how to do Inner joins \n",
    "- how to do some reporting using windowing functions (more advanced, but optional).\n",
    "\n",
    "## Dataset\n",
    "\n",
    "We will use a few files distributed with `sparkdata.zip`. If you have not previously downloaded `sparkdata.zip`, you can download it from `http://idsdl.csom.umn.edu/c/share/sparkdata.zip` using `wget`. Alternatively, you can copy the URL in your browser and download it from there. \n",
    "\n",
    "- `loudacre/device.json`: list of devices\n",
    "- `loudacre/webpage.json`: inventory of webpages\n",
    "- `loudacre/websitehit.json`:  hits on webpage with device_id"
   ]
  },
  {
   "cell_type": "markdown",
   "metadata": {},
   "source": [
    "## Step 1. Inspect the Data"
   ]
  },
  {
   "cell_type": "markdown",
   "metadata": {},
   "source": [
    "First, you want to inspect the data so that you understand its format."
   ]
  },
  {
   "cell_type": "markdown",
   "metadata": {},
   "source": [
    "Use OS commands to view a sample of each json file"
   ]
  },
  {
   "cell_type": "code",
   "execution_count": 141,
   "metadata": {},
   "outputs": [
    {
     "name": "stdout",
     "output_type": "stream",
     "text": [
      "{\"web_page_num\": 1,\"web_page_file_name\": \"sorrento_f00l_sales.html\",\"associated_files\": \"theme.css,code.js,sorrento_f00l.jpg\"}\r",
      "\r\n",
      "{\"web_page_num\": 2,\"web_page_file_name\": \"titanic_2100_sales.html\",\"associated_files\": \"theme.css,code.js,titanic_2100.jpg\"}\r",
      "\r\n",
      "{\"web_page_num\": 3,\"web_page_file_name\": \"meetoo_3.0_sales.html\",\"associated_files\": \"theme.css,code.js,meetoo_3.0.jpg\"}\r",
      "\r\n",
      "{\"web_page_num\": 4,\"web_page_file_name\": \"meetoo_3.1_sales.html\",\"associated_files\": \"theme.css,code.js,meetoo_3.1.jpg\"}\r",
      "\r\n",
      "{\"web_page_num\": 5,\"web_page_file_name\": \"ifruit_1_sales.html\",\"associated_files\": \"theme.css,code.js,ifruit_1.jpg\"}\r",
      "\r\n",
      "{\"web_page_num\": 6,\"web_page_file_name\": \"ifruit_3_sales.html\",\"associated_files\": \"theme.css,code.js,ifruit_3.jpg\"}\r",
      "\r\n",
      "{\"web_page_num\": 7,\"web_page_file_name\": \"ifruit_2_sales.html\",\"associated_files\": \"theme.css,code.js,ifruit_2.jpg\"}\r",
      "\r\n",
      "{\"web_page_num\": 8,\"web_page_file_name\": \"ifruit_5_sales.html\",\"associated_files\": \"theme.css,code.js,ifruit_5.jpg\"}\r",
      "\r\n",
      "{\"web_page_num\": 9,\"web_page_file_name\": \"titanic_1000_sales.html\",\"associated_files\": \"theme.css,code.js,titanic_1000.jpg\"}\r",
      "\r\n",
      "{\"web_page_num\": 10,\"web_page_file_name\": \"meetoo_1.0_sales.html\",\"associated_files\": \"theme.css,code.js,meetoo_1.0.jpg\"}\r",
      "\r\n"
     ]
    }
   ],
   "source": [
    "!head sparkdata/loudacre/webpage.json"
   ]
  },
  {
   "cell_type": "code",
   "execution_count": 142,
   "metadata": {},
   "outputs": [
    {
     "name": "stdout",
     "output_type": "stream",
     "text": [
      "{\"device_num\": 1,\"release_dt\": \"2008-10-21 00:00:00\",\"device_name\": \"Sorrento F00L\",\"device_type\": \"phone\"}\r",
      "\r\n",
      "{\"device_num\": 2,\"release_dt\": \"2010-04-19 00:00:00\",\"device_name\": \"Titanic 2100\",\"device_type\": \"phone\"}\r",
      "\r\n",
      "{\"device_num\": 3,\"release_dt\": \"2011-02-18 00:00:00\",\"device_name\": \"MeeToo 3.0\",\"device_type\": \"phone\"}\r",
      "\r\n",
      "{\"device_num\": 4,\"release_dt\": \"2011-09-21 00:00:00\",\"device_name\": \"MeeToo 3.1\",\"device_type\": \"phone\"}\r",
      "\r\n",
      "{\"device_num\": 5,\"release_dt\": \"2008-10-21 00:00:00\",\"device_name\": \"iFruit 1\",\"device_type\": \"phone\"}\r",
      "\r\n",
      "{\"device_num\": 6,\"release_dt\": \"2011-11-02 00:00:00\",\"device_name\": \"iFruit 3\",\"device_type\": \"phone\"}\r",
      "\r\n",
      "{\"device_num\": 7,\"release_dt\": \"2010-05-20 00:00:00\",\"device_name\": \"iFruit 2\",\"device_type\": \"phone\"}\r",
      "\r\n",
      "{\"device_num\": 8,\"release_dt\": \"2013-07-02 00:00:00\",\"device_name\": \"iFruit 5\",\"device_type\": \"phone\"}\r",
      "\r\n",
      "{\"device_num\": 9,\"release_dt\": \"2008-10-21 00:00:00\",\"device_name\": \"Titanic 1000\",\"device_type\": \"phone\"}\r",
      "\r\n",
      "{\"device_num\": 10,\"release_dt\": \"2008-10-21 00:00:00\",\"device_name\": \"MeeToo 1.0\",\"device_type\": \"phone\"}\r",
      "\r\n"
     ]
    }
   ],
   "source": [
    "!head sparkdata/loudacre/device.json"
   ]
  },
  {
   "cell_type": "code",
   "execution_count": 143,
   "metadata": {},
   "outputs": [
    {
     "name": "stdout",
     "output_type": "stream",
     "text": [
      "{ \"hit_time\": \"2013-09-15 02:26:31\", \"web_page_id\": 25, \"device_id\": 34}\r",
      "\r\n",
      "{ \"hit_time\": \"2013-09-15 21:08:13\", \"web_page_id\": 14, \"device_id\": 33}\r",
      "\r\n",
      "{ \"hit_time\": \"2013-09-15 02:33:57\", \"web_page_id\": 8, \"device_id\": 2}\r",
      "\r\n",
      "{ \"hit_time\": \"2013-09-15 11:41:32\", \"web_page_id\": 19, \"device_id\": 10}\r",
      "\r\n",
      "{ \"hit_time\": \"2013-09-15 02:42:22\", \"web_page_id\": 46, \"device_id\": 15}\r",
      "\r\n",
      "{ \"hit_time\": \"2013-09-15 23:31:10\", \"web_page_id\": 22, \"device_id\": 20}\r",
      "\r\n",
      "{ \"hit_time\": \"2013-09-15 10:59:42\", \"web_page_id\": 45, \"device_id\": 33}\r",
      "\r\n",
      "{ \"hit_time\": \"2013-09-15 03:22:37\", \"web_page_id\": 31, \"device_id\": 1}\r",
      "\r\n",
      "{ \"hit_time\": \"2013-09-15 09:04:35\", \"web_page_id\": 41, \"device_id\": 6}\r",
      "\r\n",
      "{ \"hit_time\": \"2013-09-15 07:05:25\", \"web_page_id\": 32, \"device_id\": 47}\r",
      "\r\n"
     ]
    }
   ],
   "source": [
    "!head sparkdata/loudacre/websitehit.json"
   ]
  },
  {
   "cell_type": "markdown",
   "metadata": {},
   "source": [
    "**Question**: \n",
    "- given the format, what is the best way to read these files?  \n",
    "- Do we have consistent field names across tables?"
   ]
  },
  {
   "cell_type": "markdown",
   "metadata": {},
   "source": [
    "**Answer**:\n",
    "- It is best to use json reader (each row is a json-encoded record)\n",
    "- The names are inconsistent, e.g. device_id and device_num"
   ]
  },
  {
   "cell_type": "markdown",
   "metadata": {},
   "source": [
    "## Step 2. Read, Inspect, and Analyze `webpage`"
   ]
  },
  {
   "cell_type": "markdown",
   "metadata": {},
   "source": [
    "First load `webpage.json` into a DataFrame called `webpage`"
   ]
  },
  {
   "cell_type": "code",
   "execution_count": 76,
   "metadata": {},
   "outputs": [],
   "source": [
    "webpage = spark.read.json(\"sparkdata/loudacre/webpage.json\")"
   ]
  },
  {
   "cell_type": "markdown",
   "metadata": {},
   "source": [
    "Inspect the schema and first 20 rows. Fix any issue, if any, before you proceed.\n",
    "\n",
    "**tip**: use `show(truncate=False)` to show long fields completely."
   ]
  },
  {
   "cell_type": "code",
   "execution_count": 77,
   "metadata": {},
   "outputs": [
    {
     "name": "stdout",
     "output_type": "stream",
     "text": [
      "root\n",
      " |-- associated_files: string (nullable = true)\n",
      " |-- web_page_file_name: string (nullable = true)\n",
      " |-- web_page_num: long (nullable = true)\n",
      "\n"
     ]
    }
   ],
   "source": [
    "webpage.printSchema()"
   ]
  },
  {
   "cell_type": "code",
   "execution_count": 123,
   "metadata": {},
   "outputs": [
    {
     "name": "stdout",
     "output_type": "stream",
     "text": [
      "+------------------------------------------+-------------------------------+------------+\n",
      "|associated_files                          |web_page_file_name             |web_page_num|\n",
      "+------------------------------------------+-------------------------------+------------+\n",
      "|theme.css,code.js,sorrento_f00l.jpg       |sorrento_f00l_sales.html       |1           |\n",
      "|theme.css,code.js,titanic_2100.jpg        |titanic_2100_sales.html        |2           |\n",
      "|theme.css,code.js,meetoo_3.0.jpg          |meetoo_3.0_sales.html          |3           |\n",
      "|theme.css,code.js,meetoo_3.1.jpg          |meetoo_3.1_sales.html          |4           |\n",
      "|theme.css,code.js,ifruit_1.jpg            |ifruit_1_sales.html            |5           |\n",
      "|theme.css,code.js,ifruit_3.jpg            |ifruit_3_sales.html            |6           |\n",
      "|theme.css,code.js,ifruit_2.jpg            |ifruit_2_sales.html            |7           |\n",
      "|theme.css,code.js,ifruit_5.jpg            |ifruit_5_sales.html            |8           |\n",
      "|theme.css,code.js,titanic_1000.jpg        |titanic_1000_sales.html        |9           |\n",
      "|theme.css,code.js,meetoo_1.0.jpg          |meetoo_1.0_sales.html          |10          |\n",
      "|theme.css,code.js,sorrento_f21l.jpg       |sorrento_f21l_sales.html       |11          |\n",
      "|theme.css,code.js,ifruit_4.jpg            |ifruit_4_sales.html            |12          |\n",
      "|theme.css,code.js,sorrento_f23l.jpg       |sorrento_f23l_sales.html       |13          |\n",
      "|theme.css,code.js,titanic_2200.jpg        |titanic_2200_sales.html        |14          |\n",
      "|theme.css,code.js,ronin_novelty_note_1.jpg|ronin_novelty_note_1_sales.html|15          |\n",
      "|theme.css,code.js,titanic_2500.jpg        |titanic_2500_sales.html        |16          |\n",
      "|theme.css,code.js,ronin_novelty_note_3.jpg|ronin_novelty_note_3_sales.html|17          |\n",
      "|theme.css,code.js,ronin_novelty_note_2.jpg|ronin_novelty_note_2_sales.html|18          |\n",
      "|theme.css,code.js,ronin_novelty_note_4.jpg|ronin_novelty_note_4_sales.html|19          |\n",
      "|theme.css,code.js,ifruit_3a.jpg           |ifruit_3a_sales.html           |20          |\n",
      "+------------------------------------------+-------------------------------+------------+\n",
      "only showing top 20 rows\n",
      "\n"
     ]
    }
   ],
   "source": [
    "webpage.show(truncate=False)"
   ]
  },
  {
   "cell_type": "markdown",
   "metadata": {},
   "source": [
    "You notice that the associated_files lists multiple files separated by commas. Next we want to list these files individually, such as:\n",
    "\n",
    "```\n",
    "+------------+-----------------+\n",
    "|web_page_num|       assoc_file|\n",
    "+------------+-----------------+\n",
    "|           1|        theme.css|\n",
    "|           1|          code.js|\n",
    "|           1|sorrento_f00l.jpg|\n",
    "|           2|        theme.css|\n",
    "|           2|          code.js|\n",
    "|           2| titanic_2100.jpg|\n",
    "```\n",
    "\n",
    "Achive the above goal (this helps, for example, you to run query on file hits).\n",
    "\n",
    "- i.e. create a dataframe `page_files` with `web_page_num` and `assoc_file`\n",
    "\n",
    "**Hint**: consider using Spark SQL functions to first split the field, then explode it."
   ]
  },
  {
   "cell_type": "code",
   "execution_count": 79,
   "metadata": {},
   "outputs": [],
   "source": [
    "import pyspark.sql.functions as f"
   ]
  },
  {
   "cell_type": "code",
   "execution_count": 80,
   "metadata": {},
   "outputs": [],
   "source": [
    "page_files = webpage.select(\"web_page_num\", \\\n",
    "             f.explode(f.split(webpage.associated_files,\",\")).alias(\"assoc_file\"))"
   ]
  },
  {
   "cell_type": "markdown",
   "metadata": {},
   "source": [
    "Verify what you obtain:"
   ]
  },
  {
   "cell_type": "code",
   "execution_count": 81,
   "metadata": {},
   "outputs": [
    {
     "name": "stdout",
     "output_type": "stream",
     "text": [
      "+------------+-----------------+\n",
      "|web_page_num|       assoc_file|\n",
      "+------------+-----------------+\n",
      "|           1|        theme.css|\n",
      "|           1|          code.js|\n",
      "|           1|sorrento_f00l.jpg|\n",
      "|           2|        theme.css|\n",
      "|           2|          code.js|\n",
      "|           2| titanic_2100.jpg|\n",
      "|           3|        theme.css|\n",
      "|           3|          code.js|\n",
      "|           3|   meetoo_3.0.jpg|\n",
      "|           4|        theme.css|\n",
      "|           4|          code.js|\n",
      "|           4|   meetoo_3.1.jpg|\n",
      "|           5|        theme.css|\n",
      "|           5|          code.js|\n",
      "|           5|     ifruit_1.jpg|\n",
      "|           6|        theme.css|\n",
      "|           6|          code.js|\n",
      "|           6|     ifruit_3.jpg|\n",
      "|           7|        theme.css|\n",
      "|           7|          code.js|\n",
      "+------------+-----------------+\n",
      "only showing top 20 rows\n",
      "\n"
     ]
    }
   ],
   "source": [
    "page_files.show()"
   ]
  },
  {
   "cell_type": "markdown",
   "metadata": {},
   "source": [
    "To practice JOIN with Spark, we ask you to join the `webpage` and `page_files`\n"
   ]
  },
  {
   "cell_type": "code",
   "execution_count": 82,
   "metadata": {},
   "outputs": [],
   "source": [
    "webpage_files = webpage.join(page_files, \"web_page_num\") \\\n",
    "    .select(\"web_page_num\",\"web_page_file_name\",page_files.assoc_file)"
   ]
  },
  {
   "cell_type": "markdown",
   "metadata": {},
   "source": [
    "Verify your results"
   ]
  },
  {
   "cell_type": "code",
   "execution_count": 83,
   "metadata": {},
   "outputs": [
    {
     "name": "stdout",
     "output_type": "stream",
     "text": [
      "+------------+--------------------+-----------------+\n",
      "|web_page_num|  web_page_file_name|             file|\n",
      "+------------+--------------------+-----------------+\n",
      "|           1|sorrento_f00l_sal...|sorrento_f00l.jpg|\n",
      "|           1|sorrento_f00l_sal...|          code.js|\n",
      "|           1|sorrento_f00l_sal...|        theme.css|\n",
      "|           2|titanic_2100_sale...| titanic_2100.jpg|\n",
      "|           2|titanic_2100_sale...|          code.js|\n",
      "|           2|titanic_2100_sale...|        theme.css|\n",
      "|           3|meetoo_3.0_sales....|   meetoo_3.0.jpg|\n",
      "|           3|meetoo_3.0_sales....|          code.js|\n",
      "|           3|meetoo_3.0_sales....|        theme.css|\n",
      "|           4|meetoo_3.1_sales....|   meetoo_3.1.jpg|\n",
      "|           4|meetoo_3.1_sales....|          code.js|\n",
      "|           4|meetoo_3.1_sales....|        theme.css|\n",
      "|           5| ifruit_1_sales.html|     ifruit_1.jpg|\n",
      "|           5| ifruit_1_sales.html|          code.js|\n",
      "|           5| ifruit_1_sales.html|        theme.css|\n",
      "|           6| ifruit_3_sales.html|     ifruit_3.jpg|\n",
      "|           6| ifruit_3_sales.html|          code.js|\n",
      "|           6| ifruit_3_sales.html|        theme.css|\n",
      "|           7| ifruit_2_sales.html|     ifruit_2.jpg|\n",
      "|           7| ifruit_2_sales.html|          code.js|\n",
      "+------------+--------------------+-----------------+\n",
      "only showing top 20 rows\n",
      "\n"
     ]
    }
   ],
   "source": [
    "webpage_files.show()"
   ]
  },
  {
   "cell_type": "markdown",
   "metadata": {},
   "source": [
    "## Step 3: Find top most-used devices for each page (optional, more challenging)"
   ]
  },
  {
   "cell_type": "markdown",
   "metadata": {},
   "source": [
    "When a user visits a page using a device, this gets saved to `websitehit`. We want to analyze **for each webpage, what are the top 2 devices used for visiting this page**? \n",
    "\n",
    "This is most conveniently accomplished using Spark SQL's window functions (in particular its `rank()` function, because if you can get the rank of records by # of hits per device, then you can filter the dataset by rank to show just the first two). if you need refresher of window functions, you can visit [https://databricks.com/blog/2015/07/15/introducing-window-functions-in-spark-sql.html](https://databricks.com/blog/2015/07/15/introducing-window-functions-in-spark-sql.html).\n",
    "\n",
    "\n",
    "But before you can get the top ranks, you may first need to aggregate the data to get the # of hits.\n",
    "\n",
    "In the end, we want you to show something like this (some table joins are needed, think about when you should do joins):\n",
    "\n",
    "```\n",
    "+-------------------------------+-------------+----+\n",
    "|web_page_file_name             |device_name  |hits|\n",
    "+-------------------------------+-------------+----+\n",
    "|sorrento_f30l_sales.html       |Sorrento F41L|125 |\n",
    "|sorrento_f30l_sales.html       |Titanic 1100 |68  |\n",
    "|sorrento_f41l_sales.html       |Sorrento F41L|116 |\n",
    "|sorrento_f41l_sales.html       |Titanic 1000 |64  |\n",
    "|ronin_novelty_note_4_sales.html|Sorrento F41L|123 |\n",
    "|ronin_novelty_note_4_sales.html|Titanic 1100 |63  |\n",
    "|sorrento_f24l_sales.html       |Sorrento F41L|122 |\n",
    "|sorrento_f24l_sales.html       |Titanic 1100 |63  |\n",
    "```\n"
   ]
  },
  {
   "cell_type": "code",
   "execution_count": 85,
   "metadata": {},
   "outputs": [],
   "source": [
    "hits = spark.read.json(\"sparkdata/loudacre/websitehit.json\")"
   ]
  },
  {
   "cell_type": "code",
   "execution_count": 86,
   "metadata": {},
   "outputs": [],
   "source": [
    "devices = spark.read.json(\"sparkdata/loudacre/device.json\")"
   ]
  },
  {
   "cell_type": "code",
   "execution_count": 87,
   "metadata": {},
   "outputs": [
    {
     "name": "stdout",
     "output_type": "stream",
     "text": [
      "+---------+-------------------+-----------+\n",
      "|device_id|           hit_time|web_page_id|\n",
      "+---------+-------------------+-----------+\n",
      "|       34|2013-09-15 02:26:31|         25|\n",
      "|       33|2013-09-15 21:08:13|         14|\n",
      "|        2|2013-09-15 02:33:57|          8|\n",
      "|       10|2013-09-15 11:41:32|         19|\n",
      "|       15|2013-09-15 02:42:22|         46|\n",
      "|       20|2013-09-15 23:31:10|         22|\n",
      "|       33|2013-09-15 10:59:42|         45|\n",
      "|        1|2013-09-15 03:22:37|         31|\n",
      "|        6|2013-09-15 09:04:35|         41|\n",
      "|       47|2013-09-15 07:05:25|         32|\n",
      "|       38|2013-09-15 08:11:10|         34|\n",
      "|       38|2013-09-15 07:53:58|         33|\n",
      "|       34|2013-09-15 07:19:51|         28|\n",
      "|       10|2013-09-15 13:15:15|         50|\n",
      "|       35|2013-09-15 16:59:46|          5|\n",
      "|       14|2013-09-15 00:16:56|          8|\n",
      "|       44|2013-09-15 00:19:40|         40|\n",
      "|        6|2013-09-15 21:29:20|         19|\n",
      "|       26|2013-09-15 19:03:05|         29|\n",
      "|       33|2013-09-15 02:56:19|         22|\n",
      "+---------+-------------------+-----------+\n",
      "only showing top 20 rows\n",
      "\n"
     ]
    }
   ],
   "source": [
    "hits.show()"
   ]
  },
  {
   "cell_type": "code",
   "execution_count": 113,
   "metadata": {},
   "outputs": [
    {
     "name": "stdout",
     "output_type": "stream",
     "text": [
      "+--------------------+----------+-----------+-------------------+\n",
      "|         device_name|device_num|device_type|         release_dt|\n",
      "+--------------------+----------+-----------+-------------------+\n",
      "|       Sorrento F00L|         1|      phone|2008-10-21 00:00:00|\n",
      "|        Titanic 2100|         2|      phone|2010-04-19 00:00:00|\n",
      "|          MeeToo 3.0|         3|      phone|2011-02-18 00:00:00|\n",
      "|          MeeToo 3.1|         4|      phone|2011-09-21 00:00:00|\n",
      "|            iFruit 1|         5|      phone|2008-10-21 00:00:00|\n",
      "|            iFruit 3|         6|      phone|2011-11-02 00:00:00|\n",
      "|            iFruit 2|         7|      phone|2010-05-20 00:00:00|\n",
      "|            iFruit 5|         8|      phone|2013-07-02 00:00:00|\n",
      "|        Titanic 1000|         9|      phone|2008-10-21 00:00:00|\n",
      "|          MeeToo 1.0|        10|      phone|2008-10-21 00:00:00|\n",
      "|       Sorrento F21L|        11|      phone|2011-02-28 00:00:00|\n",
      "|            iFruit 4|        12|      phone|2012-10-25 00:00:00|\n",
      "|       Sorrento F23L|        13|      phone|2011-11-21 00:00:00|\n",
      "|        Titanic 2200|        14|      phone|2010-05-25 00:00:00|\n",
      "|Ronin Novelty Note 1|        15|      phone|2010-06-20 00:00:00|\n",
      "|        Titanic 2500|        16|      phone|2012-07-21 00:00:00|\n",
      "|Ronin Novelty Note 3|        17|      phone|2013-04-11 00:00:00|\n",
      "|Ronin Novelty Note 2|        18|      phone|2011-10-02 00:00:00|\n",
      "|Ronin Novelty Note 4|        19|      phone|2013-07-02 00:00:00|\n",
      "|           iFruit 3A|        20|      phone|2012-07-21 00:00:00|\n",
      "+--------------------+----------+-----------+-------------------+\n",
      "only showing top 20 rows\n",
      "\n"
     ]
    }
   ],
   "source": [
    "devices.show()"
   ]
  },
  {
   "cell_type": "code",
   "execution_count": 88,
   "metadata": {},
   "outputs": [],
   "source": [
    "hits.createOrReplaceTempView(\"hits\")"
   ]
  },
  {
   "cell_type": "code",
   "execution_count": 127,
   "metadata": {
    "scrolled": true
   },
   "outputs": [],
   "source": [
    "stat = spark.sql(\"\"\"\n",
    "    select web_page_id, device_id, count(*) as hits \n",
    "    from hits \n",
    "    group by web_page_id, device_id \n",
    "    order by web_page_id, count(*) desc\n",
    "\"\"\").cache()"
   ]
  },
  {
   "cell_type": "code",
   "execution_count": 128,
   "metadata": {},
   "outputs": [
    {
     "name": "stdout",
     "output_type": "stream",
     "text": [
      "+-----------+---------+----+\n",
      "|web_page_id|device_id|hits|\n",
      "+-----------+---------+----+\n",
      "|          1|       29| 120|\n",
      "|          1|        1|  62|\n",
      "|          1|       38|  61|\n",
      "|          1|       43|  56|\n",
      "|          1|       10|  53|\n",
      "|          1|        9|  51|\n",
      "|          1|       27|  43|\n",
      "|          1|       23|  42|\n",
      "|          1|        5|  42|\n",
      "|          1|        7|  42|\n",
      "|          1|       15|  38|\n",
      "|          1|        2|  38|\n",
      "|          1|       34|  38|\n",
      "|          1|       47|  37|\n",
      "|          1|       33|  34|\n",
      "|          1|       44|  33|\n",
      "|          1|       21|  32|\n",
      "|          1|       45|  30|\n",
      "|          1|       14|  29|\n",
      "|          1|        3|  27|\n",
      "+-----------+---------+----+\n",
      "only showing top 20 rows\n",
      "\n"
     ]
    }
   ],
   "source": [
    "stat.show()"
   ]
  },
  {
   "cell_type": "code",
   "execution_count": 129,
   "metadata": {},
   "outputs": [],
   "source": [
    "from pyspark.sql.window import Window\n",
    "\n",
    "wind = Window.partitionBy(stat.web_page_id).orderBy(stat.hits.desc())\n"
   ]
  },
  {
   "cell_type": "code",
   "execution_count": 136,
   "metadata": {},
   "outputs": [],
   "source": [
    "top2 = stat.select(\"web_page_id\",\"device_id\",\"hits\", \\\n",
    "    f.dense_rank().over(wind).alias(\"r\")).where(\"r<3\")\n"
   ]
  },
  {
   "cell_type": "code",
   "execution_count": 137,
   "metadata": {},
   "outputs": [
    {
     "name": "stdout",
     "output_type": "stream",
     "text": [
      "+-----------+---------+----+---+\n",
      "|web_page_id|device_id|hits|  r|\n",
      "+-----------+---------+----+---+\n",
      "|         26|       29| 125|  1|\n",
      "|         26|       38|  68|  2|\n",
      "|         29|       29| 116|  1|\n",
      "|         29|        9|  64|  2|\n",
      "|         19|       29| 123|  1|\n",
      "|         19|       38|  63|  2|\n",
      "|         22|       29| 122|  1|\n",
      "|         22|       38|  63|  2|\n",
      "|          7|       29| 121|  1|\n",
      "|          7|        1|  67|  2|\n",
      "|         34|       29| 122|  1|\n",
      "|         34|        1|  56|  2|\n",
      "|         34|       38|  56|  2|\n",
      "|         34|        5|  56|  2|\n",
      "|         50|       29| 128|  1|\n",
      "|         50|       10|  64|  2|\n",
      "|         32|       29| 145|  1|\n",
      "|         32|       38|  52|  2|\n",
      "|         43|       29| 113|  1|\n",
      "|         43|       38|  61|  2|\n",
      "+-----------+---------+----+---+\n",
      "only showing top 20 rows\n",
      "\n"
     ]
    }
   ],
   "source": [
    "top2.show()"
   ]
  },
  {
   "cell_type": "markdown",
   "metadata": {},
   "source": [
    "how we try to join tables to proper names."
   ]
  },
  {
   "cell_type": "code",
   "execution_count": 138,
   "metadata": {},
   "outputs": [],
   "source": [
    "top2_revised = top2.join(devices, top2.device_id == devices.device_num) \\\n",
    "    .join(webpage, top2.web_page_id == webpage.web_page_num) \\\n",
    "    .select(webpage.web_page_file_name, devices.device_name, top2.hits)"
   ]
  },
  {
   "cell_type": "code",
   "execution_count": 140,
   "metadata": {},
   "outputs": [
    {
     "name": "stdout",
     "output_type": "stream",
     "text": [
      "+-------------------------------+-------------+----+\n",
      "|web_page_file_name             |device_name  |hits|\n",
      "+-------------------------------+-------------+----+\n",
      "|sorrento_f30l_sales.html       |Sorrento F41L|125 |\n",
      "|sorrento_f30l_sales.html       |Titanic 1100 |68  |\n",
      "|sorrento_f41l_sales.html       |Sorrento F41L|116 |\n",
      "|sorrento_f41l_sales.html       |Titanic 1000 |64  |\n",
      "|ronin_novelty_note_4_sales.html|Sorrento F41L|123 |\n",
      "|ronin_novelty_note_4_sales.html|Titanic 1100 |63  |\n",
      "|sorrento_f24l_sales.html       |Sorrento F41L|122 |\n",
      "|sorrento_f24l_sales.html       |Titanic 1100 |63  |\n",
      "|ifruit_2_sales.html            |Sorrento F41L|121 |\n",
      "|ifruit_2_sales.html            |Sorrento F00L|67  |\n",
      "|titanic_2000_sales.html        |Sorrento F41L|122 |\n",
      "|titanic_2000_sales.html        |Sorrento F00L|56  |\n",
      "|titanic_2000_sales.html        |Titanic 1100 |56  |\n",
      "|titanic_2000_sales.html        |iFruit 1     |56  |\n",
      "|ifruit_5a_sales.html           |Sorrento F41L|128 |\n",
      "|ifruit_5a_sales.html           |MeeToo 1.0   |64  |\n",
      "|meetoo_4.0_sales.html          |Sorrento F41L|145 |\n",
      "|meetoo_4.0_sales.html          |Titanic 1100 |52  |\n",
      "|sorrento_f01l_sales.html       |Sorrento F41L|113 |\n",
      "|sorrento_f01l_sales.html       |Titanic 1100 |61  |\n",
      "+-------------------------------+-------------+----+\n",
      "only showing top 20 rows\n",
      "\n"
     ]
    }
   ],
   "source": [
    "top2_revised.show(truncate=False)"
   ]
  },
  {
   "cell_type": "code",
   "execution_count": null,
   "metadata": {
    "collapsed": true
   },
   "outputs": [],
   "source": []
  }
 ],
 "metadata": {
  "kernelspec": {
   "display_name": "Python 3",
   "language": "python",
   "name": "python3"
  },
  "language_info": {
   "codemirror_mode": {
    "name": "ipython",
    "version": 3
   },
   "file_extension": ".py",
   "mimetype": "text/x-python",
   "name": "python",
   "nbconvert_exporter": "python",
   "pygments_lexer": "ipython3",
   "version": "3.7.3"
  }
 },
 "nbformat": 4,
 "nbformat_minor": 2
}
