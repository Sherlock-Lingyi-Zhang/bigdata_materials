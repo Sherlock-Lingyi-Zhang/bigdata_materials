{
 "cells": [
  {
   "cell_type": "markdown",
   "metadata": {},
   "source": [
    "# Lab 15 Amazon DynamoDB\n",
    "\n",
    "### Step 1: To install the AWS CLI version 1 with pip3 (Windows)\n",
    "\n",
    "If you're using a Mac Computer, the installation instruction is here https://docs.aws.amazon.com/cli/latest/userguide/install-macos.html\n",
    "\n",
    "If you use Python version 3+, we recommend that you use the pip3 command.\n",
    "\n",
    "Open the Command Prompt from the Start menu.\n",
    "\n",
    "Install the AWS CLI version 1 using pip.\n",
    "\n",
    "```\n",
    "pip3 install awscli\n",
    "```\n",
    "\n",
    "Verify that the AWS CLI version 1 is installed correctly.\n",
    "\n",
    "```\n",
    "aws --version\n",
    "# aws-cli/1.16.273 Python/3.7.3 Windows/10 botocore/1.13.0\n",
    "```\n",
    "\n",
    "if the `aws --version` command fails due to unrecognized `aws` command, please refer to the documentation here on how to set up the path variables\n",
    "https://docs.aws.amazon.com/cli/latest/userguide/install-windows.html\n"
   ]
  },
  {
   "cell_type": "markdown",
   "metadata": {},
   "source": [
    "### Step 2: Create AWS User credential\n",
    "\n",
    "In order to connect to AWS via boto3, we need a user with appropriate privilege. for the purpose of this lab, we need this user to have full access to s3 and dynamodb.\n",
    "\n",
    "1. Go to AWS console for IAM (identity and access management): https://console.aws.amazon.com/iam/home#/home\n",
    "\n",
    "2. Click **`users`** on the left-hand menu, then \"**Add user**\"\n",
    "\n",
    "![Add users](iam.jpg)\n",
    "\n",
    "3. Give the user a name such as \"dynamodb_lab\", check **\"programmatic access\"**, then click \"**Next: permissions**\"\n",
    "\n",
    "4. At the permission page, check attach existing policies directory, search for **s3**, and check \"**AmazonS3FullAccess**\", and then search for \"dynamodb\" and check \"**AmazonDynamoDBFullAccess**\".\n",
    "\n",
    "5. Accept the default on the rest pages. In the review page, make sure ou see \"AmazonS3FullAccess\" and \"AmazonDynamoDBFullAccess\" policies selected. Then **create user**.\n",
    "\n",
    "![review policy](review.jpg)\n",
    "\n",
    "6. Save the **Secret access key** for later use (you will be shown this only once)."
   ]
  },
  {
   "cell_type": "markdown",
   "metadata": {},
   "source": [
    "### Step 3: Configure and Test AWS CLI\n",
    "\n",
    "At the command line, enter\n",
    "\n",
    "```\n",
    "aws configure\n",
    "```\n",
    "\n",
    "It will ask you for:\n",
    "- aws_access_key_id: enter the access key id you've just created\n",
    "- aws_secret_access_key: enter the access key secret you have just saved\n",
    "- region: enter `us-east-1`\n",
    "- accept default with others: by hit \"enter\"\n",
    "\n"
   ]
  },
  {
   "cell_type": "markdown",
   "metadata": {},
   "source": [
    "### Step 4: test your AWS connection with S3 bucket operations"
   ]
  },
  {
   "cell_type": "markdown",
   "metadata": {},
   "source": [
    "To use Boto 3, you must first import it and tell it what service you are going to use:"
   ]
  },
  {
   "cell_type": "code",
   "execution_count": null,
   "metadata": {},
   "outputs": [],
   "source": [
    "import boto3\n",
    "\n",
    "# Let's use Amazon S3\n",
    "s3 = boto3.resource('s3')"
   ]
  },
  {
   "cell_type": "markdown",
   "metadata": {},
   "source": [
    "Now that you have an `s3` resource, you can make requests and process responses from the service. The following uses the `buckets` collection to print out all bucket names:"
   ]
  },
  {
   "cell_type": "code",
   "execution_count": null,
   "metadata": {},
   "outputs": [],
   "source": [
    "# Print out bucket names\n",
    "for bucket in s3.buckets.all():\n",
    "    print(bucket.name)"
   ]
  },
  {
   "cell_type": "markdown",
   "metadata": {},
   "source": [
    "It's also easy to upload and download binary data. For example, the following uploads a new file to S3. Replace `'msbabigdata'` with one of your own existing bucket."
   ]
  },
  {
   "cell_type": "code",
   "execution_count": null,
   "metadata": {},
   "outputs": [],
   "source": [
    "# Upload a new file\n",
    "data = open('aws.png', 'rb')"
   ]
  },
  {
   "cell_type": "code",
   "execution_count": null,
   "metadata": {},
   "outputs": [],
   "source": [
    "mybucket = 'msbabigdata'\n",
    "s3.Bucket(mybucket).put_object(Key='aws.png', Body=data)"
   ]
  },
  {
   "cell_type": "markdown",
   "metadata": {},
   "source": [
    "To verify that the file has been uploaded, use the following script:"
   ]
  },
  {
   "cell_type": "code",
   "execution_count": null,
   "metadata": {},
   "outputs": [],
   "source": [
    "for my_object in s3.Bucket(mybucket).objects.filter(Prefix=\"aws\"):\n",
    "    print(my_object.key)"
   ]
  },
  {
   "cell_type": "markdown",
   "metadata": {},
   "source": [
    "The delete the uploaded file"
   ]
  },
  {
   "cell_type": "code",
   "execution_count": null,
   "metadata": {},
   "outputs": [],
   "source": [
    "s3.Object(mybucket,'aws.png').delete()"
   ]
  },
  {
   "cell_type": "markdown",
   "metadata": {},
   "source": [
    "Verify again (expect no result)"
   ]
  },
  {
   "cell_type": "code",
   "execution_count": null,
   "metadata": {},
   "outputs": [],
   "source": [
    "for my_object in s3.Bucket(mybucket).objects.filter(Prefix=\"aws\"):\n",
    "    print(my_object.key)"
   ]
  },
  {
   "cell_type": "markdown",
   "metadata": {},
   "source": [
    "### Step 5: Dynamdb Operations\n",
    "\n",
    "By following this guide, you will learn how to use the [`DynamoDB.ServiceResource`](https://boto3.amazonaws.com/v1/documentation/api/latest/reference/services/dynamodb.html#DynamoDB.ServiceResource.create_table) and [`DynamoDB.Table`](https://boto3.amazonaws.com/v1/documentation/api/latest/reference/services/dynamodb.html#DynamoDB.Table) resources in order to create tables, write items to tables, modify existing items, retrieve items, and query/filter the items in the table.\n",
    "\n",
    "The documentation for boto3 can be found [here](https://boto3.amazonaws.com/v1/documentation/api/latest/reference/services/dynamodb.html). \n",
    "\n",
    "#### 1. Create a table"
   ]
  },
  {
   "cell_type": "markdown",
   "metadata": {},
   "source": [
    "In order to create a new table, use the [`DynamoDB.ServiceResource.create_table()`](https://boto3.amazonaws.com/v1/documentation/api/latest/reference/services/dynamodb.html#DynamoDB.Client.create_table) method. For example:\n",
    "\n",
    "```python\n",
    "import boto3\n",
    "\n",
    "# Get the service resource.\n",
    "dynamodb = boto3.resource('dynamodb')\n",
    "\n",
    "# Create the DynamoDB table.\n",
    "table = dynamodb.create_table(\n",
    "    TableName='music',\n",
    "    KeySchema=[\n",
    "        {\n",
    "            'AttributeName': 'Artist',\n",
    "            'KeyType': 'HASH'   # indicate partition key\n",
    "        },\n",
    "        {\n",
    "            'AttributeName': 'songTitle',\n",
    "            'KeyType': 'RANGE'  # indicate sort key\n",
    "        }\n",
    "    ],\n",
    "    AttributeDefinitions=[\n",
    "        {\n",
    "            'AttributeName': 'Artist',\n",
    "            'AttributeType': 'S'   # other values include 'S'|'N'|'B'\n",
    "        },\n",
    "        {\n",
    "            'AttributeName': 'songTitle',\n",
    "            'AttributeType': 'S'\n",
    "        },\n",
    "    ],\n",
    "    ProvisionedThroughput={\n",
    "        'ReadCapacityUnits': 5,\n",
    "        'WriteCapacityUnits': 5\n",
    "    }\n",
    ")\n",
    "\n",
    "# Wait until the table exists.\n",
    "table.meta.client.get_waiter('table_exists').wait(TableName='music')\n",
    "\n",
    "# Print out some data about the table.\n",
    "print(table.item_count)\n",
    "# expect: 0\n",
    "```\n",
    "\n",
    "Following the above example, create a table of `users` with `username` and `last_name` as partition and sort keys respectively.\n"
   ]
  },
  {
   "cell_type": "code",
   "execution_count": null,
   "metadata": {},
   "outputs": [],
   "source": []
  },
  {
   "cell_type": "markdown",
   "metadata": {},
   "source": [
    "#### 2\\. Using an Existing Table\n",
    "\n",
    "It is also possible to create a [DynamoDB.Table](https://boto3.amazonaws.com/v1/documentation/api/latest/reference/services/dynamodb.html#DynamoDB.Table) resource from an existing table:\n",
    "\n"
   ]
  },
  {
   "cell_type": "code",
   "execution_count": null,
   "metadata": {},
   "outputs": [],
   "source": [
    "# Instantiate a table resource object without actually\n",
    "# creating a DynamoDB table. Note that the attributes of this table\n",
    "# are lazy-loaded: a request is not made nor are the attribute\n",
    "# values populated until the attributes\n",
    "# on the table resource are accessed or its load() method is called.\n",
    "table = dynamodb.Table('users')\n",
    "\n",
    "# Print out some data about the table.\n",
    "# This will cause a request to be made to DynamoDB and its attribute\n",
    "# values will be set based on the response.\n",
    "print(table.creation_date_time)"
   ]
  },
  {
   "cell_type": "markdown",
   "metadata": {},
   "source": [
    "#### 3\\. Creating a New Item\n",
    "\n",
    "\n",
    "Once you have a DynamoDB.Table resource you can add new items to the table using `DynamoDB.Table.put_item()` ([documentation](https://boto3.amazonaws.com/v1/documentation/api/latest/reference/services/dynamodb.html#DynamoDB.Client.put_item)). For example:\n",
    "\n",
    "```python\n",
    "table.put_item(\n",
    "   Item={\n",
    "        'Artist': 'Celine Dion',\n",
    "        'songTitle': 'Courage',  \n",
    "        'writers':['Stephan Moccio','Erik Alcock','Rodrigues'],\n",
    "        'releaseDate':2019\n",
    "    }\n",
    ")\n",
    "```\n",
    "\n",
    "Following the above example, add a new user into the `users` table with the following info.\n",
    "\n",
    "- `username`: janedoe\n",
    "- `first_name`: Jane\n",
    "- `last_name`: Doe\n",
    "- `age`: 25\n",
    "- `account_type`: standard_user"
   ]
  },
  {
   "cell_type": "code",
   "execution_count": null,
   "metadata": {},
   "outputs": [],
   "source": []
  },
  {
   "cell_type": "markdown",
   "metadata": {},
   "source": [
    "#### 4. Getting an Item\n",
    "\n",
    "You can then retrieve the object using [DynamoDB.Table.get_item()](https://boto3.amazonaws.com/v1/documentation/api/latest/reference/services/dynamodb.html#DynamoDB.Table.get_item), such as\n",
    "\n",
    "```python\n",
    "response = table.get_item(\n",
    "    Key={\n",
    "        'Artist': 'Celine Dion',\n",
    "        'songTitle': 'Courage'\n",
    "    }\n",
    ")\n",
    "item = response['Item']\n",
    "item\n",
    "```\n",
    "\n",
    "Following the above example, retrive the item that you've just added:"
   ]
  },
  {
   "cell_type": "code",
   "execution_count": null,
   "metadata": {},
   "outputs": [],
   "source": []
  },
  {
   "cell_type": "markdown",
   "metadata": {},
   "source": [
    "#### 5. Updating Item\n",
    "\n",
    "You can then update attributes of the item in the table using [update_item(https://boto3.amazonaws.com/v1/documentation/api/latest/reference/services/dynamodb.html#DynamoDB.Client.update_item) as example shown below:\n",
    "\n",
    "```\n",
    "import decimal\n",
    "table.update_item(\n",
    "    Key={\n",
    "        'Artist': 'Celine Dion',\n",
    "        'songTitle': 'Courage'\n",
    "    },\n",
    "    UpdateExpression=\"set releaseDate = :r, number_in_alubum = :n, album_name=:a\",\n",
    "    ExpressionAttributeValues={\n",
    "        ':r': '2019-09-18',\n",
    "        ':n': decimal.Decimal('5'),\n",
    "        ':a': 'Courage'\n",
    "    }\n",
    ")\n",
    "```\n",
    "\n",
    "Following the above example, set the \"age\" of the user to 26 and verify the new item."
   ]
  },
  {
   "cell_type": "code",
   "execution_count": null,
   "metadata": {},
   "outputs": [],
   "source": []
  },
  {
   "cell_type": "markdown",
   "metadata": {},
   "source": [
    "Then verify that the item has been updated."
   ]
  },
  {
   "cell_type": "code",
   "execution_count": null,
   "metadata": {},
   "outputs": [],
   "source": []
  },
  {
   "cell_type": "markdown",
   "metadata": {},
   "source": [
    "#### 6. Deleting Item\n",
    "You can also delete the item using [DynamoDB.Table.delete_item()](https://boto3.amazonaws.com/v1/documentation/api/latest/reference/services/dynamodb.html#DynamoDB.Table.delete_item) by providing the `Key` as the only argument. Delete the only item in the table."
   ]
  },
  {
   "cell_type": "code",
   "execution_count": null,
   "metadata": {},
   "outputs": [],
   "source": []
  },
  {
   "cell_type": "markdown",
   "metadata": {},
   "source": [
    "#### 7. Batch Writing\n",
    "If you are loading a lot of data at a time, you can make use of [DynamoDB.Table.batch_writer()](https://boto3.amazonaws.com/v1/documentation/api/latest/reference/services/dynamodb.html#DynamoDB.Table.batch_writer) so you can both speed up the process and reduce the number of write requests made to the service.\n",
    "\n",
    "This method returns a handle to a batch writer object that will automatically handle buffering and sending items in batches. In addition, the batch writer will also automatically handle any unprocessed items and resend them as needed. All you need to do is call `put_item` for any items you want to add, and delete_item for any items you want to delete:"
   ]
  },
  {
   "cell_type": "code",
   "execution_count": null,
   "metadata": {},
   "outputs": [],
   "source": [
    "with table.batch_writer() as batch:\n",
    "    batch.put_item(\n",
    "        Item={\n",
    "            'account_type': 'standard_user',\n",
    "            'username': 'johndoe',\n",
    "            'first_name': 'John',\n",
    "            'last_name': 'Doe',\n",
    "            'age': 25,\n",
    "            'address': {\n",
    "                'road': '1 Jefferson Street',\n",
    "                'city': 'Los Angeles',\n",
    "                'state': 'CA',\n",
    "                'zipcode': 90001\n",
    "            }\n",
    "        }\n",
    "    )\n",
    "    batch.put_item(\n",
    "        Item={\n",
    "            'account_type': 'super_user',\n",
    "            'username': 'janedoering',\n",
    "            'first_name': 'Jane',\n",
    "            'last_name': 'Doering',\n",
    "            'age': 40,\n",
    "            'address': {\n",
    "                'road': '2 Washington Avenue',\n",
    "                'city': 'Seattle',\n",
    "                'state': 'WA',\n",
    "                'zipcode': 98109\n",
    "            }\n",
    "        }\n",
    "    )\n",
    "    batch.put_item(\n",
    "        Item={\n",
    "            'account_type': 'standard_user',\n",
    "            'username': 'bobsmith',\n",
    "            'first_name': 'Bob',\n",
    "            'last_name':  'Smith',\n",
    "            'age': 18,\n",
    "            'address': {\n",
    "                'road': '3 Madison Lane',\n",
    "                'city': 'Louisville',\n",
    "                'state': 'KY',\n",
    "                'zipcode': 40213\n",
    "            }\n",
    "        }\n",
    "    )\n",
    "    batch.put_item(\n",
    "        Item={\n",
    "            'account_type': 'super_user',\n",
    "            'username': 'alicedoe',\n",
    "            'first_name': 'Alice',\n",
    "            'last_name': 'Doe',\n",
    "            'age': 27,\n",
    "            'address': {\n",
    "                'road': '1 Jefferson Street',\n",
    "                'city': 'Los Angeles',\n",
    "                'state': 'CA',\n",
    "                'zipcode': 90001\n",
    "            }\n",
    "        }\n",
    "    )"
   ]
  },
  {
   "cell_type": "markdown",
   "metadata": {},
   "source": [
    "The batch writer is even able to handle a very large amount of writes to the table."
   ]
  },
  {
   "cell_type": "markdown",
   "metadata": {},
   "source": [
    "#### 8. Querying and Scanning\n",
    "\n",
    "With the table full of items, you can then query or scan the items in the table using the [DynamoDB.Table.query()](https://boto3.amazonaws.com/v1/documentation/api/latest/reference/services/dynamodb.html#DynamoDB.Table.query) or [DynamoDB.Table.scan()](https://boto3.amazonaws.com/v1/documentation/api/latest/reference/services/dynamodb.html#DynamoDB.Table.scan) methods respectively. To add conditions to scanning and querying the table, you will need to import the [boto3.dynamodb.conditions.Key](https://boto3.amazonaws.com/v1/documentation/api/latest/reference/customizations/dynamodb.html#boto3.dynamodb.conditions.Key) and [boto3.dynamodb.conditions.Attr](https://boto3.amazonaws.com/v1/documentation/api/latest/reference/customizations/dynamodb.html#boto3.dynamodb.conditions.Attr) classes. The boto3.dynamodb.conditions.Key should be used when the condition is related to **the key of the item**. The boto3.dynamodb.conditions.Attr should be used when the condition is related to **an attribute of the item**. \n",
    "\n",
    "the Key object has the following methods:\n",
    "- begins_with(value)\n",
    "- between(low, high)\n",
    "- eq(value)\n",
    "- gt(value), lt(value)\n",
    "- gte(value), lte(value)\n",
    "\n",
    "\n",
    "the Attr object has the above methods, plus:\n",
    "- contains(value)\n",
    "- exists(): whether the attribute exists\n",
    "- not_exists(): whether the attribute exists\n",
    "- is_in(value_list)\n",
    "- size()\n",
    "- ne(): not equal to a value\n",
    "\n",
    "For example: \n",
    "\n",
    "```python\n",
    "from boto3.dynamodb.conditions import Key, Attr\n",
    "\n",
    "response = table.query(\n",
    "    KeyConditionExpression=Key('Artist').gt('B')\n",
    ")\n",
    "\n",
    "response['Items']\n",
    "```"
   ]
  },
  {
   "cell_type": "markdown",
   "metadata": {},
   "source": [
    "Following the guidelines in the above, find the item whose username equals \"johndoe\"."
   ]
  },
  {
   "cell_type": "code",
   "execution_count": null,
   "metadata": {},
   "outputs": [],
   "source": []
  },
  {
   "cell_type": "markdown",
   "metadata": {},
   "source": [
    "Similarly you can scan the table based on attributes of the items. For example, this scans for all the songs released in 2019:\n",
    "\n",
    "```python\n",
    "response = table.scan(\n",
    "    FilterExpression=Attr('releaseDate').contains('2019')\n",
    ")\n",
    "response[\"Items\"]\n",
    "```"
   ]
  },
  {
   "cell_type": "markdown",
   "metadata": {},
   "source": [
    "Find all users whose age  is less than 27:"
   ]
  },
  {
   "cell_type": "code",
   "execution_count": null,
   "metadata": {},
   "outputs": [],
   "source": []
  },
  {
   "cell_type": "markdown",
   "metadata": {},
   "source": [
    "You are also able to chain conditions together using the logical operators: `&` (and), `|` (or), and `~` (not). For example, this scans for all users whose `first_name` starts with `J` and whose `account_type` is `super_user`:"
   ]
  },
  {
   "cell_type": "code",
   "execution_count": null,
   "metadata": {},
   "outputs": [],
   "source": [
    "response = table.scan(\n",
    "    FilterExpression=Attr('first_name').begins_with('J') & Attr('account_type').eq('super_user')\n",
    ")\n",
    "response['Items']"
   ]
  },
  {
   "cell_type": "markdown",
   "metadata": {},
   "source": [
    "#### 9. Deleting a Table\n",
    "\n",
    "Finally, if you want to delete your table call [DynamoDB.Table.delete()](https://boto3.amazonaws.com/v1/documentation/api/latest/reference/services/dynamodb.html#DynamoDB.Table.delete)."
   ]
  },
  {
   "cell_type": "markdown",
   "metadata": {},
   "source": [
    "Delete the table that you created (so that it will start to accumulate cost to your account)."
   ]
  },
  {
   "cell_type": "code",
   "execution_count": null,
   "metadata": {},
   "outputs": [],
   "source": []
  },
  {
   "cell_type": "markdown",
   "metadata": {},
   "source": [
    "#### 11. Verify that the table has been deleted.\n",
    "\n",
    "Go to the [AWS console for DynamoDB](https://console.aws.amazon.com/dynamodb/home?region=us-east-1#tables:), to make sure that you don't have any table left.\n",
    "- note that we have asked you to create tables in us-ease-1 region (in AWS configuration). make sure you have checked the right region."
   ]
  }
 ],
 "metadata": {
  "kernelspec": {
   "display_name": "Python 3",
   "language": "python",
   "name": "python3"
  },
  "language_info": {
   "codemirror_mode": {
    "name": "ipython",
    "version": 3
   },
   "file_extension": ".py",
   "mimetype": "text/x-python",
   "name": "python",
   "nbconvert_exporter": "python",
   "pygments_lexer": "ipython3",
   "version": "3.6.1"
  }
 },
 "nbformat": 4,
 "nbformat_minor": 2
}
