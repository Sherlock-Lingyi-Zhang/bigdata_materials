{
 "cells": [
  {
   "cell_type": "markdown",
   "metadata": {},
   "source": [
    "# Spark Lab 1x: Create RDDs"
    "*If you need a copy of the files for this lab, please go to the overview pages of this lab and find download link there*"
   ]
  },
  {
   "cell_type": "markdown",
   "metadata": {},
   "source": [
    "## Step 1: Create RDDs from python arrays"
   ]
  },
  {
   "cell_type": "markdown",
   "metadata": {},
   "source": [
    "1\\. Generate an array of 100 random numbers in python (using numpy)"
   ]
  },
  {
   "cell_type": "markdown",
   "metadata": {},
   "source": [
    "2\\. Create an RDD out of this array. Explain what happens when you create the RDD? What return value you get if you \"execute\" the RDD (i.e., run the name of the rdd)?"
   ]
  },
  {
   "cell_type": "markdown",
   "metadata": {},
   "source": [
    "3\\. Take 5 elements of the RDD and verify its content. What the type of the returned value?"
   ]
  },
  {
   "cell_type": "markdown",
   "metadata": {},
   "source": [
    "4\\. Return the entire RDD and save in a variable. then compare the content of the variable with your initial array. "
   ]
  },
  {
   "cell_type": "markdown",
   "metadata": {},
   "source": [
    "## Step 2\\. Create RDD from a text file from a local host"
   ]
  },
  {
   "cell_type": "markdown",
   "metadata": {},
   "source": [
    "1\\. list the content of the current folder"
   ]
  },
  {
   "cell_type": "markdown",
   "metadata": {},
   "source": [
    "2\\. change directory one of the subdirectories (e.g. training_materials) and ls again. "
   ]
  },
  {
   "cell_type": "markdown",
   "metadata": {},
   "source": [
    "3\\. View the content of `~training_materials/data/frostroad.txt`"
   ]
  },
  {
   "cell_type": "markdown",
   "metadata": {},
   "source": [
    "4\\. Create a rdd out of this file and call it rdd. then verify it content by viewing the entire content."
   ]
  },
  {
   "cell_type": "markdown",
   "metadata": {},
   "source": [
    "5\\. Can you make a list of distinct words from this RDD?"
   ]
  },
  {
   "cell_type": "markdown",
   "metadata": {},
   "source": [
    "## Step 3\\.  Create an RDD using a directory with json documents"
   ]
  },
  {
   "cell_type": "markdown",
   "metadata": {},
   "source": [
    "1\\. Create a RDD `rdd` using `training_materials/data/chatlogs` (on your localhost) as your data source. Verify it by displaying the first two elements"
   ]
  },
  {
   "cell_type": "markdown",
   "metadata": {},
   "source": [
    "2\\. make a new RDD consisting of the agentName's and display the first two elements of the new RDD. (hint: using json.loads to parse it first)."
   ]
  },
  {
   "cell_type": "markdown",
   "metadata": {},
   "source": [
    "## Step 4\\.  Create an RDD using a directory with XML documents"
   ]
  },
  {
   "cell_type": "markdown",
   "metadata": {},
   "source": [
    "1\\. inspect the directory `training_materials/data/activations` and file formats"
   ]
  },
  {
   "cell_type": "markdown",
   "metadata": {},
   "source": [
    "2\\. What's your stragegy for loading and processing this dataset?"
   ]
  },
  {
   "cell_type": "markdown",
   "metadata": {},
   "source": [
    "One of the appraoch is to parse the XML using Python's elementtree package. In this case using `ET.fromstring(html_content)`"
   ]
  },
  {
   "cell_type": "code",
   "execution_count": 89,
   "metadata": {
    "collapsed": false
   },
   "outputs": [],
   "source": [
    "import xml.etree.ElementTree as ET "
   ]
  },
  {
   "cell_type": "markdown",
   "metadata": {},
   "source": [
    "## Step 5. Read a tab-delimited table from an HDFS location"
   ]
  },
  {
   "cell_type": "markdown",
   "metadata": {},
   "source": [
    "Because our VM's PySpark shell is configured to run in local mode by default, all paths are interpreted as local path by default. To load a file/directory from HDFS, you need to provide the full HDFS URI, in the form of `hdfs://host_name:8020/path/to/file`\n"
   ]
  },
  {
   "cell_type": "markdown",
   "metadata": {},
   "source": [
    "1\\. Explores the files in `/dualcore/customers` on HDFs. This location belongs to a Hive external table `dualcore.customers`. What is the format of the file?"
   ]
  },
  {
   "cell_type": "markdown",
   "metadata": {},
   "source": [
    "2\\. Create an RDD from the external Hive table `customers` from the dualcore database at `/dualcore/customers` on HDFs. Verify by showing one row"
   ]
  },
  {
   "cell_type": "markdown",
   "metadata": {},
   "source": [
    "3\\. Convert a string row into and an array of strings (one for each field). Verifying it by showing the first two rows."
   ]
  }
 ],
 "metadata": {
  "kernelspec": {
   "display_name": "Python 2",
   "language": "python",
   "name": "python2"
  },
  "language_info": {
   "codemirror_mode": {
    "name": "ipython",
    "version": 2
   },
   "file_extension": ".py",
   "mimetype": "text/x-python",
   "name": "python",
   "nbconvert_exporter": "python",
   "pygments_lexer": "ipython2",
   "version": "2.7.13"
  }
 },
 "nbformat": 4,
 "nbformat_minor": 2
}
