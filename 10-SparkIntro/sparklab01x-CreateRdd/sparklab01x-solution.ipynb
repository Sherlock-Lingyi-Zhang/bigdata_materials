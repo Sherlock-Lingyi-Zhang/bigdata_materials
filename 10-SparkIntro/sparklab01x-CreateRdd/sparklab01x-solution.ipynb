{
 "cells": [
  {
   "cell_type": "markdown",
   "metadata": {},
   "source": [
    "# Spark Lab 1x: Create RDDs"
   ]
  },
  {
   "cell_type": "markdown",
   "metadata": {},
   "source": [
    "## Step 1: Create RDDs from python arrays"
   ]
  },
  {
   "cell_type": "markdown",
   "metadata": {},
   "source": [
    "1\\. Generate an array of 100 random numbers in python (using numpy)"
   ]
  },
  {
   "cell_type": "code",
   "execution_count": 72,
   "metadata": {
    "collapsed": true
   },
   "outputs": [],
   "source": [
    "import numpy as np"
   ]
  },
  {
   "cell_type": "code",
   "execution_count": 73,
   "metadata": {},
   "outputs": [],
   "source": [
    "myarray = np.random.rand(100)"
   ]
  },
  {
   "cell_type": "markdown",
   "metadata": {},
   "source": [
    "2\\. Create an RDD out of this array. Explain what happens when you create the RDD? What return value you get if you \"execute\" the RDD (i.e., run the name of the rdd)?"
   ]
  },
  {
   "cell_type": "code",
   "execution_count": 19,
   "metadata": {
    "collapsed": true
   },
   "outputs": [],
   "source": [
    "myrdd = sc.parallelize(myarray)"
   ]
  },
  {
   "cell_type": "code",
   "execution_count": 30,
   "metadata": {},
   "outputs": [
    {
     "data": {
      "text/plain": [
       "ParallelCollectionRDD[2] at parallelize at PythonRDD.scala:194"
      ]
     },
     "execution_count": 30,
     "metadata": {},
     "output_type": "execute_result"
    }
   ],
   "source": [
    "myrdd"
   ]
  },
  {
   "cell_type": "code",
   "execution_count": 76,
   "metadata": {},
   "outputs": [
    {
     "data": {
      "text/plain": [
       "pyspark.rdd.RDD"
      ]
     },
     "execution_count": 76,
     "metadata": {},
     "output_type": "execute_result"
    }
   ],
   "source": [
    "type(myrdd)"
   ]
  },
  {
   "cell_type": "markdown",
   "metadata": {},
   "source": [
    "3\\. Take 5 elements of the RDD and verify its content. What the type of the returned value?"
   ]
  },
  {
   "cell_type": "code",
   "execution_count": 74,
   "metadata": {},
   "outputs": [
    {
     "data": {
      "text/plain": [
       "[0.14611834453676209,\n",
       " 0.43512867227477203,\n",
       " 0.096350021163697619,\n",
       " 0.27697218952750013,\n",
       " 0.54094556773264901]"
      ]
     },
     "execution_count": 74,
     "metadata": {},
     "output_type": "execute_result"
    }
   ],
   "source": [
    "myrdd.take(5)"
   ]
  },
  {
   "cell_type": "code",
   "execution_count": 75,
   "metadata": {},
   "outputs": [
    {
     "data": {
      "text/plain": [
       "list"
      ]
     },
     "execution_count": 75,
     "metadata": {},
     "output_type": "execute_result"
    }
   ],
   "source": [
    "type(myrdd.take(5))"
   ]
  },
  {
   "cell_type": "markdown",
   "metadata": {},
   "source": [
    "4\\. Return the entire RDD and save in a variable. then compare the content of the variable with your initial array. "
   ]
  },
  {
   "cell_type": "code",
   "execution_count": 22,
   "metadata": {},
   "outputs": [],
   "source": [
    "collectedarray = myrdd.collect()"
   ]
  },
  {
   "cell_type": "code",
   "execution_count": 77,
   "metadata": {},
   "outputs": [
    {
     "data": {
      "text/plain": [
       "[0.14611834453676209,\n",
       " 0.43512867227477203,\n",
       " 0.096350021163697619,\n",
       " 0.27697218952750013,\n",
       " 0.54094556773264901]"
      ]
     },
     "execution_count": 77,
     "metadata": {},
     "output_type": "execute_result"
    }
   ],
   "source": [
    "collectedarray[:5]"
   ]
  },
  {
   "cell_type": "code",
   "execution_count": 78,
   "metadata": {},
   "outputs": [
    {
     "data": {
      "text/plain": [
       "array([ 0.08916279,  0.54901175,  0.99893438,  0.40396413,  0.47737455])"
      ]
     },
     "execution_count": 78,
     "metadata": {},
     "output_type": "execute_result"
    }
   ],
   "source": [
    "myarray[:5]"
   ]
  },
  {
   "cell_type": "markdown",
   "metadata": {},
   "source": [
    "## Step 2\\. Create RDD from a text file from a local host"
   ]
  },
  {
   "cell_type": "markdown",
   "metadata": {},
   "source": [
    "1\\. list the content of the current folder"
   ]
  },
  {
   "cell_type": "code",
   "execution_count": 32,
   "metadata": {},
   "outputs": [
    {
     "name": "stdout",
     "output_type": "stream",
     "text": [
      "anaconda2\t\t\t\t    lib\r\n",
      "cloudera-manager\t\t\t    metastore_db\r\n",
      "cm_api.py\t\t\t\t    Music\r\n",
      "CSOM-BuildReport.txt\t\t\t    nextid.txt\r\n",
      "customers.java\t\t\t\t    parcels\r\n",
      "deprecated_usr_lib\t\t\t    Pictures\r\n",
      "derby.log\t\t\t\t    Public\r\n",
      "Desktop\t\t\t\t\t    scripts\r\n",
      "Documents\t\t\t\t    shakepoems.txt\r\n",
      "Downloads\t\t\t\t    spark01x-solution.ipynb\r\n",
      "eclipse\t\t\t\t\t    Templates\r\n",
      "employees.java\t\t\t\t    titanic.csv\r\n",
      "enterprise-deployment.json\t\t    training_materials\r\n",
      "express-deployment.json\t\t\t    Untitled1.ipynb\r\n",
      "greeting.py\t\t\t\t    Videos\r\n",
      "hive_create_statements.hql\t\t    workspace\r\n",
      "json-serde-1.3.8-jar-with-dependencies.jar  workspace.save.dev\r\n",
      "kerberos\r\n"
     ]
    }
   ],
   "source": [
    "!ls"
   ]
  },
  {
   "cell_type": "markdown",
   "metadata": {},
   "source": [
    "2\\. change directory one of the subdirectories (e.g. training_materials) and ls again. "
   ]
  },
  {
   "cell_type": "code",
   "execution_count": 79,
   "metadata": {
    "collapsed": true
   },
   "outputs": [],
   "source": [
    "! cd training_materials/"
   ]
  },
  {
   "cell_type": "code",
   "execution_count": 80,
   "metadata": {},
   "outputs": [
    {
     "name": "stdout",
     "output_type": "stream",
     "text": [
      "anaconda2\t\t\t\t    lib\r\n",
      "cloudera-manager\t\t\t    metastore_db\r\n",
      "cm_api.py\t\t\t\t    Music\r\n",
      "CSOM-BuildReport.txt\t\t\t    nextid.txt\r\n",
      "customers.java\t\t\t\t    parcels\r\n",
      "deprecated_usr_lib\t\t\t    Pictures\r\n",
      "derby.log\t\t\t\t    Public\r\n",
      "Desktop\t\t\t\t\t    scripts\r\n",
      "Documents\t\t\t\t    shakepoems.txt\r\n",
      "Downloads\t\t\t\t    spark01x-solution.ipynb\r\n",
      "eclipse\t\t\t\t\t    Templates\r\n",
      "employees.java\t\t\t\t    titanic.csv\r\n",
      "enterprise-deployment.json\t\t    training_materials\r\n",
      "express-deployment.json\t\t\t    Untitled1.ipynb\r\n",
      "greeting.py\t\t\t\t    Videos\r\n",
      "hive_create_statements.hql\t\t    workspace\r\n",
      "json-serde-1.3.8-jar-with-dependencies.jar  workspace.save.dev\r\n",
      "kerberos\r\n"
     ]
    }
   ],
   "source": [
    "! ls"
   ]
  },
  {
   "cell_type": "markdown",
   "metadata": {},
   "source": [
    "3\\. View the content of `~training_materials/data/frostroad.txt`"
   ]
  },
  {
   "cell_type": "code",
   "execution_count": 41,
   "metadata": {},
   "outputs": [
    {
     "name": "stdout",
     "output_type": "stream",
     "text": [
      "Two roads diverged in a yellow wood,\r\n",
      "And sorry I could not travel both\r\n",
      "And be one traveler, long I stood\r\n",
      "And looked down one as far as I could\r\n",
      "To where it bent in the undergrowth;\r\n",
      "\r\n",
      "Then took the other, as just as fair,\r\n",
      "And having perhaps the better claim,\r\n",
      "Because it was grassy and wanted wear;\r\n",
      "Though as for that the passing there\r\n"
     ]
    }
   ],
   "source": [
    "!head /home/cloudera/training_materials/data/frostroad.txt"
   ]
  },
  {
   "cell_type": "markdown",
   "metadata": {},
   "source": [
    "4\\. Create a rdd out of this file and call it rdd. then verify it content by viewing the entire content."
   ]
  },
  {
   "cell_type": "code",
   "execution_count": 42,
   "metadata": {
    "collapsed": true
   },
   "outputs": [],
   "source": [
    "rdd = sc.textFile('/home/cloudera/training_materials/data/frostroad.txt')"
   ]
  },
  {
   "cell_type": "code",
   "execution_count": 43,
   "metadata": {},
   "outputs": [
    {
     "data": {
      "text/plain": [
       "[u'Two roads diverged in a yellow wood,',\n",
       " u'And sorry I could not travel both',\n",
       " u'And be one traveler, long I stood',\n",
       " u'And looked down one as far as I could',\n",
       " u'To where it bent in the undergrowth;',\n",
       " u'',\n",
       " u'Then took the other, as just as fair,',\n",
       " u'And having perhaps the better claim,',\n",
       " u'Because it was grassy and wanted wear;',\n",
       " u'Though as for that the passing there',\n",
       " u'Had worn them really about the same,',\n",
       " u'',\n",
       " u'And both that morning equally lay',\n",
       " u'In leaves no step had trodden black.',\n",
       " u'Oh, I kept the first for another day!',\n",
       " u'Yet knowing how way leads on to way,',\n",
       " u'I doubted if I should ever come back.',\n",
       " u'',\n",
       " u'I shall be telling this with a sigh',\n",
       " u'Somewhere ages and ages hence:',\n",
       " u'Two roads diverged in a wood, and I--',\n",
       " u'I took the one less traveled by,',\n",
       " u'And that has made all the difference.']"
      ]
     },
     "execution_count": 43,
     "metadata": {},
     "output_type": "execute_result"
    }
   ],
   "source": [
    "rdd.collect()"
   ]
  },
  {
   "cell_type": "markdown",
   "metadata": {},
   "source": [
    "5\\. Can you make a list of distinct words from this RDD?"
   ]
  },
  {
   "cell_type": "code",
   "execution_count": 47,
   "metadata": {},
   "outputs": [
    {
     "data": {
      "text/plain": [
       "[u'and',\n",
       " u'equally',\n",
       " u'another',\n",
       " u'just',\n",
       " u'other,',\n",
       " u'Had',\n",
       " u'all',\n",
       " u'yellow',\n",
       " u'down',\n",
       " u'telling',\n",
       " u'as',\n",
       " u'I--',\n",
       " u'diverged',\n",
       " u'difference.',\n",
       " u'roads',\n",
       " u'undergrowth;',\n",
       " u'Oh,',\n",
       " u'back.',\n",
       " u'stood',\n",
       " u'claim,',\n",
       " u'perhaps',\n",
       " u'come',\n",
       " u'travel',\n",
       " u'had',\n",
       " u'long',\n",
       " u'better',\n",
       " u'far',\n",
       " u'way',\n",
       " u'sorry',\n",
       " u'was',\n",
       " u'knowing',\n",
       " u'a',\n",
       " u'them',\n",
       " u'I',\n",
       " u'ages',\n",
       " u'wood,',\n",
       " u'step',\n",
       " u'traveler,',\n",
       " u'not',\n",
       " u'with',\n",
       " u'the',\n",
       " u'And',\n",
       " u'leads',\n",
       " u'about',\n",
       " u'kept',\n",
       " u'for',\n",
       " u'this',\n",
       " u'ever',\n",
       " u'could',\n",
       " u'worn',\n",
       " u'looked',\n",
       " u'by,',\n",
       " u'doubted',\n",
       " u'Somewhere',\n",
       " u'passing',\n",
       " u'where',\n",
       " u'leaves',\n",
       " u'on',\n",
       " u'bent',\n",
       " u'less',\n",
       " u'sigh',\n",
       " u'hence:',\n",
       " u'Two',\n",
       " u'one',\n",
       " u'To',\n",
       " u'in',\n",
       " u'should',\n",
       " u'really',\n",
       " u'Then',\n",
       " u'Though',\n",
       " u'trodden',\n",
       " u'there',\n",
       " u'fair,',\n",
       " u'how',\n",
       " u'Yet',\n",
       " u'it',\n",
       " u'if',\n",
       " u'day!',\n",
       " u'be',\n",
       " u'to',\n",
       " u'that',\n",
       " u'In',\n",
       " u'took',\n",
       " u'wear;',\n",
       " u'made',\n",
       " u'lay',\n",
       " u'same,',\n",
       " u'wanted',\n",
       " u'traveled',\n",
       " u'both',\n",
       " u'Because',\n",
       " u'grassy',\n",
       " u'no',\n",
       " u'has',\n",
       " u'morning',\n",
       " u'shall',\n",
       " u'way,',\n",
       " u'black.',\n",
       " u'having',\n",
       " u'first']"
      ]
     },
     "execution_count": 47,
     "metadata": {},
     "output_type": "execute_result"
    }
   ],
   "source": [
    "rdd.flatMap(lambda row:row.split()).distinct().collect()"
   ]
  },
  {
   "cell_type": "markdown",
   "metadata": {},
   "source": [
    "## Step 3\\.  Create an RDD using a directory with json documents"
   ]
  },
  {
   "cell_type": "markdown",
   "metadata": {},
   "source": [
    "1\\. Create a RDD `rdd` using `training_materials/data/chatlogs` (on your localhost) as your data source. Verify it by displaying the first two elements"
   ]
  },
  {
   "cell_type": "code",
   "execution_count": 48,
   "metadata": {
    "collapsed": true
   },
   "outputs": [],
   "source": [
    "rdd = sc.textFile('/home/cloudera/training_materials/data/chatlogs')"
   ]
  },
  {
   "cell_type": "code",
   "execution_count": 49,
   "metadata": {},
   "outputs": [
    {
     "data": {
      "text/plain": [
       "[u' { \"conversationId\":\"463563\", \"accountNum\":\"118065\", \"agentName\":\"Justina Hicks\", \"category\":\"Device\", \"messages\":[  {   \"sender\":\"agent\",   \"time\":\"2014-02-13 00:01:02\",   \"text\":\"How can I help you today?\"  },  {   \"sender\":\"customer\",   \"time\":\"2014-02-13 00:01:35\",   \"text\":\"My Sorrento F41L keeps on rebooting. What should I do?\"  },  {   \"sender\":\"agent\",   \"time\":\"2014-02-13 00:01:37\",   \"text\":\"Read our Knowledge Base document at KBDOC-00172 to see what to do.\"  },  {   \"sender\":\"customer\",   \"time\":\"2014-02-13 00:01:49\",   \"text\":\"I\\'ll take a look at that.\"  },  {   \"sender\":\"agent\",   \"time\":\"2014-02-13 00:02:20\",   \"text\":\"Have a nice day.\"  } ] }',\n",
       " u' { \"conversationId\":\"463564\", \"accountNum\":\"107475\", \"agentName\":\"Stephanie Doherty\", \"category\":\"Device\", \"messages\":[  {   \"sender\":\"agent\",   \"time\":\"2014-02-13 00:01:33\",   \"text\":\"How can I help you today?\"  },  {   \"sender\":\"customer\",   \"time\":\"2014-02-13 00:01:43\",   \"text\":\"Should the Ronin Novelty Note 2\\'s battery only last 30 hours?\"  },  {   \"sender\":\"agent\",   \"time\":\"2014-02-13 00:01:59\",   \"text\":\"You should look at KBDOC-00107.\"  },  {   \"sender\":\"customer\",   \"time\":\"2014-02-13 00:02:01\",   \"text\":\"Thank you so much for your help.\"  },  {   \"sender\":\"agent\",   \"time\":\"2014-02-13 00:02:27\",   \"text\":\"We appreciate your business. Goodbye.\"  } ] }']"
      ]
     },
     "execution_count": 49,
     "metadata": {},
     "output_type": "execute_result"
    }
   ],
   "source": [
    "rdd.take(2)"
   ]
  },
  {
   "cell_type": "markdown",
   "metadata": {},
   "source": [
    "2\\. make a new RDD consisting of the agentName's and display the first two elements of the new RDD. (hint: using json.loads to parse it first)."
   ]
  },
  {
   "cell_type": "code",
   "execution_count": 50,
   "metadata": {
    "collapsed": true
   },
   "outputs": [],
   "source": [
    "import json"
   ]
  },
  {
   "cell_type": "code",
   "execution_count": 52,
   "metadata": {},
   "outputs": [
    {
     "data": {
      "text/plain": [
       "[{u'accountNum': u'118065',\n",
       "  u'agentName': u'Justina Hicks',\n",
       "  u'category': u'Device',\n",
       "  u'conversationId': u'463563',\n",
       "  u'messages': [{u'sender': u'agent',\n",
       "    u'text': u'How can I help you today?',\n",
       "    u'time': u'2014-02-13 00:01:02'},\n",
       "   {u'sender': u'customer',\n",
       "    u'text': u'My Sorrento F41L keeps on rebooting. What should I do?',\n",
       "    u'time': u'2014-02-13 00:01:35'},\n",
       "   {u'sender': u'agent',\n",
       "    u'text': u'Read our Knowledge Base document at KBDOC-00172 to see what to do.',\n",
       "    u'time': u'2014-02-13 00:01:37'},\n",
       "   {u'sender': u'customer',\n",
       "    u'text': u\"I'll take a look at that.\",\n",
       "    u'time': u'2014-02-13 00:01:49'},\n",
       "   {u'sender': u'agent',\n",
       "    u'text': u'Have a nice day.',\n",
       "    u'time': u'2014-02-13 00:02:20'}]}]"
      ]
     },
     "execution_count": 52,
     "metadata": {},
     "output_type": "execute_result"
    }
   ],
   "source": [
    "rdd.map(lambda row: json.loads(row)).take(1)"
   ]
  },
  {
   "cell_type": "code",
   "execution_count": 58,
   "metadata": {},
   "outputs": [
    {
     "data": {
      "text/plain": [
       "[u'Justina Hicks', u'Stephanie Doherty']"
      ]
     },
     "execution_count": 58,
     "metadata": {},
     "output_type": "execute_result"
    }
   ],
   "source": [
    "rdd.map(lambda row: json.loads(row)) \\\n",
    ".map(lambda j:j['agentName']).take(2)"
   ]
  },
  {
   "cell_type": "markdown",
   "metadata": {},
   "source": [
    "## Step 4\\.  Create an RDD using a directory with XML documents"
   ]
  },
  {
   "cell_type": "markdown",
   "metadata": {},
   "source": [
    "1\\. inspect the directory `training_materials/data/activations` and file formats"
   ]
  },
  {
   "cell_type": "code",
   "execution_count": 85,
   "metadata": {},
   "outputs": [
    {
     "name": "stdout",
     "output_type": "stream",
     "text": [
      "2008-10.xml  2009-09.xml  2010-08.xml  2011-07.xml  2012-06.xml  2013-05.xml\r\n",
      "2008-11.xml  2009-10.xml  2010-09.xml  2011-08.xml  2012-07.xml  2013-06.xml\r\n",
      "2008-12.xml  2009-11.xml  2010-10.xml  2011-09.xml  2012-08.xml  2013-07.xml\r\n",
      "2009-01.xml  2009-12.xml  2010-11.xml  2011-10.xml  2012-09.xml  2013-08.xml\r\n",
      "2009-02.xml  2010-01.xml  2010-12.xml  2011-11.xml  2012-10.xml  2013-09.xml\r\n",
      "2009-03.xml  2010-02.xml  2011-01.xml  2011-12.xml  2012-11.xml  2013-10.xml\r\n",
      "2009-04.xml  2010-03.xml  2011-02.xml  2012-01.xml  2012-12.xml  2013-11.xml\r\n",
      "2009-05.xml  2010-04.xml  2011-03.xml  2012-02.xml  2013-01.xml  2013-12.xml\r\n",
      "2009-06.xml  2010-05.xml  2011-04.xml  2012-03.xml  2013-02.xml  2014-01.xml\r\n",
      "2009-07.xml  2010-06.xml  2011-05.xml  2012-04.xml  2013-03.xml  2014-02.xml\r\n",
      "2009-08.xml  2010-07.xml  2011-06.xml  2012-05.xml  2013-04.xml  2014-03.xml\r\n"
     ]
    }
   ],
   "source": [
    "!ls training_materials/data/activations/"
   ]
  },
  {
   "cell_type": "code",
   "execution_count": 86,
   "metadata": {},
   "outputs": [
    {
     "name": "stdout",
     "output_type": "stream",
     "text": [
      "<activations>\r\n",
      "\t  <activation timestamp=\"1225462088\" type=\"phone\">\r\n",
      "\t    <account-number>9763</account-number>\r\n",
      "\t    <device-id>debea35e-3ecd-4ee7-b0dd-ad428d953f32</device-id>\r\n",
      "\t    <phone-number>7600763387</phone-number>\r\n",
      "\t    <model>MeeToo 1.0</model>\r\n",
      "\t  </activation>\r\n",
      "\t  \t\t  <activation timestamp=\"1225461447\" type=\"phone\">\r\n",
      "\t    <account-number>426</account-number>\r\n",
      "\t    <device-id>38a1566d-524e-4137-bad8-b597d09b54b0</device-id>\r\n"
     ]
    }
   ],
   "source": [
    "!cat training_materials/data/activations/2008-10.xml | head"
   ]
  },
  {
   "cell_type": "markdown",
   "metadata": {},
   "source": [
    "2\\. What's your stragegy for loading and processing this dataset?"
   ]
  },
  {
   "cell_type": "code",
   "execution_count": 87,
   "metadata": {},
   "outputs": [],
   "source": [
    "rdd = sc.wholeTextFiles('/home/cloudera/training_materials/data/activations')"
   ]
  },
  {
   "cell_type": "code",
   "execution_count": 88,
   "metadata": {},
   "outputs": [
    {
     "data": {
      "text/plain": [
       "[(u'file:/home/cloudera/training_materials/data/activations/2009-12.xml',\n",
       "  u'<activations>\\n\\t  <activation timestamp=\"1262248375\" type=\"phone\">\\n\\t    <account-number>76298</account-number>\\n\\t    <device-id>942f9f62-d121-43a8-9657-172a053c4167</device-id>\\n\\t    <phone-number>8184220029</phone-number>\\n\\t    <model>Titanic 1000</model>\\n\\t  </activation>\\n\\t  \\t\\t  <activation timestamp=\"1262237019\" type=\"phone\">\\n\\t    <account-number>790</account-number>\\n\\t    <device-id>ede647af-b2aa-41c2-b9a0-10b4556c92a8</device-id>\\n\\t    <phone-number>2097848891</phone-number>\\n\\t    <model>Sorrento F00L</model>\\n\\t  </activation>\\n\\t  \\t\\t  <activation timestamp=\"1262222014\" type=\"phone\">\\n\\t    <account-number>2708</account-number>\\n\\t    <device-id>4b540193-79c4-4a07-99f5-174118abec71</device-id>\\n\\t    <phone-number>4151358036</phone-number>\\n\\t    <model>Titanic 1000</model>\\n\\t  </activation>\\n\\t  \\t\\t  <activation timestamp=\"1262221366\" type=\"phone\">\\n\\t    <account-number>34955</account-number>\\n\\t    <device-id>adf1c0da-ac4f-4808-91c8-fc86f7e973de</device-id>\\n\\t    <phone-number>5590836571</phone-number>\\n\\t    <model>Sorrento F00L</model>\\n\\t  </activation>\\n\\t  \\t\\t  <activation timestamp=\"1262215752\" type=\"phone\">\\n\\t    <account-number>1339</account-number>\\n\\t    <device-id>20a81165-6873-48c0-b96a-2f6c7a780bf6</device-id>\\n\\t    <phone-number>2097199277</phone-number>\\n\\t    <model>Sorrento F00L</model>\\n\\t  </activation>\\n\\t  \\t\\t  <activation timestamp=\"1262206366\" type=\"phone\">\\n\\t    <account-number>1734</account-number>\\n\\t    <device-id>dbd11368-c953-4bac-b948-68d68c805a1e</device-id>\\n\\t    <phone-number>9169500004</phone-number>\\n\\t    <model>iFruit 1</model>\\n\\t  </activation>\\n\\t  \\t\\t  <activation timestamp=\"1262187060\" type=\"phone\">\\n\\t    <account-number>1770</account-number>\\n\\t    <device-id>b4aebc90-e4f9-45b4-a0f1-2663c91395e7</device-id>\\n\\t    <phone-number>7078035936</phone-number>\\n\\t    <model>Sorrento F10L</model>\\n\\t  </activation>\\n\\t  \\t\\t  <activation timestamp=\"1262182884\" type=\"phone\">\\n\\t    <account-number>48537</account-number>\\n\\t    <device-id>6fd4fba2-5c47-4fb0-aa4d-c8689ce3caff</device-id>\\n\\t    <phone-number>6611722267</phone-number>\\n\\t    <model>Titanic 1100</model>\\n\\t  </activation>\\n\\t  \\t\\t  <activation timestamp=\"1262180379\" type=\"phone\">\\n\\t    <account-number>526</account-number>\\n\\t    <device-id>2f0fb3b1-ef0d-465e-8bff-9319de3a4209</device-id>\\n\\t    <phone-number>7073978866</phone-number>\\n\\t    <model>Sorrento F10L</model>\\n\\t  </activation>\\n\\t  \\t\\t  <activation timestamp=\"1262172711\" type=\"phone\">\\n\\t    <account-number>110567</account-number>\\n\\t    <device-id>dc0d57df-4a28-4b98-912b-da6dfcf5790f</device-id>\\n\\t    <phone-number>9284202044</phone-number>\\n\\t    <model>Sorrento F10L</model>\\n\\t  </activation>\\n\\t  \\t\\t  <activation timestamp=\"1262170461\" type=\"phone\">\\n\\t    <account-number>726</account-number>\\n\\t    <device-id>ee00042d-0c0c-4a8b-85af-d71d14d07882</device-id>\\n\\t    <phone-number>2097640233</phone-number>\\n\\t    <model>Titanic 2000</model>\\n\\t  </activation>\\n\\t  \\t\\t  <activation timestamp=\"1262135910\" type=\"phone\">\\n\\t    <account-number>1162</account-number>\\n\\t    <device-id>1b2b64cb-9a7d-49bf-93d8-fd66ef30b8c1</device-id>\\n\\t    <phone-number>4081813167</phone-number>\\n\\t    <model>Titanic 1100</model>\\n\\t  </activation>\\n\\t  \\t\\t  <activation timestamp=\"1262114538\" type=\"phone\">\\n\\t    <account-number>27496</account-number>\\n\\t    <device-id>914c81fc-70d9-4b74-b885-b44eafbc979f</device-id>\\n\\t    <phone-number>6263030011</phone-number>\\n\\t    <model>Sorrento F10L</model>\\n\\t  </activation>\\n\\t  \\t\\t  <activation timestamp=\"1262109574\" type=\"phone\">\\n\\t    <account-number>2480</account-number>\\n\\t    <device-id>e00dab24-c13c-42f6-ae4a-bbbbc2f41bde</device-id>\\n\\t    <phone-number>5109076400</phone-number>\\n\\t    <model>iFruit 1</model>\\n\\t  </activation>\\n\\t  \\t\\t  <activation timestamp=\"1262106994\" type=\"phone\">\\n\\t    <account-number>2725</account-number>\\n\\t    <device-id>bf253c71-c410-4ac2-8b1a-2d8a9272f1c9</device-id>\\n\\t    <phone-number>5305169867</phone-number>\\n\\t    <model>Titanic 1100</model>\\n\\t  </activation>\\n\\t  \\t\\t  <activation timestamp=\"1262095885\" type=\"phone\">\\n\\t    <account-number>3396</account-number>\\n\\t    <device-id>7e692d92-fb9b-446a-ab2a-ffbcfe5fefdd</device-id>\\n\\t    <phone-number>6502945648</phone-number>\\n\\t    <model>Titanic 1000</model>\\n\\t  </activation>\\n\\t  \\t\\t  <activation timestamp=\"1262093214\" type=\"phone\">\\n\\t    <account-number>53867</account-number>\\n\\t    <device-id>e0c46ab7-9f30-4375-a429-eff3f6c650e0</device-id>\\n\\t    <phone-number>7754177336</phone-number>\\n\\t    <model>Titanic 1000</model>\\n\\t  </activation>\\n\\t  \\t\\t  <activation timestamp=\"1262092391\" type=\"phone\">\\n\\t    <account-number>3086</account-number>\\n\\t    <device-id>35838a09-571a-4fe9-8e26-ff531ad83199</device-id>\\n\\t    <phone-number>5104091475</phone-number>\\n\\t    <model>Sorrento F10L</model>\\n\\t  </activation>\\n\\t  \\t\\t  <activation timestamp=\"1262086331\" type=\"phone\">\\n\\t    <account-number>108495</account-number>\\n\\t    <device-id>20bb096e-7e06-4f5f-a1b4-4a6325cd9000</device-id>\\n\\t    <phone-number>5108573694</phone-number>\\n\\t    <model>Titanic 1100</model>\\n\\t  </activation>\\n\\t  \\t\\t  <activation timestamp=\"1262075444\" type=\"phone\">\\n\\t    <account-number>3413</account-number>\\n\\t    <device-id>0561a2f8-7fdd-428d-add3-d18b601fa7a3</device-id>\\n\\t    <phone-number>2096777113</phone-number>\\n\\t    <model>Titanic 2000</model>\\n\\t  </activation>\\n\\t  \\t\\t  <activation timestamp=\"1262075155\" type=\"phone\">\\n\\t    <account-number>1732</account-number>\\n\\t    <device-id>90d5d178-8c46-489f-b7cf-a469fa9931a0</device-id>\\n\\t    <phone-number>5304132925</phone-number>\\n\\t    <model>Titanic 2000</model>\\n\\t  </activation>\\n\\t  \\t\\t  <activation timestamp=\"1262073641\" type=\"phone\">\\n\\t    <account-number>2341</account-number>\\n\\t    <device-id>ba9f3892-22fe-45db-a4e6-2c4ba8bd0267</device-id>\\n\\t    <phone-number>9162843284</phone-number>\\n\\t    <model>iFruit 1</model>\\n\\t  </activation>\\n\\t  \\t\\t  <activation timestamp=\"1262073455\" type=\"phone\">\\n\\t    <account-number>1781</account-number>\\n\\t    <device-id>59a66eb8-5dc0-4ed5-b1ff-abcbd60cc116</device-id>\\n\\t    <phone-number>9166890649</phone-number>\\n\\t    <model>Sorrento F10L</model>\\n\\t  </activation>\\n\\t  \\t\\t  <activation timestamp=\"1262072828\" type=\"phone\">\\n\\t    <account-number>2211</account-number>\\n\\t    <device-id>17c4609e-9c32-4288-84c4-c075744f2253</device-id>\\n\\t    <phone-number>5103565059</phone-number>\\n\\t    <model>Sorrento F10L</model>\\n\\t  </activation>\\n\\t  \\t\\t  <activation timestamp=\"1262071572\" type=\"phone\">\\n\\t    <account-number>995</account-number>\\n\\t    <device-id>ec6df942-cd34-48d4-a4c6-07879512a3a6</device-id>\\n\\t    <phone-number>5103938833</phone-number>\\n\\t    <model>Sorrento F01L</model>\\n\\t  </activation>\\n\\t  \\t\\t  <activation timestamp=\"1262054164\" type=\"phone\">\\n\\t    <account-number>71807</account-number>\\n\\t    <device-id>da241ed5-f11b-40a2-acb3-aac5c4ec0f98</device-id>\\n\\t    <phone-number>8188781833</phone-number>\\n\\t    <model>MeeToo 1.0</model>\\n\\t  </activation>\\n\\t  \\t\\t  <activation timestamp=\"1262034217\" type=\"phone\">\\n\\t    <account-number>1020</account-number>\\n\\t    <device-id>59173ce7-1d44-4bd6-9ae3-e4077b9828e7</device-id>\\n\\t    <phone-number>9162320321</phone-number>\\n\\t    <model>Titanic 1000</model>\\n\\t  </activation>\\n\\t  \\t\\t  <activation timestamp=\"1262029249\" type=\"phone\">\\n\\t    <account-number>2095</account-number>\\n\\t    <device-id>11be9497-ff8e-4b97-898d-72f671c83494</device-id>\\n\\t    <phone-number>4083199725</phone-number>\\n\\t    <model>Sorrento F00L</model>\\n\\t  </activation>\\n\\t  \\t\\t  <activation timestamp=\"1262024506\" type=\"phone\">\\n\\t    <account-number>3062</account-number>\\n\\t    <device-id>3630e38e-2705-4e4c-9bfa-d059b5e27f62</device-id>\\n\\t    <phone-number>6503646078</phone-number>\\n\\t    <model>Titanic 1000</model>\\n\\t  </activation>\\n\\t  \\t\\t  <activation timestamp=\"1262011736\" type=\"phone\">\\n\\t    <account-number>2361</account-number>\\n\\t    <device-id>b096a6a9-d97b-41e5-8c35-f3f80b5228ed</device-id>\\n\\t    <phone-number>5307614190</phone-number>\\n\\t    <model>iFruit 1</model>\\n\\t  </activation>\\n\\t  \\t\\t  <activation timestamp=\"1262010173\" type=\"phone\">\\n\\t    <account-number>7240</account-number>\\n\\t    <device-id>6107ef7a-95f2-4a3a-9f57-a45a70032536</device-id>\\n\\t    <phone-number>9092338951</phone-number>\\n\\t    <model>Sorrento F10L</model>\\n\\t  </activation>\\n\\t  \\t\\t  <activation timestamp=\"1262005507\" type=\"phone\">\\n\\t    <account-number>2850</account-number>\\n\\t    <device-id>bda50618-3fff-4d6d-8401-551da432c84a</device-id>\\n\\t    <phone-number>9165276136</phone-number>\\n\\t    <model>MeeToo 1.0</model>\\n\\t  </activation>\\n\\t  \\t\\t  <activation timestamp=\"1262004706\" type=\"phone\">\\n\\t    <account-number>67381</account-number>\\n\\t    <device-id>4db54faf-2dbf-4f02-bed6-146704ce3992</device-id>\\n\\t    <phone-number>9166535547</phone-number>\\n\\t    <model>Titanic 1100</model>\\n\\t  </activation>\\n\\t  \\t\\t  <activation timestamp=\"1261993854\" type=\"phone\">\\n\\t    <account-number>2683</account-number>\\n\\t    <device-id>433933bd-1071-4aec-8a54-99c7b7b87da7</device-id>\\n\\t    <phone-number>9161741488</phone-number>\\n\\t    <model>Titanic 1000</model>\\n\\t  </activation>\\n\\t  \\t\\t  <activation timestamp=\"1261989660\" type=\"phone\">\\n\\t    <account-number>980</account-number>\\n\\t    <device-id>d1dc640b-1fef-44bf-ae08-6560fa634341</device-id>\\n\\t    <phone-number>7078032900</phone-number>\\n\\t    <model>MeeToo 1.0</model>\\n\\t  </activation>\\n\\t  \\t\\t  <activation timestamp=\"1261987659\" type=\"phone\">\\n\\t    <account-number>2491</account-number>\\n\\t    <device-id>36df0b4f-67a6-4644-8650-51c7584050dc</device-id>\\n\\t    <phone-number>6504756477</phone-number>\\n\\t    <model>Sorrento F10L</model>\\n\\t  </activation>\\n\\t  \\t\\t  <activation timestamp=\"1261986099\" type=\"phone\">\\n\\t    <account-number>3230</account-number>\\n\\t    <device-id>78805c2e-7ead-430e-a6a1-70097e273e27</device-id>\\n\\t    <phone-number>2095256883</phone-number>\\n\\t    <model>Titanic 1000</model>\\n\\t  </activation>\\n\\t  \\t\\t  <activation timestamp=\"1261979884\" type=\"phone\">\\n\\t    <account-number>34533</account-number>\\n\\t    <device-id>d30ee3f4-93a7-40d5-97a6-976d95344672</device-id>\\n\\t    <phone-number>5414857433</phone-number>\\n\\t    <model>MeeToo 1.0</model>\\n\\t  </activation>\\n\\t  \\t\\t  <activation timestamp=\"1261979423\" type=\"phone\">\\n\\t    <account-number>922</account-number>\\n\\t    <device-id>2aa71c82-8293-470f-957c-de91a2db569b</device-id>\\n\\t    <phone-number>4088007559</phone-number>\\n\\t    <model>iFruit 1</model>\\n\\t  </activation>\\n\\t  \\t\\t  <activation timestamp=\"1261975109\" type=\"phone\">\\n\\t    <account-number>2912</account-number>\\n\\t    <device-id>0cdea127-299a-432b-83ca-ded5b875af08</device-id>\\n\\t    <phone-number>9160631128</phone-number>\\n\\t    <model>iFruit 1</model>\\n\\t  </activation>\\n\\t  \\t\\t  <activation timestamp=\"1261965045\" type=\"phone\">\\n\\t    <account-number>2949</account-number>\\n\\t    <device-id>14aeccb4-eda7-4bad-a55d-db618502f4e8</device-id>\\n\\t    <phone-number>7072845992</phone-number>\\n\\t    <model>Titanic 2000</model>\\n\\t  </activation>\\n\\t  \\t\\t  <activation timestamp=\"1261960000\" type=\"phone\">\\n\\t    <account-number>2065</account-number>\\n\\t    <device-id>62b63d73-ddd7-42db-aee8-11ba4cce0475</device-id>\\n\\t    <phone-number>6506657917</phone-number>\\n\\t    <model>Titanic 2000</model>\\n\\t  </activation>\\n\\t  \\t\\t  <activation timestamp=\"1261950043\" type=\"phone\">\\n\\t    <account-number>1319</account-number>\\n\\t    <device-id>5825f025-91b6-4d43-8c19-e57b87c02880</device-id>\\n\\t    <phone-number>4080807006</phone-number>\\n\\t    <model>MeeToo 1.0</model>\\n\\t  </activation>\\n\\t  \\t\\t  <activation timestamp=\"1261949521\" type=\"phone\">\\n\\t    <account-number>57707</account-number>\\n\\t    <device-id>36eb65e7-e408-4a02-a20d-69ba672ebca2</device-id>\\n\\t    <phone-number>4080877571</phone-number>\\n\\t    <model>Sorrento F00L</model>\\n\\t  </activation>\\n\\t  \\t\\t  <activation timestamp=\"1261948682\" type=\"phone\">\\n\\t    <account-number>1392</account-number>\\n\\t    <device-id>70bd82ab-b791-48fc-8fef-04ac7e02f156</device-id>\\n\\t    <phone-number>6501508241</phone-number>\\n\\t    <model>Titanic 1100</model>\\n\\t  </activation>\\n\\t  \\t\\t  <activation timestamp=\"1261944851\" type=\"phone\">\\n\\t    <account-number>63799</account-number>\\n\\t    <device-id>06cc8f28-bc58-4fa3-9ac1-8df6a2081d28</device-id>\\n\\t    <phone-number>8310486598</phone-number>\\n\\t    <model>Titanic 1100</model>\\n\\t  </activation>\\n\\t  \\t\\t  <activation timestamp=\"1261941893\" type=\"phone\">\\n\\t    <account-number>3121</account-number>\\n\\t    <device-id>bb6ccbe0-14ea-44d3-9d4c-683d8bdffba3</device-id>\\n\\t    <phone-number>5308182836</phone-number>\\n\\t    <model>iFruit 1</model>\\n\\t  </activation>\\n\\t  \\t\\t  <activation timestamp=\"1261939008\" type=\"phone\">\\n\\t    <account-number>990</account-number>\\n\\t    <device-id>c182c4c4-5b35-4e44-bf3e-b57be1376b88</device-id>\\n\\t    <phone-number>9169661747</phone-number>\\n\\t    <model>Sorrento F01L</model>\\n\\t  </activation>\\n\\t  \\t\\t  <activation timestamp=\"1261932023\" type=\"phone\">\\n\\t    <account-number>2008</account-number>\\n\\t    <device-id>f3c7e614-d84e-40f2-806b-5367804609fc</device-id>\\n\\t    <phone-number>4158817396</phone-number>\\n\\t    <model>Titanic 2000</model>\\n\\t  </activation>\\n\\t  \\t\\t  <activation timestamp=\"1261927750\" type=\"phone\">\\n\\t    <account-number>2126</account-number>\\n\\t    <device-id>8f9e97af-71b1-4604-be0e-c617248361f3</device-id>\\n\\t    <phone-number>4158397215</phone-number>\\n\\t    <model>Sorrento F01L</model>\\n\\t  </activation>\\n\\t  \\t\\t  <activation timestamp=\"1261924242\" type=\"phone\">\\n\\t    <account-number>100361</account-number>\\n\\t    <device-id>7479bfd4-138b-4205-952a-5d032467f2aa</device-id>\\n\\t    <phone-number>8187476073</phone-number>\\n\\t    <model>Titanic 1000</model>\\n\\t  </activation>\\n\\t  \\t\\t  <activation timestamp=\"1261918805\" type=\"phone\">\\n\\t    <account-number>4887</account-number>\\n\\t    <device-id>e20ab985-550d-41c7-bfe1-5c1f7a5f8b93</device-id>\\n\\t    <phone-number>9164108961</phone-number>\\n\\t    <model>Sorrento F01L</model>\\n\\t  </activation>\\n\\t  \\t\\t  <activation timestamp=\"1261912932\" type=\"phone\">\\n\\t    <account-number>2830</account-number>\\n\\t    <device-id>36daca01-87be-48cd-9dc2-5c5731533f90</device-id>\\n\\t    <phone-number>6502056732</phone-number>\\n\\t    <model>Titanic 2000</model>\\n\\t  </activation>\\n\\t  \\t\\t  <activation timestamp=\"1261902876\" type=\"phone\">\\n\\t    <account-number>42407</account-number>\\n\\t    <device-id>199d4654-d019-479f-a76a-ed48c70cfe06</device-id>\\n\\t    <phone-number>7753691919</phone-number>\\n\\t    <model>Sorrento F01L</model>\\n\\t  </activation>\\n\\t  \\t\\t  <activation timestamp=\"1261902798\" type=\"phone\">\\n\\t    <account-number>3077</account-number>\\n\\t    <device-id>aa2449b6-c0e6-4e49-ae8d-b0a6aa702487</device-id>\\n\\t    <phone-number>7073899863</phone-number>\\n\\t    <model>Titanic 1000</model>\\n\\t  </activation>\\n\\t  \\t\\t  <activation timestamp=\"1261898407\" type=\"phone\">\\n\\t    <account-number>2943</account-number>\\n\\t    <device-id>bc8a6bda-1ee8-49c2-af7f-e0047ca93ba5</device-id>\\n\\t    <phone-number>4158341746</phone-number>\\n\\t    <model>Sorrento F00L</model>\\n\\t  </activation>\\n\\t  \\t\\t  <activation timestamp=\"1261887860\" type=\"phone\">\\n\\t    <account-number>1165</account-number>\\n\\t    <device-id>aca54009-05a1-40f1-8297-50742346abbb</device-id>\\n\\t    <phone-number>7073585361</phone-number>\\n\\t    <model>Sorrento F10L</model>\\n\\t  </activation>\\n\\t  \\t\\t  <activation timestamp=\"1261876089\" type=\"phone\">\\n\\t    <account-number>106527</account-number>\\n\\t    <device-id>b162068c-241a-4461-9746-7a9965d0369c</device-id>\\n\\t    <phone-number>8056477491</phone-number>\\n\\t    <model>MeeToo 1.0</model>\\n\\t  </activation>\\n\\t  \\t\\t  <activation timestamp=\"1261875153\" type=\"phone\">\\n\\t    <account-number>3159</account-number>\\n\\t    <device-id>345c98a7-e8ef-4810-aaeb-ca978211c951</device-id>\\n\\t    <phone-number>6504819395</phone-number>\\n\\t    <model>Titanic 2000</model>\\n\\t  </activation>\\n\\t  \\t\\t  <activation timestamp=\"1261866664\" type=\"phone\">\\n\\t    <account-number>3347</account-number>\\n\\t    <device-id>2a81af29-3440-44a6-b461-e258fc79132f</device-id>\\n\\t    <phone-number>5105015054</phone-number>\\n\\t    <model>Sorrento F01L</model>\\n\\t  </activation>\\n\\t  \\t\\t  <activation timestamp=\"1261861173\" type=\"phone\">\\n\\t    <account-number>1955</account-number>\\n\\t    <device-id>a3b6994b-22fb-49b9-923a-528d1ba30642</device-id>\\n\\t    <phone-number>2095562529</phone-number>\\n\\t    <model>Titanic 1100</model>\\n\\t  </activation>\\n\\t  \\t\\t  <activation timestamp=\"1261851404\" type=\"phone\">\\n\\t    <account-number>594</account-number>\\n\\t    <device-id>1bbd265e-c7f5-44cb-93ac-f4c291a1cac6</device-id>\\n\\t    <phone-number>4083973995</phone-number>\\n\\t    <model>Titanic 2000</model>\\n\\t  </activation>\\n\\t  \\t\\t  <activation timestamp=\"1261849579\" type=\"phone\">\\n\\t    <account-number>9935</account-number>\\n\\t    <device-id>10029c99-f58e-4414-9d8d-88a8d45216c0</device-id>\\n\\t    <phone-number>7078575122</phone-number>\\n\\t    <model>Titanic 2000</model>\\n\\t  </activation>\\n\\t  \\t\\t  <activation timestamp=\"1261838454\" type=\"phone\">\\n\\t    <account-number>1772</account-number>\\n\\t    <device-id>56c0224f-8275-41a7-a697-2f1dc220f9c4</device-id>\\n\\t    <phone-number>9169065977</phone-number>\\n\\t    <model>Titanic 1100</model>\\n\\t  </activation>\\n\\t  \\t\\t  <activation timestamp=\"1261835335\" type=\"phone\">\\n\\t    <account-number>813</account-number>\\n\\t    <device-id>aad74e98-f5e6-41ba-b73a-dc9908057a94</device-id>\\n\\t    <phone-number>5107112689</phone-number>\\n\\t    <model>Titanic 1100</model>\\n\\t  </activation>\\n\\t  \\t\\t  <activation timestamp=\"1261824125\" type=\"phone\">\\n\\t    <account-number>2226</account-number>\\n\\t    <device-id>8ad96416-abc4-4f54-9ea7-9ad3de852be5</device-id>\\n\\t    <phone-number>4158346089</phone-number>\\n\\t    <model>Sorrento F00L</model>\\n\\t  </activation>\\n\\t  \\t\\t  <activation timestamp=\"1261810189\" type=\"phone\">\\n\\t    <account-number>14317</account-number>\\n\\t    <device-id>d73ae137-2f36-4e95-b357-6323660fcede</device-id>\\n\\t    <phone-number>7023746433</phone-number>\\n\\t    <model>Sorrento F01L</model>\\n\\t  </activation>\\n\\t  \\t\\t  <activation timestamp=\"1261809800\" type=\"phone\">\\n\\t    <account-number>1159</account-number>\\n\\t    <device-id>ccc8d9cc-0a83-4968-b08b-64d2fa97f11c</device-id>\\n\\t    <phone-number>5101806784</phone-number>\\n\\t    <model>Titanic 1000</model>\\n\\t  </activation>\\n\\t  \\t\\t  <activation timestamp=\"1261806526\" type=\"phone\">\\n\\t    <account-number>2994</account-number>\\n\\t    <device-id>58fb1e6c-7103-4a08-b783-96c26a770dab</device-id>\\n\\t    <phone-number>9166156117</phone-number>\\n\\t    <model>Sorrento F10L</model>\\n\\t  </activation>\\n\\t  \\t\\t  <activation timestamp=\"1261801103\" type=\"phone\">\\n\\t    <account-number>89876</account-number>\\n\\t    <device-id>2dd1bbb6-7aca-4169-a41c-d6023200ef33</device-id>\\n\\t    <phone-number>7021861979</phone-number>\\n\\t    <model>Titanic 2000</model>\\n\\t  </activation>\\n\\t  \\t\\t  <activation timestamp=\"1261793310\" type=\"phone\">\\n\\t    <account-number>32976</account-number>\\n\\t    <device-id>1269a15b-fb3c-432b-a964-7dc57b2ffa3c</device-id>\\n\\t    <phone-number>5598384646</phone-number>\\n\\t    <model>iFruit 1</model>\\n\\t  </activation>\\n\\t  \\t\\t  <activation timestamp=\"1261780669\" type=\"phone\">\\n\\t    <account-number>100930</account-number>\\n\\t    <device-id>8cea8856-d0d7-493d-9334-fdaa27cc84cf</device-id>\\n\\t    <phone-number>5598177662</phone-number>\\n\\t    <model>Sorrento F01L</model>\\n\\t  </activation>\\n\\t  \\t\\t  <activation timestamp=\"1261775392\" type=\"phone\">\\n\\t    <account-number>87696</account-number>\\n\\t    <device-id>4435e84e-ded0-46cd-92bf-3f71f1ccda2b</device-id>\\n\\t    <phone-number>4088122265</phone-number>\\n\\t    <model>Sorrento F01L</model>\\n\\t  </activation>\\n\\t  \\t\\t  <activation timestamp=\"1261768580\" type=\"phone\">\\n\\t    <account-number>7595</account-number>\\n\\t    <device-id>cb656f09-c1ff-4ab6-8499-36b389d07cee</device-id>\\n\\t    <phone-number>3103471771</phone-number>\\n\\t    <model>Titanic 1000</model>\\n\\t  </activation>\\n\\t  \\t\\t  <activation timestamp=\"1261767993\" type=\"phone\">\\n\\t    <account-number>2500</account-number>\\n\\t    <device-id>41444289-673d-40f6-8eef-b95a1843b138</device-id>\\n\\t    <phone-number>6505398933</phone-number>\\n\\t    <model>Titanic 1100</model>\\n\\t  </activation>\\n\\t  \\t\\t  <activation timestamp=\"1261767054\" type=\"phone\">\\n\\t    <account-number>31037</account-number>\\n\\t    <device-id>da36db21-836e-4062-83f4-564523659ab7</device-id>\\n\\t    <phone-number>2130521129</phone-number>\\n\\t    <model>Titanic 2000</model>\\n\\t  </activation>\\n\\t  \\t\\t  <activation timestamp=\"1261760813\" type=\"phone\">\\n\\t    <account-number>5307</account-number>\\n\\t    <device-id>cd974daf-cb88-4820-928c-b206a7070a97</device-id>\\n\\t    <phone-number>6196383789</phone-number>\\n\\t    <model>Sorrento F01L</model>\\n\\t  </activation>\\n\\t  \\t\\t  <activation timestamp=\"1261751973\" type=\"phone\">\\n\\t    <account-number>513</account-number>\\n\\t    <device-id>cdab2f4b-a257-40f6-8335-1166df7df628</device-id>\\n\\t    <phone-number>7079503404</phone-number>\\n\\t    <model>iFruit 1</model>\\n\\t  </activation>\\n\\t  \\t\\t  <activation timestamp=\"1261731937\" type=\"phone\">\\n\\t    <account-number>3501</account-number>\\n\\t    <device-id>cb4b3c20-92d2-43c5-b82a-1d7ff2895359</device-id>\\n\\t    <phone-number>4085640605</phone-number>\\n\\t    <model>MeeToo 1.0</model>\\n\\t  </activation>\\n\\t  \\t\\t  <activation timestamp=\"1261728931\" type=\"phone\">\\n\\t    <account-number>1968</account-number>\\n\\t    <device-id>001dff7c-7849-44e5-b5b5-7ecbbb8ba06b</device-id>\\n\\t    <phone-number>5303630115</phone-number>\\n\\t    <model>Titanic 1000</model>\\n\\t  </activation>\\n\\t  \\t\\t  <activation timestamp=\"1261724718\" type=\"phone\">\\n\\t    <account-number>2456</account-number>\\n\\t    <device-id>c584c10c-a951-47e4-9329-e814daa7c91f</device-id>\\n\\t    <phone-number>7079529897</phone-number>\\n\\t    <model>Titanic 2000</model>\\n\\t  </activation>\\n\\t  \\t\\t  <activation timestamp=\"1261718421\" type=\"phone\">\\n\\t    <account-number>49384</account-number>\\n\\t    <device-id>7a41aaf5-b0bf-4af3-84da-a09b1e8040d7</device-id>\\n\\t    <phone-number>2130626150</phone-number>\\n\\t    <model>Sorrento F01L</model>\\n\\t  </activation>\\n\\t  \\t\\t  <activation timestamp=\"1261715518\" type=\"phone\">\\n\\t    <account-number>2122</account-number>\\n\\t    <device-id>c28a9260-a796-497c-94ca-d374f4763954</device-id>\\n\\t    <phone-number>6500862871</phone-number>\\n\\t    <model>MeeToo 1.0</model>\\n\\t  </activation>\\n\\t  \\t\\t  <activation timestamp=\"1261714533\" type=\"phone\">\\n\\t    <account-number>2511</account-number>\\n\\t    <device-id>9ca7d6f3-2e19-45b3-bf87-918d9f9ebe41</device-id>\\n\\t    <phone-number>6501727146</phone-number>\\n\\t    <model>Titanic 2000</model>\\n\\t  </activation>\\n\\t  \\t\\t  <activation timestamp=\"1261683461\" type=\"phone\">\\n\\t    <account-number>1567</account-number>\\n\\t    <device-id>6ec2b064-5e9a-4570-8999-ac224be8381f</device-id>\\n\\t    <phone-number>2095857646</phone-number>\\n\\t    <model>Titanic 2000</model>\\n\\t  </activation>\\n\\t  \\t\\t  <activation timestamp=\"1261677318\" type=\"phone\">\\n\\t    <account-number>3434</account-number>\\n\\t    <device-id>d112c859-ac4a-4c0c-89ee-fc89c71e9acc</device-id>\\n\\t    <phone-number>4157708698</phone-number>\\n\\t    <model>Sorrento F10L</model>\\n\\t  </activation>\\n\\t  \\t\\t  <activation timestamp=\"1261674623\" type=\"phone\">\\n\\t    <account-number>2433</account-number>\\n\\t    <device-id>da52d9f8-2bd6-4f76-b87f-3ed7e8a3df03</device-id>\\n\\t    <phone-number>4088922311</phone-number>\\n\\t    <model>Sorrento F00L</model>\\n\\t  </activation>\\n\\t  \\t\\t  <activation timestamp=\"1261669578\" type=\"phone\">\\n\\t    <account-number>2271</account-number>\\n\\t    <device-id>387f17f0-0328-47ea-b651-66e876223003</device-id>\\n\\t    <phone-number>9160229166</phone-number>\\n\\t    <model>Sorrento F10L</model>\\n\\t  </activation>\\n\\t  \\t\\t  <activation timestamp=\"1261658299\" type=\"phone\">\\n\\t    <account-number>621</account-number>\\n\\t    <device-id>8bba927c-369c-4b7e-8ed8-320886676698</device-id>\\n\\t    <phone-number>9164272167</phone-number>\\n\\t    <model>iFruit 1</model>\\n\\t  </activation>\\n\\t  \\t\\t  <activation timestamp=\"1261655144\" type=\"phone\">\\n\\t    <account-number>1953</account-number>\\n\\t    <device-id>10d0f2b4-4b03-4154-844e-0382171360b7</device-id>\\n\\t    <phone-number>5102633791</phone-number>\\n\\t    <model>Sorrento F01L</model>\\n\\t  </activation>\\n\\t  \\t\\t  <activation timestamp=\"1261654307\" type=\"phone\">\\n\\t    <account-number>585</account-number>\\n\\t    <device-id>60952696-7925-44fb-b310-8495d365230b</device-id>\\n\\t    <phone-number>5102846699</phone-number>\\n\\t    <model>MeeToo 1.0</model>\\n\\t  </activation>\\n\\t  \\t\\t  <activation timestamp=\"1261647410\" type=\"phone\">\\n\\t    <account-number>2678</account-number>\\n\\t    <device-id>89b26024-2196-4b93-9aeb-6926e803e0e3</device-id>\\n\\t    <phone-number>5101643523</phone-number>\\n\\t    <model>Sorrento F10L</model>\\n\\t  </activation>\\n\\t  \\t\\t  <activation timestamp=\"1261646781\" type=\"phone\">\\n\\t    <account-number>123124</account-number>\\n\\t    <device-id>e0fb4d9e-6e11-4a33-ba26-6eeb35e967c0</device-id>\\n\\t    <phone-number>4156354223</phone-number>\\n\\t    <model>Sorrento F10L</model>\\n\\t  </activation>\\n\\t  \\t\\t  <activation timestamp=\"1261644437\" type=\"phone\">\\n\\t    <account-number>837</account-number>\\n\\t    <device-id>4f39ee07-31ee-4ec3-9361-5a7081392c0b</device-id>\\n\\t    <phone-number>9160303807</phone-number>\\n\\t    <model>Titanic 2000</model>\\n\\t  </activation>\\n\\t  \\t\\t  <activation timestamp=\"1261642326\" type=\"phone\">\\n\\t    <account-number>663</account-number>\\n\\t    <device-id>a25eff7a-032d-48fe-9652-c108ff1382b3</device-id>\\n\\t    <phone-number>9166451983</phone-number>\\n\\t    <model>Titanic 1000</model>\\n\\t  </activation>\\n\\t  \\t\\t  <activation timestamp=\"1261626003\" type=\"phone\">\\n\\t    <account-number>1030</account-number>\\n\\t    <device-id>d5282cd4-3ce0-4307-b6b7-1bdfbea59ef1</device-id>\\n\\t    <phone-number>9165284569</phone-number>\\n\\t    <model>iFruit 1</model>\\n\\t  </activation>\\n\\t  \\t\\t  <activation timestamp=\"1261616544\" type=\"phone\">\\n\\t    <account-number>1566</account-number>\\n\\t    <device-id>843a3c2d-831f-41a6-a95e-96893af5b9e0</device-id>\\n\\t    <phone-number>5108528058</phone-number>\\n\\t    <model>Titanic 1000</model>\\n\\t  </activation>\\n\\t  \\t\\t  <activation timestamp=\"1261612992\" type=\"phone\">\\n\\t    <account-number>2273</account-number>\\n\\t    <device-id>42360db0-6899-4d47-b4d2-fcf326f92bdc</device-id>\\n\\t    <phone-number>5103181661</phone-number>\\n\\t    <model>iFruit 1</model>\\n\\t  </activation>\\n\\t  \\t\\t  <activation timestamp=\"1261610744\" type=\"phone\">\\n\\t    <account-number>10892</account-number>\\n\\t    <device-id>5d264c69-cad2-4443-93de-7ae16dd3e550</device-id>\\n\\t    <phone-number>6195794552</phone-number>\\n\\t    <model>Titanic 1000</model>\\n\\t  </activation>\\n\\t  \\t\\t  <activation timestamp=\"1261597752\" type=\"phone\">\\n\\t    <account-number>1286</account-number>\\n\\t    <device-id>6f426c5a-c8ae-48d5-9df1-b8362b9287e0</device-id>\\n\\t    <phone-number>9164825670</phone-number>\\n\\t    <model>Titanic 1000</model>\\n\\t  </activation>\\n\\t  \\t\\t  <activation timestamp=\"1261595563\" type=\"phone\">\\n\\t    <account-number>20897</account-number>\\n\\t    <device-id>c3e17bc8-026b-48dd-b79b-954bebaf6c8e</device-id>\\n\\t    <phone-number>7020406434</phone-number>\\n\\t    <model>Titanic 1100</model>\\n\\t  </activation>\\n\\t  \\t\\t  <activation timestamp=\"1261588494\" type=\"phone\">\\n\\t    <account-number>3312</account-number>\\n\\t    <device-id>89b919d5-b2cd-4086-a969-8075ec7e71d8</device-id>\\n\\t    <phone-number>9163218052</phone-number>\\n\\t    <model>Titanic 2000</model>\\n\\t  </activation>\\n\\t  \\t\\t  <activation timestamp=\"1261586298\" type=\"phone\">\\n\\t    <account-number>1593</account-number>\\n\\t    <device-id>b0dbebf6-017e-423e-8978-5fe34f4d5ba3</device-id>\\n\\t    <phone-number>4156939450</phone-number>\\n\\t    <model>MeeToo 1.0</model>\\n\\t  </activation>\\n\\t  \\t\\t  <activation timestamp=\"1261586283\" type=\"phone\">\\n\\t    <account-number>1621</account-number>\\n\\t    <device-id>81f6bcfc-cfe7-43ee-a247-606691ccc9fd</device-id>\\n\\t    <phone-number>5107344806</phone-number>\\n\\t    <model>iFruit 1</model>\\n\\t  </activation>\\n\\t  \\t\\t  <activation timestamp=\"1261583502\" type=\"phone\">\\n\\t    <account-number>121513</account-number>\\n\\t    <device-id>8c1b3d78-0609-42af-82d8-4c2770677256</device-id>\\n\\t    <phone-number>7750352958</phone-number>\\n\\t    <model>Sorrento F01L</model>\\n\\t  </activation>\\n\\t  \\t\\t  <activation timestamp=\"1261583283\" type=\"phone\">\\n\\t    <account-number>794</account-number>\\n\\t    <device-id>4837c51a-050e-4d67-bbe2-5dc32685930a</device-id>\\n\\t    <phone-number>7074688636</phone-number>\\n\\t    <model>Sorrento F00L</model>\\n\\t  </activation>\\n\\t  \\t\\t  <activation timestamp=\"1261582116\" type=\"phone\">\\n\\t    <account-number>87319</account-number>\\n\\t    <device-id>8b1a118f-0a6a-47e9-be44-84cb14c1339d</device-id>\\n\\t    <phone-number>9282871747</phone-number>\\n\\t    <model>Sorrento F00L</model>\\n\\t  </activation>\\n\\t  \\t\\t  <activation timestamp=\"1261573666\" type=\"phone\">\\n\\t    <account-number>81264</account-number>\\n\\t    <device-id>5de4f84b-ce15-4417-8d00-a7ff1139cb99</device-id>\\n\\t    <phone-number>5621833674</phone-number>\\n\\t    <model>MeeToo 1.0</model>\\n\\t  </activation>\\n\\t  \\t\\t  <activation timestamp=\"1261561202\" type=\"phone\">\\n\\t    <account-number>2437</account-number>\\n\\t    <device-id>abbd735e-ca38-45dc-816c-7533872cc115</device-id>\\n\\t    <phone-number>6502485364</phone-number>\\n\\t    <model>Sorrento F01L</model>\\n\\t  </activation>\\n\\t  \\t\\t  <activation timestamp=\"1261545590\" type=\"phone\">\\n\\t    <account-number>1754</account-number>\\n\\t    <device-id>5d7d5e12-0c34-485d-bc08-3aa9ddb3a487</device-id>\\n\\t    <phone-number>5107030457</phone-number>\\n\\t    <model>Sorrento F10L</model>\\n\\t  </activation>\\n\\t  \\t\\t  <activation timestamp=\"1261540706\" type=\"phone\">\\n\\t    <account-number>2548</account-number>\\n\\t    <device-id>c821791d-cc77-4be7-ad12-b7ef7d30342d</device-id>\\n\\t    <phone-number>6508504596</phone-number>\\n\\t    <model>Titanic 2000</model>\\n\\t  </activation>\\n\\t  \\t\\t  <activation timestamp=\"1261525565\" type=\"phone\">\\n\\t    <account-number>1082</account-number>\\n\\t    <device-id>d18941e4-9d9f-4040-a5be-122ee31849ec</device-id>\\n\\t    <phone-number>6506437351</phone-number>\\n\\t    <model>Sorrento F10L</model>\\n\\t  </activation>\\n\\t  \\t\\t  <activation timestamp=\"1261499756\" type=\"phone\">\\n\\t    <account-number>1452</account-number>\\n\\t    <device-id>4fbeba7c-f40e-4f65-a06d-bbb9829b4f45</device-id>\\n\\t    <phone-number>7078108804</phone-number>\\n\\t    <model>Sorrento F10L</model>\\n\\t  </activation>\\n\\t  \\t\\t  <activation timestamp=\"1261490528\" type=\"phone\">\\n\\t    <account-number>935</account-number>\\n\\t    <device-id>ff8ae1aa-1d24-4ff8-8f2c-cfbe8367ea2c</device-id>\\n\\t    <phone-number>9161061850</phone-number>\\n\\t    <model>Sorrento F00L</model>\\n\\t  </activation>\\n\\t  \\t\\t  <activation timestamp=\"1261488584\" type=\"phone\">\\n\\t    <account-number>1569</account-number>\\n\\t    <device-id>6be23cce-80e5-4174-903c-521fd9e66e95</device-id>\\n\\t    <phone-number>9161560357</phone-number>\\n\\t    <model>Sorrento F01L</model>\\n\\t  </activation>\\n\\t  \\t\\t  <activation timestamp=\"1261487785\" type=\"phone\">\\n\\t    <account-number>1726</account-number>\\n\\t    <device-id>1e45dd50-bd1f-4098-b329-db7a59a9f3fa</device-id>\\n\\t    <phone-number>7074916715</phone-number>\\n\\t    <model>Titanic 1100</model>\\n\\t  </activation>\\n\\t  \\t\\t  <activation timestamp=\"1261485758\" type=\"phone\">\\n\\t    <account-number>2390</account-number>\\n\\t    <device-id>3188caf0-48b5-473a-a2eb-69ee8dfa685e</device-id>\\n\\t    <phone-number>4085316826</phone-number>\\n\\t    <model>Titanic 1000</model>\\n\\t  </activation>\\n\\t  \\t\\t  <activation timestamp=\"1261485535\" type=\"phone\">\\n\\t    <account-number>2937</account-number>\\n\\t    <device-id>d5ff6f25-1a4d-47bd-8350-8b8202680ce6</device-id>\\n\\t    <phone-number>4083554540</phone-number>\\n\\t    <model>Titanic 2000</model>\\n\\t  </activation>\\n\\t  \\t\\t  <activation timestamp=\"1261474675\" type=\"phone\">\\n\\t    <account-number>2061</account-number>\\n\\t    <device-id>424b3630-4ed3-4f77-a4eb-d3a009d53302</device-id>\\n\\t    <phone-number>9169947800</phone-number>\\n\\t    <model>Sorrento F01L</model>\\n\\t  </activation>\\n\\t  \\t\\t  <activation timestamp=\"1261464467\" type=\"phone\">\\n\\t    <account-number>119686</account-number>\\n\\t    <device-id>3dde0965-26f7-4da0-a7d0-71d8ab9e14e5</device-id>\\n\\t    <phone-number>8319417520</phone-number>\\n\\t    <model>Titanic 2000</model>\\n\\t  </activation>\\n\\t  \\t\\t  <activation timestamp=\"1261458729\" type=\"phone\">\\n\\t    <account-number>1534</account-number>\\n\\t    <device-id>71c95520-e6ff-42b5-b57a-86c1211f7e03</device-id>\\n\\t    <phone-number>4158013988</phone-number>\\n\\t    <model>Titanic 1100</model>\\n\\t  </activation>\\n\\t  \\t\\t  <activation timestamp=\"1261454850\" type=\"phone\">\\n\\t    <account-number>1178</account-number>\\n\\t    <device-id>c15ef4c8-64c7-4663-bc72-3b8ff45bdb24</device-id>\\n\\t    <phone-number>9169421686</phone-number>\\n\\t    <model>Titanic 2000</model>\\n\\t  </activation>\\n\\t  \\t\\t  <activation timestamp=\"1261437833\" type=\"phone\">\\n\\t    <account-number>1054</account-number>\\n\\t    <device-id>94912c79-d87f-4d9a-a2a6-62106deea3ac</device-id>\\n\\t    <phone-number>9164550911</phone-number>\\n\\t    <model>Titanic 1000</model>\\n\\t  </activation>\\n\\t  \\t\\t  <activation timestamp=\"1261431506\" type=\"phone\">\\n\\t    <account-number>2052</account-number>\\n\\t    <device-id>972307cf-55c7-4315-852d-4943f205c189</device-id>\\n\\t    <phone-number>5108483168</phone-number>\\n\\t    <model>MeeToo 1.0</model>\\n\\t  </activation>\\n\\t  \\t\\t  <activation timestamp=\"1261427956\" type=\"phone\">\\n\\t    <account-number>2051</account-number>\\n\\t    <device-id>7f64dd54-2d33-407e-8d8e-6234a14b1801</device-id>\\n\\t    <phone-number>9164217778</phone-number>\\n\\t    <model>Sorrento F10L</model>\\n\\t  </activation>\\n\\t  \\t\\t  <activation timestamp=\"1261423991\" type=\"phone\">\\n\\t    <account-number>2355</account-number>\\n\\t    <device-id>72c53983-8d2b-4a78-a021-c9051f7ab1f0</device-id>\\n\\t    <phone-number>9161670233</phone-number>\\n\\t    <model>iFruit 1</model>\\n\\t  </activation>\\n\\t  \\t\\t  <activation timestamp=\"1261420086\" type=\"phone\">\\n\\t    <account-number>14437</account-number>\\n\\t    <device-id>ecc5c4c2-381f-414b-add7-9144b1340e22</device-id>\\n\\t    <phone-number>9095407364</phone-number>\\n\\t    <model>Sorrento F10L</model>\\n\\t  </activation>\\n\\t  \\t\\t  <activation timestamp=\"1261419892\" type=\"phone\">\\n\\t    <account-number>4627</account-number>\\n\\t    <device-id>2f618500-cae3-4056-9891-426872c26325</device-id>\\n\\t    <phone-number>7146114405</phone-number>\\n\\t    <model>iFruit 1</model>\\n\\t  </activation>\\n\\t  \\t\\t  <activation timestamp=\"1261417295\" type=\"phone\">\\n\\t    <account-number>68429</account-number>\\n\\t    <device-id>259b8436-eda7-43a5-adff-b380623db819</device-id>\\n\\t    <phone-number>7759720845</phone-number>\\n\\t    <model>Titanic 1000</model>\\n\\t  </activation>\\n\\t  \\t\\t  <activation timestamp=\"1261397282\" type=\"phone\">\\n\\t    <account-number>916</account-number>\\n\\t    <device-id>eccaff4c-0506-44cb-b6d8-6286aab9750d</device-id>\\n\\t    <phone-number>5106673947</phone-number>\\n\\t    <model>Sorrento F10L</model>\\n\\t  </activation>\\n\\t  \\t\\t  <activation timestamp=\"1261386501\" type=\"phone\">\\n\\t    <account-number>2274</account-number>\\n\\t    <device-id>30824e4a-5b52-4d27-a74b-dfe1208fae76</device-id>\\n\\t    <phone-number>9161963013</phone-number>\\n\\t    <model>Titanic 2000</model>\\n\\t  </activation>\\n\\t  \\t\\t  <activation timestamp=\"1261382120\" type=\"phone\">\\n\\t    <account-number>54411</account-number>\\n\\t    <device-id>f86f0a69-17ca-4166-a8f7-72c2c7db3833</device-id>\\n\\t    <phone-number>5624139873</phone-number>\\n\\t    <model>Sorrento F00L</model>\\n\\t  </activation>\\n\\t  \\t\\t  <activation timestamp=\"1261373057\" type=\"phone\">\\n\\t    <account-number>3006</account-number>\\n\\t    <device-id>079fccce-6f7c-456e-953f-127d30ca4017</device-id>\\n\\t    <phone-number>5302993934</phone-number>\\n\\t    <model>MeeToo 1.0</model>\\n\\t  </activation>\\n\\t  \\t\\t  <activation timestamp=\"1261368280\" type=\"phone\">\\n\\t    <account-number>2759</account-number>\\n\\t    <device-id>249bd5d5-c057-4ea4-9704-46bcebc31598</device-id>\\n\\t    <phone-number>4157054897</phone-number>\\n\\t    <model>MeeToo 1.0</model>\\n\\t  </activation>\\n\\t  \\t\\t  <activation timestamp=\"1261355789\" type=\"phone\">\\n\\t    <account-number>49637</account-number>\\n\\t    <device-id>05ba7569-2ce8-4e68-af2d-c76e8645c357</device-id>\\n\\t    <phone-number>6610497916</phone-number>\\n\\t    <model>Titanic 1000</model>\\n\\t  </activation>\\n\\t  \\t\\t  <activation timestamp=\"1261352218\" type=\"phone\">\\n\\t    <account-number>1383</account-number>\\n\\t    <device-id>e3b414e1-8228-48fd-bed7-4836627ae852</device-id>\\n\\t    <phone-number>5103076292</phone-number>\\n\\t    <model>Sorrento F01L</model>\\n\\t  </activation>\\n\\t  \\t\\t  <activation timestamp=\"1261347829\" type=\"phone\">\\n\\t    <account-number>1860</account-number>\\n\\t    <device-id>f71c2d84-b2a3-40bd-8926-086ce152558e</device-id>\\n\\t    <phone-number>5101698756</phone-number>\\n\\t    <model>Titanic 1000</model>\\n\\t  </activation>\\n\\t  \\t\\t  <activation timestamp=\"1261345377\" type=\"phone\">\\n\\t    <account-number>2196</account-number>\\n\\t    <device-id>cead5fa8-7cbc-42f0-afa6-e5d1bd04f359</device-id>\\n\\t    <phone-number>5106269456</phone-number>\\n\\t    <model>Titanic 1100</model>\\n\\t  </activation>\\n\\t  \\t\\t  <activation timestamp=\"1261344737\" type=\"phone\">\\n\\t    <account-number>4310</account-number>\\n\\t    <device-id>c996ddbd-a98a-4272-ab66-35e6c62e67e1</device-id>\\n\\t    <phone-number>5417383774</phone-number>\\n\\t    <model>Titanic 1100</model>\\n\\t  </activation>\\n\\t  \\t\\t  <activation timestamp=\"1261339527\" type=\"phone\">\\n\\t    <account-number>43030</account-number>\\n\\t    <device-id>1152a1f4-aa5a-44ec-b3c8-edd7e4980c7e</device-id>\\n\\t    <phone-number>8059209340</phone-number>\\n\\t    <model>Titanic 1100</model>\\n\\t  </activation>\\n\\t  \\t\\t  <activation timestamp=\"1261316374\" type=\"phone\">\\n\\t    <account-number>814</account-number>\\n\\t    <device-id>7b257387-660c-463e-a64b-82124072c77a</device-id>\\n\\t    <phone-number>5301604171</phone-number>\\n\\t    <model>Sorrento F00L</model>\\n\\t  </activation>\\n\\t  \\t\\t  <activation timestamp=\"1261296465\" type=\"phone\">\\n\\t    <account-number>24140</account-number>\\n\\t    <device-id>19720ed0-c88c-4025-90be-3c211d0dc238</device-id>\\n\\t    <phone-number>5030634358</phone-number>\\n\\t    <model>Sorrento F10L</model>\\n\\t  </activation>\\n\\t  \\t\\t  <activation timestamp=\"1261289949\" type=\"phone\">\\n\\t    <account-number>10283</account-number>\\n\\t    <device-id>a8376a19-7d7b-49cc-9a34-fa19f040641f</device-id>\\n\\t    <phone-number>8184969044</phone-number>\\n\\t    <model>Titanic 1000</model>\\n\\t  </activation>\\n\\t  \\t\\t  <activation timestamp=\"1261286107\" type=\"phone\">\\n\\t    <account-number>1427</account-number>\\n\\t    <device-id>d5823702-b890-45a1-9813-49ad1e499f4f</device-id>\\n\\t    <phone-number>6501067577</phone-number>\\n\\t    <model>Titanic 1100</model>\\n\\t  </activation>\\n\\t  \\t\\t  <activation timestamp=\"1261281018\" type=\"phone\">\\n\\t    <account-number>3410</account-number>\\n\\t    <device-id>0f590049-eb39-4dfe-9909-4db624242779</device-id>\\n\\t    <phone-number>9169907495</phone-number>\\n\\t    <model>Sorrento F01L</model>\\n\\t  </activation>\\n\\t  \\t\\t  <activation timestamp=\"1261278713\" type=\"phone\">\\n\\t    <account-number>3114</account-number>\\n\\t    <device-id>734e4436-dd2d-4a2a-ad3d-b13c90c87d5f</device-id>\\n\\t    <phone-number>2094429893</phone-number>\\n\\t    <model>MeeToo 1.0</model>\\n\\t  </activation>\\n\\t  \\t\\t  <activation timestamp=\"1261276329\" type=\"phone\">\\n\\t    <account-number>2476</account-number>\\n\\t    <device-id>dd899ffd-8ee2-4fcf-b730-7976354ecadb</device-id>\\n\\t    <phone-number>2094638997</phone-number>\\n\\t    <model>Sorrento F00L</model>\\n\\t  </activation>\\n\\t  \\t\\t  <activation timestamp=\"1261271551\" type=\"phone\">\\n\\t    <account-number>710</account-number>\\n\\t    <device-id>4f1a9d21-8524-470b-8401-799b40f4e8cf</device-id>\\n\\t    <phone-number>9168105782</phone-number>\\n\\t    <model>MeeToo 1.0</model>\\n\\t  </activation>\\n\\t  \\t\\t  <activation timestamp=\"1261264479\" type=\"phone\">\\n\\t    <account-number>1103</account-number>\\n\\t    <device-id>d1815763-1b45-4645-8d88-2c84ccc457c1</device-id>\\n\\t    <phone-number>5102896431</phone-number>\\n\\t    <model>Sorrento F01L</model>\\n\\t  </activation>\\n\\t  \\t\\t  <activation timestamp=\"1261256180\" type=\"phone\">\\n\\t    <account-number>3090</account-number>\\n\\t    <device-id>9e362f9a-82e2-4d5f-ae3a-571de940fcc7</device-id>\\n\\t    <phone-number>9169894563</phone-number>\\n\\t    <model>Sorrento F10L</model>\\n\\t  </activation>\\n\\t  \\t\\t  <activation timestamp=\"1261251303\" type=\"phone\">\\n\\t    <account-number>1842</account-number>\\n\\t    <device-id>936c126b-4182-48a2-9277-2eb5e45abfe9</device-id>\\n\\t    <phone-number>9166255377</phone-number>\\n\\t    <model>Sorrento F01L</model>\\n\\t  </activation>\\n\\t  \\t\\t  <activation timestamp=\"1261250793\" type=\"phone\">\\n\\t    <account-number>2628</account-number>\\n\\t    <device-id>0315f570-906a-4cd0-a3eb-10696c1f51ce</device-id>\\n\\t    <phone-number>5303302261</phone-number>\\n\\t    <model>Titanic 1000</model>\\n\\t  </activation>\\n\\t  \\t\\t  <activation timestamp=\"1261241907\" type=\"phone\">\\n\\t    <account-number>2029</account-number>\\n\\t    <device-id>21136b46-aae0-48e6-92a1-fd48567897b2</device-id>\\n\\t    <phone-number>4158713577</phone-number>\\n\\t    <model>Titanic 1000</model>\\n\\t  </activation>\\n\\t  \\t\\t  <activation timestamp=\"1261240445\" type=\"phone\">\\n\\t    <account-number>1148</account-number>\\n\\t    <device-id>881f0421-a47e-47f1-a535-3470c9aa44fc</device-id>\\n\\t    <phone-number>7076558695</phone-number>\\n\\t    <model>MeeToo 1.0</model>\\n\\t  </activation>\\n\\t  \\t\\t  <activation timestamp=\"1261235657\" type=\"phone\">\\n\\t    <account-number>1475</account-number>\\n\\t    <device-id>3c6e4d7d-2684-422c-a30b-532dce5442fb</device-id>\\n\\t    <phone-number>2099378849</phone-number>\\n\\t    <model>Sorrento F00L</model>\\n\\t  </activation>\\n\\t  \\t\\t  <activation timestamp=\"1261210752\" type=\"phone\">\\n\\t    <account-number>1378</account-number>\\n\\t    <device-id>2a4ae594-83a1-4a45-83ad-4f3c4e7f52f7</device-id>\\n\\t    <phone-number>9165255642</phone-number>\\n\\t    <model>Sorrento F10L</model>\\n\\t  </activation>\\n\\t  \\t\\t  <activation timestamp=\"1261204717\" type=\"phone\">\\n\\t    <account-number>20578</account-number>\\n\\t    <device-id>f72afe61-4d00-4c72-8754-f59403357eac</device-id>\\n\\t    <phone-number>7757871267</phone-number>\\n\\t    <model>Sorrento F10L</model>\\n\\t  </activation>\\n\\t  \\t\\t  <activation timestamp=\"1261201682\" type=\"phone\">\\n\\t    <account-number>2397</account-number>\\n\\t    <device-id>de7006c4-3b67-4463-bf09-06cd937d6158</device-id>\\n\\t    <phone-number>5307900294</phone-number>\\n\\t    <model>Sorrento F00L</model>\\n\\t  </activation>\\n\\t  \\t\\t  <activation timestamp=\"1261195269\" type=\"phone\">\\n\\t    <account-number>1574</account-number>\\n\\t    <device-id>25b0959d-b435-4c8d-bfe9-aafc30e06fb6</device-id>\\n\\t    <phone-number>4156302832</phone-number>\\n\\t    <model>Titanic 1100</model>\\n\\t  </activation>\\n\\t  \\t\\t  <activation timestamp=\"1261193579\" type=\"phone\">\\n\\t    <account-number>2664</account-number>\\n\\t    <device-id>2818acc7-2220-44dc-b14a-26e7518bd979</device-id>\\n\\t    <phone-number>4080190392</phone-number>\\n\\t    <model>Sorrento F00L</model>\\n\\t  </activation>\\n\\t  \\t\\t  <activation timestamp=\"1261191864\" type=\"phone\">\\n\\t    <account-number>47773</account-number>\\n\\t    <device-id>ece6d663-65c7-40e3-99e3-390aafd07ae8</device-id>\\n\\t    <phone-number>9286761780</phone-number>\\n\\t    <model>Sorrento F10L</model>\\n\\t  </activation>\\n\\t  \\t\\t  <activation timestamp=\"1261176936\" type=\"phone\">\\n\\t    <account-number>1542</account-number>\\n\\t    <device-id>dcaed6ac-dcbe-4ffd-84f4-eb960abfbff6</device-id>\\n\\t    <phone-number>4150042828</phone-number>\\n\\t    <model>Titanic 1000</model>\\n\\t  </activation>\\n\\t  \\t\\t  <activation timestamp=\"1261170777\" type=\"phone\">\\n\\t    <account-number>636</account-number>\\n\\t    <device-id>c4fee244-fc70-4e0a-a217-4e9d2161b992</device-id>\\n\\t    <phone-number>4152596611</phone-number>\\n\\t    <model>MeeToo 1.0</model>\\n\\t  </activation>\\n\\t  \\t\\t  <activation timestamp=\"1261158677\" type=\"phone\">\\n\\t    <account-number>2469</account-number>\\n\\t    <device-id>8e9da3cf-865d-4027-8b03-155dc49414e9</device-id>\\n\\t    <phone-number>9164018292</phone-number>\\n\\t    <model>Titanic 1100</model>\\n\\t  </activation>\\n\\t  \\t\\t  <activation timestamp=\"1261140585\" type=\"phone\">\\n\\t    <account-number>30487</account-number>\\n\\t    <device-id>df862124-d605-42b9-b6a2-995c4392d14a</device-id>\\n\\t    <phone-number>6501271997</phone-number>\\n\\t    <model>Titanic 1000</model>\\n\\t  </activation>\\n\\t  \\t\\t  <activation timestamp=\"1261140196\" type=\"phone\">\\n\\t    <account-number>1873</account-number>\\n\\t    <device-id>b3e1f1ea-8f44-41c3-9342-903788c8d1a7</device-id>\\n\\t    <phone-number>2096691855</phone-number>\\n\\t    <model>Sorrento F10L</model>\\n\\t  </activation>\\n\\t  \\t\\t  <activation timestamp=\"1261136216\" type=\"phone\">\\n\\t    <account-number>2279</account-number>\\n\\t    <device-id>049a5025-0a54-4b63-b942-10a19b7b3a63</device-id>\\n\\t    <phone-number>7075993156</phone-number>\\n\\t    <model>iFruit 1</model>\\n\\t  </activation>\\n\\t  \\t\\t  <activation timestamp=\"1261133251\" type=\"phone\">\\n\\t    <account-number>82760</account-number>\\n\\t    <device-id>716ac7ac-5234-46f6-aec7-8a05088d3c5f</device-id>\\n\\t    <phone-number>5035647417</phone-number>\\n\\t    <model>iFruit 1</model>\\n\\t  </activation>\\n\\t  \\t\\t  <activation timestamp=\"1261122283\" type=\"phone\">\\n\\t    <account-number>104605</account-number>\\n\\t    <device-id>caf29b29-4b62-4662-baf3-22fb0e5a5135</device-id>\\n\\t    <phone-number>5104233880</phone-number>\\n\\t    <model>Sorrento F00L</model>\\n\\t  </activation>\\n\\t  \\t\\t  <activation timestamp=\"1261097678\" type=\"phone\">\\n\\t    <account-number>2056</account-number>\\n\\t    <device-id>cc12e367-5dea-4c60-8ada-b36a0112d9ef</device-id>\\n\\t    <phone-number>2093232684</phone-number>\\n\\t    <model>Titanic 1000</model>\\n\\t  </activation>\\n\\t  \\t\\t  <activation timestamp=\"1261079432\" type=\"phone\">\\n\\t    <account-number>792</account-number>\\n\\t    <device-id>222d39a0-c1e6-4ed7-b967-a756caf1a77e</device-id>\\n\\t    <phone-number>5103448298</phone-number>\\n\\t    <model>iFruit 1</model>\\n\\t  </activation>\\n\\t  \\t\\t  <activation timestamp=\"1261078721\" type=\"phone\">\\n\\t    <account-number>2512</account-number>\\n\\t    <device-id>e0460cfa-be2d-44e2-9b2f-9f2d8fb55e20</device-id>\\n\\t    <phone-number>4153234867</phone-number>\\n\\t    <model>Sorrento F00L</model>\\n\\t  </activation>\\n\\t  \\t\\t  <activation timestamp=\"1261061467\" type=\"phone\">\\n\\t    <account-number>1417</account-number>\\n\\t    <device-id>71f9aefa-47e1-4aa1-8b98-8d534464c9da</device-id>\\n\\t    <phone-number>6506671406</phone-number>\\n\\t    <model>Titanic 1000</model>\\n\\t  </activation>\\n\\t  \\t\\t  <activation timestamp=\"1261059890\" type=\"phone\">\\n\\t    <account-number>2712</account-number>\\n\\t    <device-id>86da07d3-d3a6-466e-9bf3-8587a4cfc235</device-id>\\n\\t    <phone-number>2093448951</phone-number>\\n\\t    <model>Sorrento F10L</model>\\n\\t  </activation>\\n\\t  \\t\\t  <activation timestamp=\"1261051600\" type=\"phone\">\\n\\t    <account-number>1784</account-number>\\n\\t    <device-id>1ba1dae7-8eaf-4415-b1e7-d70f5b164ca9</device-id>\\n\\t    <phone-number>6505415521</phone-number>\\n\\t    <model>Sorrento F10L</model>\\n\\t  </activation>\\n\\t  \\t\\t  <activation timestamp=\"1261047806\" type=\"phone\">\\n\\t    <account-number>695</account-number>\\n\\t    <device-id>df5f7d88-6135-42a1-84c4-62c429aeb9fe</device-id>\\n\\t    <phone-number>5103047620</phone-number>\\n\\t    <model>Titanic 1000</model>\\n\\t  </activation>\\n\\t  \\t\\t  <activation timestamp=\"1261044286\" type=\"phone\">\\n\\t    <account-number>670</account-number>\\n\\t    <device-id>af1833d9-8420-4703-bdf9-43e13fe80369</device-id>\\n\\t    <phone-number>7072858947</phone-number>\\n\\t    <model>Titanic 1100</model>\\n\\t  </activation>\\n\\t  \\t\\t  <activation timestamp=\"1261038837\" type=\"phone\">\\n\\t    <account-number>1171</account-number>\\n\\t    <device-id>feffa4f6-fef4-45d0-b33b-ce3ca151c017</device-id>\\n\\t    <phone-number>6503548983</phone-number>\\n\\t    <model>Sorrento F00L</model>\\n\\t  </activation>\\n\\t  \\t\\t  <activation timestamp=\"1261012904\" type=\"phone\">\\n\\t    <account-number>19729</account-number>\\n\\t    <device-id>5bbded7c-f0d0-4602-95ad-cb206bd76173</device-id>\\n\\t    <phone-number>7022608358</phone-number>\\n\\t    <model>Titanic 1100</model>\\n\\t  </activation>\\n\\t  \\t\\t  <activation timestamp=\"1260998011\" type=\"phone\">\\n\\t    <account-number>16937</account-number>\\n\\t    <device-id>31e8915b-17c8-43d7-8d8c-683a3939666a</device-id>\\n\\t    <phone-number>6579881157</phone-number>\\n\\t    <model>Sorrento F01L</model>\\n\\t  </activation>\\n\\t  \\t\\t  <activation timestamp=\"1260997992\" type=\"phone\">\\n\\t    <account-number>831</account-number>\\n\\t    <device-id>c7426316-891e-4883-983b-09a6fe2ff7ad</device-id>\\n\\t    <phone-number>5307064016</phone-number>\\n\\t    <model>Titanic 1100</model>\\n\\t  </activation>\\n\\t  \\t\\t  <activation timestamp=\"1260996703\" type=\"phone\">\\n\\t    <account-number>86119</account-number>\\n\\t    <device-id>50a53016-3984-4ea2-97ba-a73752ee7466</device-id>\\n\\t    <phone-number>6268508213</phone-number>\\n\\t    <model>Sorrento F10L</model>\\n\\t  </activation>\\n\\t  \\t\\t  <activation timestamp=\"1260992941\" type=\"phone\">\\n\\t    <account-number>14339</account-number>\\n\\t    <device-id>0cfbeeda-542b-4935-a3b2-ce5caf66071a</device-id>\\n\\t    <phone-number>9169001702</phone-number>\\n\\t    <model>Titanic 1000</model>\\n\\t  </activation>\\n\\t  \\t\\t  <activation timestamp=\"1260992302\" type=\"phone\">\\n\\t    <account-number>14197</account-number>\\n\\t    <device-id>9515cfbb-6006-4e40-b60c-22b530a91cc7</device-id>\\n\\t    <phone-number>3102695158</phone-number>\\n\\t    <model>Sorrento F10L</model>\\n\\t  </activation>\\n\\t  \\t\\t  <activation timestamp=\"1260991120\" type=\"phone\">\\n\\t    <account-number>8728</account-number>\\n\\t    <device-id>ef27fe68-1f00-462d-b197-f1a696b6b5da</device-id>\\n\\t    <phone-number>6505628376</phone-number>\\n\\t    <model>Sorrento F00L</model>\\n\\t  </activation>\\n\\t  \\t\\t  <activation timestamp=\"1260986429\" type=\"phone\">\\n\\t    <account-number>81224</account-number>\\n\\t    <device-id>0c8d2ee5-9f0c-4e13-87d4-fabc47602380</device-id>\\n\\t    <phone-number>8055847994</phone-number>\\n\\t    <model>iFruit 1</model>\\n\\t  </activation>\\n\\t  \\t\\t  <activation timestamp=\"1260985052\" type=\"phone\">\\n\\t    <account-number>42499</account-number>\\n\\t    <device-id>1eccf5f9-c16c-481c-9a99-ce731e2d478a</device-id>\\n\\t    <phone-number>5597977003</phone-number>\\n\\t    <model>Sorrento F01L</model>\\n\\t  </activation>\\n\\t  \\t\\t  <activation timestamp=\"1260977137\" type=\"phone\">\\n\\t    <account-number>64036</account-number>\\n\\t    <device-id>2b29e4a4-4edc-4310-a8f7-6bf0b86c6228</device-id>\\n\\t    <phone-number>5106419131</phone-number>\\n\\t    <model>Sorrento F10L</model>\\n\\t  </activation>\\n\\t  \\t\\t  <activation timestamp=\"1260976871\" type=\"phone\">\\n\\t    <account-number>1318</account-number>\\n\\t    <device-id>6811d8f4-651e-4a9f-906c-f9df7ebbd07a</device-id>\\n\\t    <phone-number>2095604196</phone-number>\\n\\t    <model>Sorrento F10L</model>\\n\\t  </activation>\\n\\t  \\t\\t  <activation timestamp=\"1260974529\" type=\"phone\">\\n\\t    <account-number>2756</account-number>\\n\\t    <device-id>5376eed6-6408-4458-8b2b-49d3362c204d</device-id>\\n\\t    <phone-number>4157989448</phone-number>\\n\\t    <model>Titanic 1000</model>\\n\\t  </activation>\\n\\t  \\t\\t  <activation timestamp=\"1260973794\" type=\"phone\">\\n\\t    <account-number>646</account-number>\\n\\t    <device-id>f62486b7-ba54-4900-bc22-73bce587b4d7</device-id>\\n\\t    <phone-number>4157981259</phone-number>\\n\\t    <model>Titanic 1100</model>\\n\\t  </activation>\\n\\t  \\t\\t  <activation timestamp=\"1260957907\" type=\"phone\">\\n\\t    <account-number>2782</account-number>\\n\\t    <device-id>2e6df7c5-824e-40c3-bc5b-f1e3ac583594</device-id>\\n\\t    <phone-number>7072653849</phone-number>\\n\\t    <model>Sorrento F00L</model>\\n\\t  </activation>\\n\\t  \\t\\t  <activation timestamp=\"1260954489\" type=\"phone\">\\n\\t    <account-number>44733</account-number>\\n\\t    <device-id>d97f57d5-03bb-4d84-bca3-456c19668850</device-id>\\n\\t    <phone-number>7757009595</phone-number>\\n\\t    <model>iFruit 1</model>\\n\\t  </activation>\\n\\t  \\t\\t  <activation timestamp=\"1260948898\" type=\"phone\">\\n\\t    <account-number>3021</account-number>\\n\\t    <device-id>f27340ef-eba4-4c34-b6de-9cecf0b06b7f</device-id>\\n\\t    <phone-number>5108860840</phone-number>\\n\\t    <model>Titanic 1000</model>\\n\\t  </activation>\\n\\t  \\t\\t  <activation timestamp=\"1260934787\" type=\"phone\">\\n\\t    <account-number>974</account-number>\\n\\t    <device-id>a9eefba0-7b1a-44ce-a96a-f95ceb5ee4fe</device-id>\\n\\t    <phone-number>7070611005</phone-number>\\n\\t    <model>Titanic 1100</model>\\n\\t  </activation>\\n\\t  \\t\\t  <activation timestamp=\"1260931398\" type=\"phone\">\\n\\t    <account-number>3226</account-number>\\n\\t    <device-id>2e0ab348-7732-49b6-92b8-4d661ca12693</device-id>\\n\\t    <phone-number>4155776274</phone-number>\\n\\t    <model>Sorrento F01L</model>\\n\\t  </activation>\\n\\t  \\t\\t  <activation timestamp=\"1260926719\" type=\"phone\">\\n\\t    <account-number>3433</account-number>\\n\\t    <device-id>0226fa65-c392-40ae-88b1-9731d026a61e</device-id>\\n\\t    <phone-number>2095213462</phone-number>\\n\\t    <model>Titanic 1000</model>\\n\\t  </activation>\\n\\t  \\t\\t  <activation timestamp=\"1260926512\" type=\"phone\">\\n\\t    <account-number>24436</account-number>\\n\\t    <device-id>c67177ed-0dc9-4a3d-afc6-85d0c2c36213</device-id>\\n\\t    <phone-number>5590405603</phone-number>\\n\\t    <model>iFruit 1</model>\\n\\t  </activation>\\n\\t  \\t\\t  <activation timestamp=\"1260893955\" type=\"phone\">\\n\\t    <account-number>2653</account-number>\\n\\t    <device-id>355caad2-041a-4721-83f8-64a532d83d9f</device-id>\\n\\t    <phone-number>7076628486</phone-number>\\n\\t    <model>Sorrento F01L</model>\\n\\t  </activation>\\n\\t  \\t\\t  <activation timestamp=\"1260889200\" type=\"phone\">\\n\\t    <account-number>1708</account-number>\\n\\t    <device-id>71387348-6312-45bc-9c9f-25f27fa1edce</device-id>\\n\\t    <phone-number>5105959330</phone-number>\\n\\t    <model>Sorrento F10L</model>\\n\\t  </activation>\\n\\t  \\t\\t  <activation timestamp=\"1260886967\" type=\"phone\">\\n\\t    <account-number>15634</account-number>\\n\\t    <device-id>14e1aaae-a2c7-41aa-a1fb-cb66f9946013</device-id>\\n\\t    <phone-number>5412269648</phone-number>\\n\\t    <model>MeeToo 1.0</model>\\n\\t  </activation>\\n\\t  \\t\\t  <activation timestamp=\"1260878057\" type=\"phone\">\\n\\t    <account-number>3063</account-number>\\n\\t    <device-id>acb7bf09-7c23-44db-8d87-0a133608a46f</device-id>\\n\\t    <phone-number>2094498546</phone-number>\\n\\t    <model>iFruit 1</model>\\n\\t  </activation>\\n\\t  \\t\\t  <activation timestamp=\"1260870958\" type=\"phone\">\\n\\t    <account-number>2446</account-number>\\n\\t    <device-id>0f09b6ba-b6fd-4453-92c1-b87d73f6657b</device-id>\\n\\t    <phone-number>9162970468</phone-number>\\n\\t    <model>Titanic 1100</model>\\n\\t  </activation>\\n\\t  \\t\\t  <activation timestamp=\"1260870063\" type=\"phone\">\\n\\t    <account-number>2574</account-number>\\n\\t    <device-id>09395594-c2ba-4091-9868-3d1230bf706f</device-id>\\n\\t    <phone-number>7079318359</phone-number>\\n\\t    <model>Sorrento F00L</model>\\n\\t  </activation>\\n\\t  \\t\\t  <activation timestamp=\"1260841711\" type=\"phone\">\\n\\t    <account-number>2485</account-number>\\n\\t    <device-id>371e5631-0b8e-416f-94ca-18490de0baf0</device-id>\\n\\t    <phone-number>9169230943</phone-number>\\n\\t    <model>Sorrento F01L</model>\\n\\t  </activation>\\n\\t  \\t\\t  <activation timestamp=\"1260837227\" type=\"phone\">\\n\\t    <account-number>15994</account-number>\\n\\t    <device-id>4a2053d7-aca2-402f-8961-2a2425fdf188</device-id>\\n\\t    <phone-number>8312106165</phone-number>\\n\\t    <model>Sorrento F10L</model>\\n\\t  </activation>\\n\\t  \\t\\t  <activation timestamp=\"1260835472\" type=\"phone\">\\n\\t    <account-number>2822</account-number>\\n\\t    <device-id>119f428b-eb18-46a4-aab2-6469a039fc4a</device-id>\\n\\t    <phone-number>4150348287</phone-number>\\n\\t    <model>MeeToo 1.0</model>\\n\\t  </activation>\\n\\t  \\t\\t  <activation timestamp=\"1260834520\" type=\"phone\">\\n\\t    <account-number>1129</account-number>\\n\\t    <device-id>e1438c8f-f786-4ab9-9d7e-406791e1617d</device-id>\\n\\t    <phone-number>5303400026</phone-number>\\n\\t    <model>Sorrento F00L</model>\\n\\t  </activation>\\n\\t  \\t\\t  <activation timestamp=\"1260833796\" type=\"phone\">\\n\\t    <account-number>1674</account-number>\\n\\t    <device-id>584b4748-3446-49ac-a9d1-ec70a180e74e</device-id>\\n\\t    <phone-number>2094086777</phone-number>\\n\\t    <model>Sorrento F10L</model>\\n\\t  </activation>\\n\\t  \\t\\t  <activation timestamp=\"1260822353\" type=\"phone\">\\n\\t    <account-number>101922</account-number>\\n\\t    <device-id>824a847e-32eb-4e31-b763-215a787dd75a</device-id>\\n\\t    <phone-number>5037142426</phone-number>\\n\\t    <model>MeeToo 1.0</model>\\n\\t  </activation>\\n\\t  \\t\\t  <activation timestamp=\"1260803518\" type=\"phone\">\\n\\t    <account-number>606</account-number>\\n\\t    <device-id>a31c700f-ce75-4cbb-9a81-4b2154e8a588</device-id>\\n\\t    <phone-number>7071735461</phone-number>\\n\\t    <model>Sorrento F10L</model>\\n\\t  </activation>\\n\\t  \\t\\t  <activation timestamp=\"1260787940\" type=\"phone\">\\n\\t    <account-number>3307</account-number>\\n\\t    <device-id>20a18316-17a0-4e3f-b9a4-09869b8a471d</device-id>\\n\\t    <phone-number>4087312362</phone-number>\\n\\t    <model>Titanic 1000</model>\\n\\t  </activation>\\n\\t  \\t\\t  <activation timestamp=\"1260771447\" type=\"phone\">\\n\\t    <account-number>2140</account-number>\\n\\t    <device-id>154d4660-c2f9-4818-8d27-65d231667631</device-id>\\n\\t    <phone-number>4083714172</phone-number>\\n\\t    <model>Sorrento F00L</model>\\n\\t  </activation>\\n\\t  \\t\\t  <activation timestamp=\"1260769114\" type=\"phone\">\\n\\t    <account-number>1237</account-number>\\n\\t    <device-id>be601450-a76d-47d3-b4b2-dcce3a431d92</device-id>\\n\\t    <phone-number>2093897986</phone-number>\\n\\t    <model>MeeToo 1.0</model>\\n\\t  </activation>\\n\\t  \\t\\t  <activation timestamp=\"1260767243\" type=\"phone\">\\n\\t    <account-number>3132</account-number>\\n\\t    <device-id>238503c8-41e4-4157-8d70-8ca865c3512c</device-id>\\n\\t    <phone-number>5106078126</phone-number>\\n\\t    <model>Sorrento F10L</model>\\n\\t  </activation>\\n\\t  \\t\\t  <activation timestamp=\"1260766956\" type=\"phone\">\\n\\t    <account-number>1382</account-number>\\n\\t    <device-id>6f88a4fe-3fd0-4c1a-9d20-26eb3b699c2d</device-id>\\n\\t    <phone-number>5109019896</phone-number>\\n\\t    <model>Titanic 1000</model>\\n\\t  </activation>\\n\\t  \\t\\t  <activation timestamp=\"1260762778\" type=\"phone\">\\n\\t    <account-number>1431</account-number>\\n\\t    <device-id>d860d6c6-de01-4fbc-924e-0a052466244c</device-id>\\n\\t    <phone-number>5108341457</phone-number>\\n\\t    <model>iFruit 1</model>\\n\\t  </activation>\\n\\t  \\t\\t  <activation timestamp=\"1260759628\" type=\"phone\">\\n\\t    <account-number>2867</account-number>\\n\\t    <device-id>86e883dc-0770-4c9f-8f99-fd4d3c82449c</device-id>\\n\\t    <phone-number>6505987895</phone-number>\\n\\t    <model>Sorrento F10L</model>\\n\\t  </activation>\\n\\t  \\t\\t  <activation timestamp=\"1260758852\" type=\"phone\">\\n\\t    <account-number>2209</account-number>\\n\\t    <device-id>5bb255ca-6196-4b68-9d36-0dfbf8ab8339</device-id>\\n\\t    <phone-number>9165764247</phone-number>\\n\\t    <model>Sorrento F10L</model>\\n\\t  </activation>\\n\\t  \\t\\t  <activation timestamp=\"1260757780\" type=\"phone\">\\n\\t    <account-number>835</account-number>\\n\\t    <device-id>46e5055a-db03-444f-8dc1-c1727a2a32a2</device-id>\\n\\t    <phone-number>4155899163</phone-number>\\n\\t    <model>Titanic 1100</model>\\n\\t  </activation>\\n\\t  \\t\\t  <activation timestamp=\"1260743483\" type=\"phone\">\\n\\t    <account-number>23104</account-number>\\n\\t    <device-id>f3cae712-90a0-433c-a502-dacf69f98cad</device-id>\\n\\t    <phone-number>6261085405</phone-number>\\n\\t    <model>Titanic 1000</model>\\n\\t  </activation>\\n\\t  \\t\\t  <activation timestamp=\"1260733546\" type=\"phone\">\\n\\t    <account-number>5104</account-number>\\n\\t    <device-id>9371b44b-7b17-4380-84e2-cc847114e840</device-id>\\n\\t    <phone-number>8318079298</phone-number>\\n\\t    <model>Sorrento F01L</model>\\n\\t  </activation>\\n\\t  \\t\\t  <activation timestamp=\"1260732166\" type=\"phone\">\\n\\t    <account-number>2588</account-number>\\n\\t    <device-id>f1ba0f6c-a989-4920-beaf-469047b8a1ac</device-id>\\n\\t    <phone-number>9163554241</phone-number>\\n\\t    <model>MeeToo 1.0</model>\\n\\t  </activation>\\n\\t  \\t\\t  <activation timestamp=\"1260728046\" type=\"phone\">\\n\\t    <account-number>47276</account-number>\\n\\t    <device-id>80ef3df0-68f3-4046-9321-e9c80e5ca5ec</device-id>\\n\\t    <phone-number>9289505897</phone-number>\\n\\t    <model>Sorrento F00L</model>\\n\\t  </activation>\\n\\t  \\t\\t  <activation timestamp=\"1260721453\" type=\"phone\">\\n\\t    <account-number>1384</account-number>\\n\\t    <device-id>b15e8bc1-20a4-4ee9-8216-fa13f5337caa</device-id>\\n\\t    <phone-number>9166602686</phone-number>\\n\\t    <model>MeeToo 1.0</model>\\n\\t  </activation>\\n\\t  \\t\\t  <activation timestamp=\"1260717629\" type=\"phone\">\\n\\t    <account-number>769</account-number>\\n\\t    <device-id>0b0c5472-e0a4-465e-b0d7-fa3df4877562</device-id>\\n\\t    <phone-number>4156619337</phone-number>\\n\\t    <model>Sorrento F00L</model>\\n\\t  </activation>\\n\\t  \\t\\t  <activation timestamp=\"1260688867\" type=\"phone\">\\n\\t    <account-number>1743</account-number>\\n\\t    <device-id>1e9b4591-b3c5-45b5-b3f1-dcbe2fafd09f</device-id>\\n\\t    <phone-number>2098719612</phone-number>\\n\\t    <model>Sorrento F00L</model>\\n\\t  </activation>\\n\\t  \\t\\t  <activation timestamp=\"1260683063\" type=\"phone\">\\n\\t    <account-number>1927</account-number>\\n\\t    <device-id>5b30ccdd-a2b6-4b3c-8a5a-e4a88ffb73ea</device-id>\\n\\t    <phone-number>5103700609</phone-number>\\n\\t    <model>iFruit 1</model>\\n\\t  </activation>\\n\\t  \\t\\t  <activation timestamp=\"1260682751\" type=\"phone\">\\n\\t    <account-number>11645</account-number>\\n\\t    <device-id>a3781a5b-8a05-47de-aeeb-f20b863c062c</device-id>\\n\\t    <phone-number>7757281224</phone-number>\\n\\t    <model>Sorrento F10L</model>\\n\\t  </activation>\\n\\t  \\t\\t  <activation timestamp=\"1260681104\" type=\"phone\">\\n\\t    <account-number>1296</account-number>\\n\\t    <device-id>61ef7b95-9524-4810-87af-9338ce385f2d</device-id>\\n\\t    <phone-number>4154627230</phone-number>\\n\\t    <model>Sorrento F00L</model>\\n\\t  </activation>\\n\\t  \\t\\t  <activation timestamp=\"1260673637\" type=\"phone\">\\n\\t    <account-number>4921</account-number>\\n\\t    <device-id>edcb4dcf-4262-4423-8a7b-e13f1d2ae07f</device-id>\\n\\t    <phone-number>3100148592</phone-number>\\n\\t    <model>Sorrento F10L</model>\\n\\t  </activation>\\n\\t  \\t\\t  <activation timestamp=\"1260664220\" type=\"phone\">\\n\\t    <account-number>1084</account-number>\\n\\t    <device-id>9f7a781f-a635-4647-9d6b-b3d758c48dae</device-id>\\n\\t    <phone-number>7070930024</phone-number>\\n\\t    <model>Titanic 1100</model>\\n\\t  </activation>\\n\\t  \\t\\t  <activation timestamp=\"1260658345\" type=\"phone\">\\n\\t    <account-number>528</account-number>\\n\\t    <device-id>9b01e90d-2cbc-4182-80d5-ecc03bb55f66</device-id>\\n\\t    <phone-number>6500611419</phone-number>\\n\\t    <model>Sorrento F10L</model>\\n\\t  </activation>\\n\\t  \\t\\t  <activation timestamp=\"1260644441\" type=\"phone\">\\n\\t    <account-number>67173</account-number>\\n\\t    <device-id>0faefa60-3efa-4895-bb0d-1f8b7c2b2a22</device-id>\\n\\t    <phone-number>5036229303</phone-number>\\n\\t    <model>Sorrento F01L</model>\\n\\t  </activation>\\n\\t  \\t\\t  <activation timestamp=\"1260644251\" type=\"phone\">\\n\\t    <account-number>98032</account-number>\\n\\t    <device-id>ca53ee3f-844d-47b3-9387-67356216ab66</device-id>\\n\\t    <phone-number>3103201253</phone-number>\\n\\t    <model>Sorrento F10L</model>\\n\\t  </activation>\\n\\t  \\t\\t  <activation timestamp=\"1260638706\" type=\"phone\">\\n\\t    <account-number>2596</account-number>\\n\\t    <device-id>5f267591-5baf-4037-99b1-9fd245a1da5c</device-id>\\n\\t    <phone-number>5104101975</phone-number>\\n\\t    <model>Sorrento F01L</model>\\n\\t  </activation>\\n\\t  \\t\\t  <activation timestamp=\"1260633582\" type=\"phone\">\\n\\t    <account-number>2960</account-number>\\n\\t    <device-id>2523bd83-db3d-4e1d-94b6-7a32553dd0a8</device-id>\\n\\t    <phone-number>9166435289</phone-number>\\n\\t    <model>Titanic 1000</model>\\n\\t  </activation>\\n\\t  \\t\\t  <activation timestamp=\"1260629990\" type=\"phone\">\\n\\t    <account-number>917</account-number>\\n\\t    <device-id>155f4114-1121-445f-96e2-66f46fed2e6d</device-id>\\n\\t    <phone-number>5102701147</phone-number>\\n\\t    <model>Sorrento F10L</model>\\n\\t  </activation>\\n\\t  \\t\\t  <activation timestamp=\"1260618741\" type=\"phone\">\\n\\t    <account-number>807</account-number>\\n\\t    <device-id>85c21e21-20fa-4d93-b5a4-097a68a5a624</device-id>\\n\\t    <phone-number>5108753416</phone-number>\\n\\t    <model>Sorrento F00L</model>\\n\\t  </activation>\\n\\t  \\t\\t  <activation timestamp=\"1260605657\" type=\"phone\">\\n\\t    <account-number>1859</account-number>\\n\\t    <device-id>9fd46d54-73de-4f24-8dbf-4bd61e441118</device-id>\\n\\t    <phone-number>5102389052</phone-number>\\n\\t    <model>Sorrento F01L</model>\\n\\t  </activation>\\n\\t  \\t\\t  <activation timestamp=\"1260599206\" type=\"phone\">\\n\\t    <account-number>53188</account-number>\\n\\t    <device-id>b1fd6de7-158f-435b-9c98-6dddee40fd4d</device-id>\\n\\t    <phone-number>2091314941</phone-number>\\n\\t    <model>Titanic 1000</model>\\n\\t  </activation>\\n\\t  \\t\\t  <activation timestamp=\"1260594945\" type=\"phone\">\\n\\t    <account-number>1291</account-number>\\n\\t    <device-id>10707ad9-155a-4447-b653-b79cbf820fd9</device-id>\\n\\t    <phone-number>4087875476</phone-number>\\n\\t    <model>Sorrento F01L</model>\\n\\t  </activation>\\n\\t  \\t\\t  <activation timestamp=\"1260581744\" type=\"phone\">\\n\\t    <account-number>67287</account-number>\\n\\t    <device-id>899388d6-3e19-4734-b66c-c4087aa82e09</device-id>\\n\\t    <phone-number>6570875156</phone-number>\\n\\t    <model>Titanic 1000</model>\\n\\t  </activation>\\n\\t  \\t\\t  <activation timestamp=\"1260566321\" type=\"phone\">\\n\\t    <account-number>49798</account-number>\\n\\t    <device-id>b707e67b-2acd-46b5-855b-12e64a54feed</device-id>\\n\\t    <phone-number>5107078923</phone-number>\\n\\t    <model>Titanic 1100</model>\\n\\t  </activation>\\n\\t  \\t\\t  <activation timestamp=\"1260565241\" type=\"phone\">\\n\\t    <account-number>3024</account-number>\\n\\t    <device-id>285ccca5-db62-48e5-8cb2-b9e763e725fc</device-id>\\n\\t    <phone-number>4155470152</phone-number>\\n\\t    <model>iFruit 1</model>\\n\\t  </activation>\\n\\t  \\t\\t  <activation timestamp=\"1260545024\" type=\"phone\">\\n\\t    <account-number>1655</account-number>\\n\\t    <device-id>9ea35d2b-da0b-45f6-adb9-1791d6c1c37c</device-id>\\n\\t    <phone-number>5105402749</phone-number>\\n\\t    <model>Sorrento F01L</model>\\n\\t  </activation>\\n\\t  \\t\\t  <activation timestamp=\"1260538636\" type=\"phone\">\\n\\t    <account-number>1491</account-number>\\n\\t    <device-id>391adb22-f6de-4b96-810d-98c39bd7e8b9</device-id>\\n\\t    <phone-number>7075615788</phone-number>\\n\\t    <model>Sorrento F01L</model>\\n\\t  </activation>\\n\\t  \\t\\t  <activation timestamp=\"1260527205\" type=\"phone\">\\n\\t    <account-number>2556</account-number>\\n\\t    <device-id>723e8d20-b270-4a56-94ba-b340af4d5d5c</device-id>\\n\\t    <phone-number>2097467314</phone-number>\\n\\t    <model>Titanic 1000</model>\\n\\t  </activation>\\n\\t  \\t\\t  <activation timestamp=\"1260521633\" type=\"phone\">\\n\\t    <account-number>2962</account-number>\\n\\t    <device-id>33d4904f-866f-4e50-a883-f91314b5681d</device-id>\\n\\t    <phone-number>6502250807</phone-number>\\n\\t    <model>MeeToo 1.0</model>\\n\\t  </activation>\\n\\t  \\t\\t  <activation timestamp=\"1260509664\" type=\"phone\">\\n\\t    <account-number>95536</account-number>\\n\\t    <device-id>f432590b-3da9-450f-b9ca-17859bbea65b</device-id>\\n\\t    <phone-number>9519754370</phone-number>\\n\\t    <model>Sorrento F10L</model>\\n\\t  </activation>\\n\\t  \\t\\t  <activation timestamp=\"1260508909\" type=\"phone\">\\n\\t    <account-number>950</account-number>\\n\\t    <device-id>7230a0cb-e2dc-4ea2-b0f1-beeeef92c0af</device-id>\\n\\t    <phone-number>5106090289</phone-number>\\n\\t    <model>MeeToo 1.0</model>\\n\\t  </activation>\\n\\t  \\t\\t  <activation timestamp=\"1260498475\" type=\"phone\">\\n\\t    <account-number>1767</account-number>\\n\\t    <device-id>93410d2a-9009-489f-97f0-2567a48166c5</device-id>\\n\\t    <phone-number>4155657764</phone-number>\\n\\t    <model>MeeToo 1.0</model>\\n\\t  </activation>\\n\\t  \\t\\t  <activation timestamp=\"1260496360\" type=\"phone\">\\n\\t    <account-number>963</account-number>\\n\\t    <device-id>85713762-0e34-45bf-9f81-31ef58adc562</device-id>\\n\\t    <phone-number>9168239090</phone-number>\\n\\t    <model>Titanic 1000</model>\\n\\t  </activation>\\n\\t  \\t\\t  <activation timestamp=\"1260493532\" type=\"phone\">\\n\\t    <account-number>62862</account-number>\\n\\t    <device-id>27a82dda-39e9-426a-a876-276290d33c12</device-id>\\n\\t    <phone-number>9284741960</phone-number>\\n\\t    <model>iFruit 1</model>\\n\\t  </activation>\\n\\t  \\t\\t  <activation timestamp=\"1260490137\" type=\"phone\">\\n\\t    <account-number>1204</account-number>\\n\\t    <device-id>ec350566-b789-403e-8de0-549bf2dbeaf5</device-id>\\n\\t    <phone-number>9161130981</phone-number>\\n\\t    <model>iFruit 1</model>\\n\\t  </activation>\\n\\t  \\t\\t  <activation timestamp=\"1260488850\" type=\"phone\">\\n\\t    <account-number>2883</account-number>\\n\\t    <device-id>c71d80d3-ae21-47cc-9e32-fd7602912728</device-id>\\n\\t    <phone-number>6502853053</phone-number>\\n\\t    <model>MeeToo 1.0</model>\\n\\t  </activation>\\n\\t  \\t\\t  <activation timestamp=\"1260480730\" type=\"phone\">\\n\\t    <account-number>628</account-number>\\n\\t    <device-id>6b7dcdd7-f430-40fe-aa99-c9c1ae5e8ce0</device-id>\\n\\t    <phone-number>6501153699</phone-number>\\n\\t    <model>iFruit 1</model>\\n\\t  </activation>\\n\\t  \\t\\t  <activation timestamp=\"1260480632\" type=\"phone\">\\n\\t    <account-number>20546</account-number>\\n\\t    <device-id>4e2e3c5d-9b83-4804-b6ac-549ed32c0794</device-id>\\n\\t    <phone-number>6265121941</phone-number>\\n\\t    <model>Sorrento F01L</model>\\n\\t  </activation>\\n\\t  \\t\\t  <activation timestamp=\"1260480213\" type=\"phone\">\\n\\t    <account-number>2982</account-number>\\n\\t    <device-id>89eca94d-5986-4151-9efd-dd14a2f24b43</device-id>\\n\\t    <phone-number>4150964370</phone-number>\\n\\t    <model>Sorrento F01L</model>\\n\\t  </activation>\\n\\t  \\t\\t  <activation timestamp=\"1260468300\" type=\"phone\">\\n\\t    <account-number>3504</account-number>\\n\\t    <device-id>e913d008-0962-4613-8e17-f60a1b73ce79</device-id>\\n\\t    <phone-number>2099867960</phone-number>\\n\\t    <model>MeeToo 1.0</model>\\n\\t  </activation>\\n\\t  \\t\\t  <activation timestamp=\"1260466086\" type=\"phone\">\\n\\t    <account-number>3506</account-number>\\n\\t    <device-id>2953c54a-caaa-49f7-9b82-b57c31ba76f3</device-id>\\n\\t    <phone-number>9162362555</phone-number>\\n\\t    <model>MeeToo 1.0</model>\\n\\t  </activation>\\n\\t  \\t\\t  <activation timestamp=\"1260464528\" type=\"phone\">\\n\\t    <account-number>3467</account-number>\\n\\t    <device-id>f84aeea4-00d9-452d-bbac-8a4604a7c477</device-id>\\n\\t    <phone-number>9165006708</phone-number>\\n\\t    <model>MeeToo 1.0</model>\\n\\t  </activation>\\n\\t  \\t\\t  <activation timestamp=\"1260455260\" type=\"phone\">\\n\\t    <account-number>9755</account-number>\\n\\t    <device-id>95361e3f-a2e2-41c7-937b-c79a7da9beaf</device-id>\\n\\t    <phone-number>2095432459</phone-number>\\n\\t    <model>Sorrento F01L</model>\\n\\t  </activation>\\n\\t  \\t\\t  <activation timestamp=\"1260455257\" type=\"phone\">\\n\\t    <account-number>2042</account-number>\\n\\t    <device-id>fe6c2d8e-8bae-4179-add2-3fb0fcd01296</device-id>\\n\\t    <phone-number>5308260363</phone-number>\\n\\t    <model>iFruit 1</model>\\n\\t  </activation>\\n\\t  \\t\\t  <activation timestamp=\"1260453158\" type=\"phone\">\\n\\t    <account-number>53100</account-number>\\n\\t    <device-id>ddc329d4-f5ac-40ee-8373-b53049839022</device-id>\\n\\t    <phone-number>7750404164</phone-number>\\n\\t    <model>Sorrento F00L</model>\\n\\t  </activation>\\n\\t  \\t\\t  <activation timestamp=\"1260451322\" type=\"phone\">\\n\\t    <account-number>2816</account-number>\\n\\t    <device-id>a6240495-f16a-4467-99f2-2ba1ca38de6e</device-id>\\n\\t    <phone-number>9167105213</phone-number>\\n\\t    <model>iFruit 1</model>\\n\\t  </activation>\\n\\t  \\t\\t  <activation timestamp=\"1260446323\" type=\"phone\">\\n\\t    <account-number>1323</account-number>\\n\\t    <device-id>8743e9cf-6319-4b06-a889-0deea7163c4b</device-id>\\n\\t    <phone-number>7078144509</phone-number>\\n\\t    <model>Sorrento F00L</model>\\n\\t  </activation>\\n\\t  \\t\\t  <activation timestamp=\"1260424527\" type=\"phone\">\\n\\t    <account-number>57095</account-number>\\n\\t    <device-id>5ba56f3d-5f63-4de6-8d61-238e9d337c1b</device-id>\\n\\t    <phone-number>9286909083</phone-number>\\n\\t    <model>Sorrento F00L</model>\\n\\t  </activation>\\n\\t  \\t\\t  <activation timestamp=\"1260391432\" type=\"phone\">\\n\\t    <account-number>1306</account-number>\\n\\t    <device-id>8816bdf4-e52c-4e6d-b282-d226db88169f</device-id>\\n\\t    <phone-number>7070960821</phone-number>\\n\\t    <model>Sorrento F01L</model>\\n\\t  </activation>\\n\\t  \\t\\t  <activation timestamp=\"1260362090\" type=\"phone\">\\n\\t    <account-number>2219</account-number>\\n\\t    <device-id>09a95018-c6fa-4b5c-9de4-05f4256925b0</device-id>\\n\\t    <phone-number>5106711536</phone-number>\\n\\t    <model>Titanic 1100</model>\\n\\t  </activation>\\n\\t  \\t\\t  <activation timestamp=\"1260359233\" type=\"phone\">\\n\\t    <account-number>2761</account-number>\\n\\t    <device-id>ff97f794-4da2-47ed-88db-ed33adb27e7e</device-id>\\n\\t    <phone-number>9166112957</phone-number>\\n\\t    <model>MeeToo 1.0</model>\\n\\t  </activation>\\n\\t  \\t\\t  <activation timestamp=\"1260353493\" type=\"phone\">\\n\\t    <account-number>3025</account-number>\\n\\t    <device-id>7f40da6f-eae8-4f56-bc99-d00d8545e04f</device-id>\\n\\t    <phone-number>6500821734</phone-number>\\n\\t    <model>Sorrento F01L</model>\\n\\t  </activation>\\n\\t  \\t\\t  <activation timestamp=\"1260352418\" type=\"phone\">\\n\\t    <account-number>67618</account-number>\\n\\t    <device-id>14e9f26c-ca88-4191-a797-1ae469644904</device-id>\\n\\t    <phone-number>6571040087</phone-number>\\n\\t    <model>Sorrento F01L</model>\\n\\t  </activation>\\n\\t  \\t\\t  <activation timestamp=\"1260350682\" type=\"phone\">\\n\\t    <account-number>1951</account-number>\\n\\t    <device-id>e7bce0a7-ac6e-43b9-8f31-bfc32b4b7978</device-id>\\n\\t    <phone-number>4151674664</phone-number>\\n\\t    <model>Sorrento F10L</model>\\n\\t  </activation>\\n\\t  \\t\\t  <activation timestamp=\"1260328842\" type=\"phone\">\\n\\t    <account-number>1893</account-number>\\n\\t    <device-id>1b040ec1-f6e7-4d38-af2b-be9d8399b422</device-id>\\n\\t    <phone-number>9165341579</phone-number>\\n\\t    <model>Sorrento F01L</model>\\n\\t  </activation>\\n\\t  \\t\\t  <activation timestamp=\"1260313176\" type=\"phone\">\\n\\t    <account-number>22352</account-number>\\n\\t    <device-id>07b96afe-23e7-41b6-9341-72d69537ffee</device-id>\\n\\t    <phone-number>8189660245</phone-number>\\n\\t    <model>iFruit 1</model>\\n\\t  </activation>\\n\\t  \\t\\t  <activation timestamp=\"1260308939\" type=\"phone\">\\n\\t    <account-number>1581</account-number>\\n\\t    <device-id>99bb9be5-a69e-467e-9d32-65210973cb76</device-id>\\n\\t    <phone-number>2093625035</phone-number>\\n\\t    <model>Sorrento F01L</model>\\n\\t  </activation>\\n\\t  \\t\\t  <activation timestamp=\"1260254657\" type=\"phone\">\\n\\t    <account-number>2762</account-number>\\n\\t    <device-id>9cc2f6e8-8d34-4075-ae26-7891b46e53cd</device-id>\\n\\t    <phone-number>9167114590</phone-number>\\n\\t    <model>Titanic 1000</model>\\n\\t  </activation>\\n\\t  \\t\\t  <activation timestamp=\"1260250144\" type=\"phone\">\\n\\t    <account-number>3164</account-number>\\n\\t    <device-id>768e9945-70b0-4503-88f8-5dec6b5fa9c8</device-id>\\n\\t    <phone-number>4152964955</phone-number>\\n\\t    <model>Titanic 1100</model>\\n\\t  </activation>\\n\\t  \\t\\t  <activation timestamp=\"1260243151\" type=\"phone\">\\n\\t    <account-number>5801</account-number>\\n\\t    <device-id>81f6aa05-9fc3-490b-83b0-828d8d6908ec</device-id>\\n\\t    <phone-number>5103093664</phone-number>\\n\\t    <model>Titanic 1100</model>\\n\\t  </activation>\\n\\t  \\t\\t  <activation timestamp=\"1260242387\" type=\"phone\">\\n\\t    <account-number>24764</account-number>\\n\\t    <device-id>b721f1ab-2348-4ad0-a730-33ef379e184d</device-id>\\n\\t    <phone-number>9514302080</phone-number>\\n\\t    <model>Titanic 1100</model>\\n\\t  </activation>\\n\\t  \\t\\t  <activation timestamp=\"1260226079\" type=\"phone\">\\n\\t    <account-number>2281</account-number>\\n\\t    <device-id>25716813-e82a-49bf-8805-fd2a9426b768</device-id>\\n\\t    <phone-number>5109770117</phone-number>\\n\\t    <model>Sorrento F00L</model>\\n\\t  </activation>\\n\\t  \\t\\t  <activation timestamp=\"1260208820\" type=\"phone\">\\n\\t    <account-number>2429</account-number>\\n\\t    <device-id>6f8a5033-ba07-474d-91c1-3a2ade2169cf</device-id>\\n\\t    <phone-number>5107114874</phone-number>\\n\\t    <model>Sorrento F10L</model>\\n\\t  </activation>\\n\\t  \\t\\t  <activation timestamp=\"1260203686\" type=\"phone\">\\n\\t    <account-number>3114</account-number>\\n\\t    <device-id>6e534e3e-e191-4a39-bf50-7b41b069e4eb</device-id>\\n\\t    <phone-number>2094429893</phone-number>\\n\\t    <model>Sorrento F00L</model>\\n\\t  </activation>\\n\\t  \\t\\t  <activation timestamp=\"1260203007\" type=\"phone\">\\n\\t    <account-number>1971</account-number>\\n\\t    <device-id>2a2eeaa8-495e-4af0-97e6-260e1ffc7394</device-id>\\n\\t    <phone-number>7078580868</phone-number>\\n\\t    <model>Sorrento F00L</model>\\n\\t  </activation>\\n\\t  \\t\\t  <activation timestamp=\"1260201844\" type=\"phone\">\\n\\t    <account-number>1297</account-number>\\n\\t    <device-id>1226a51e-481f-44dd-b35f-1906f9df4bdf</device-id>\\n\\t    <phone-number>2092833894</phone-number>\\n\\t    <model>Sorrento F00L</model>\\n\\t  </activation>\\n\\t  \\t\\t  <activation timestamp=\"1260197285\" type=\"phone\">\\n\\t    <account-number>2327</account-number>\\n\\t    <device-id>eae8ac6d-adbc-4008-b971-39f02d9839e2</device-id>\\n\\t    <phone-number>5102905621</phone-number>\\n\\t    <model>iFruit 1</model>\\n\\t  </activation>\\n\\t  \\t\\t  <activation timestamp=\"1260188706\" type=\"phone\">\\n\\t    <account-number>2074</account-number>\\n\\t    <device-id>c4f38735-a834-45de-b273-361bc86910a8</device-id>\\n\\t    <phone-number>4159218597</phone-number>\\n\\t    <model>Titanic 1000</model>\\n\\t  </activation>\\n\\t  \\t\\t  <activation timestamp=\"1260187668\" type=\"phone\">\\n\\t    <account-number>3125</account-number>\\n\\t    <device-id>be6a953d-d613-4a68-850c-2d4010b869fb</device-id>\\n\\t    <phone-number>9161712049</phone-number>\\n\\t    <model>Titanic 1100</model>\\n\\t  </activation>\\n\\t  \\t\\t  <activation timestamp=\"1260187597\" type=\"phone\">\\n\\t    <account-number>2295</account-number>\\n\\t    <device-id>ea96fcd3-ab93-4780-aa2e-3dff5a00c34d</device-id>\\n\\t    <phone-number>9167590771</phone-number>\\n\\t    <model>Titanic 1000</model>\\n\\t  </activation>\\n\\t  \\t\\t  <activation timestamp=\"1260185565\" type=\"phone\">\\n\\t    <account-number>3390</account-number>\\n\\t    <device-id>62206205-df8e-4580-a887-ef7e5105e251</device-id>\\n\\t    <phone-number>9165129667</phone-number>\\n\\t    <model>Titanic 1100</model>\\n\\t  </activation>\\n\\t  \\t\\t  <activation timestamp=\"1260168672\" type=\"phone\">\\n\\t    <account-number>84090</account-number>\\n\\t    <device-id>6714cb0e-9cac-47f8-9b14-98c770223074</device-id>\\n\\t    <phone-number>5410407254</phone-number>\\n\\t    <model>Sorrento F10L</model>\\n\\t  </activation>\\n\\t  \\t\\t  <activation timestamp=\"1260164898\" type=\"phone\">\\n\\t    <account-number>3041</account-number>\\n\\t    <device-id>ca35c2b1-0a68-491b-864d-c5513bf1bdb7</device-id>\\n\\t    <phone-number>9161734945</phone-number>\\n\\t    <model>MeeToo 1.0</model>\\n\\t  </activation>\\n\\t  \\t\\t  <activation timestamp=\"1260160625\" type=\"phone\">\\n\\t    <account-number>2157</account-number>\\n\\t    <device-id>320f3c38-ff40-4b06-951a-b4b67e63d9de</device-id>\\n\\t    <phone-number>2090013598</phone-number>\\n\\t    <model>MeeToo 1.0</model>\\n\\t  </activation>\\n\\t  \\t\\t  <activation timestamp=\"1260151874\" type=\"phone\">\\n\\t    <account-number>1701</account-number>\\n\\t    <device-id>13ea3a32-3dbb-4de7-8525-ef0c28a495bb</device-id>\\n\\t    <phone-number>6504296939</phone-number>\\n\\t    <model>Sorrento F01L</model>\\n\\t  </activation>\\n\\t  \\t\\t  <activation timestamp=\"1260150692\" type=\"phone\">\\n\\t    <account-number>122684</account-number>\\n\\t    <device-id>456777b3-41fc-4f83-a23c-ad9b9b7002ff</device-id>\\n\\t    <phone-number>4242153429</phone-number>\\n\\t    <model>Sorrento F10L</model>\\n\\t  </activation>\\n\\t  \\t\\t  <activation timestamp=\"1260149361\" type=\"phone\">\\n\\t    <account-number>1570</account-number>\\n\\t    <device-id>bf1b0362-dc81-4900-bb12-c0979bf33adf</device-id>\\n\\t    <phone-number>7076218527</phone-number>\\n\\t    <model>iFruit 1</model>\\n\\t  </activation>\\n\\t  \\t\\t  <activation timestamp=\"1260142671\" type=\"phone\">\\n\\t    <account-number>265</account-number>\\n\\t    <device-id>feeb6b36-0b82-44fe-a1d0-891f406584c8</device-id>\\n\\t    <phone-number>5102513154</phone-number>\\n\\t    <model>Titanic 1100</model>\\n\\t  </activation>\\n\\t  \\t\\t  <activation timestamp=\"1260133759\" type=\"phone\">\\n\\t    <account-number>2164</account-number>\\n\\t    <device-id>612585cd-1d13-4f55-8077-e2214d3c2ff1</device-id>\\n\\t    <phone-number>9161107146</phone-number>\\n\\t    <model>iFruit 1</model>\\n\\t  </activation>\\n\\t  \\t\\t  <activation timestamp=\"1260121291\" type=\"phone\">\\n\\t    <account-number>1062</account-number>\\n\\t    <device-id>d4188d24-68c2-43be-8fd0-b9569df7b957</device-id>\\n\\t    <phone-number>6504576204</phone-number>\\n\\t    <model>Titanic 1100</model>\\n\\t  </activation>\\n\\t  \\t\\t  <activation timestamp=\"1260118792\" type=\"phone\">\\n\\t    <account-number>1277</account-number>\\n\\t    <device-id>54a179ac-fd48-4ad9-a3e1-6cad8eb43fdc</device-id>\\n\\t    <phone-number>5100377855</phone-number>\\n\\t    <model>Sorrento F10L</model>\\n\\t  </activation>\\n\\t  \\t\\t  <activation timestamp=\"1260117106\" type=\"phone\">\\n\\t    <account-number>9702</account-number>\\n\\t    <device-id>ea615c32-0407-46ee-9567-430b662db367</device-id>\\n\\t    <phone-number>5105739013</phone-number>\\n\\t    <model>Titanic 1100</model>\\n\\t  </activation>\\n\\t  \\t\\t  <activation timestamp=\"1260116040\" type=\"phone\">\\n\\t    <account-number>3140</account-number>\\n\\t    <device-id>02f5e410-c127-4eca-a459-bf016240e8f5</device-id>\\n\\t    <phone-number>9163928032</phone-number>\\n\\t    <model>Sorrento F01L</model>\\n\\t  </activation>\\n\\t  \\t\\t  <activation timestamp=\"1260114361\" type=\"phone\">\\n\\t    <account-number>42089</account-number>\\n\\t    <device-id>88c62dab-fe7c-4773-a6e2-99a34eddf09b</device-id>\\n\\t    <phone-number>9512349677</phone-number>\\n\\t    <model>MeeToo 1.0</model>\\n\\t  </activation>\\n\\t  \\t\\t  <activation timestamp=\"1260110164\" type=\"phone\">\\n\\t    <account-number>3039</account-number>\\n\\t    <device-id>2ae23c88-9273-459a-87ec-1bf9df8b7904</device-id>\\n\\t    <phone-number>4083697671</phone-number>\\n\\t    <model>Titanic 1100</model>\\n\\t  </activation>\\n\\t  \\t\\t  <activation timestamp=\"1260077649\" type=\"phone\">\\n\\t    <account-number>95232</account-number>\\n\\t    <device-id>7ad73e3d-2857-42c2-9f40-72a55c21e395</device-id>\\n\\t    <phone-number>5108585321</phone-number>\\n\\t    <model>Sorrento F10L</model>\\n\\t  </activation>\\n\\t  \\t\\t  <activation timestamp=\"1260075447\" type=\"phone\">\\n\\t    <account-number>2514</account-number>\\n\\t    <device-id>01cd6e59-21ae-42cb-8278-5c38a88e9265</device-id>\\n\\t    <phone-number>6506491678</phone-number>\\n\\t    <model>Sorrento F01L</model>\\n\\t  </activation>\\n\\t  \\t\\t  <activation timestamp=\"1260074037\" type=\"phone\">\\n\\t    <account-number>708</account-number>\\n\\t    <device-id>4228263e-6f40-402b-9b87-5ec1a956a207</device-id>\\n\\t    <phone-number>5109254204</phone-number>\\n\\t    <model>Sorrento F01L</model>\\n\\t  </activation>\\n\\t  \\t\\t  <activation timestamp=\"1260062664\" type=\"phone\">\\n\\t    <account-number>1208</account-number>\\n\\t    <device-id>836cc85e-8e9a-49c1-825f-724cb5434966</device-id>\\n\\t    <phone-number>6502801094</phone-number>\\n\\t    <model>Titanic 1000</model>\\n\\t  </activation>\\n\\t  \\t\\t  <activation timestamp=\"1260060371\" type=\"phone\">\\n\\t    <account-number>3082</account-number>\\n\\t    <device-id>550c517b-437b-4d2f-99c8-538437ea8b3d</device-id>\\n\\t    <phone-number>7076948980</phone-number>\\n\\t    <model>iFruit 1</model>\\n\\t  </activation>\\n\\t  \\t\\t  <activation timestamp=\"1260030427\" type=\"phone\">\\n\\t    <account-number>3017</account-number>\\n\\t    <device-id>a4a431ae-1a36-4c93-8ff9-40c3ac9ea73c</device-id>\\n\\t    <phone-number>4153562555</phone-number>\\n\\t    <model>Titanic 1000</model>\\n\\t  </activation>\\n\\t  \\t\\t  <activation timestamp=\"1260018593\" type=\"phone\">\\n\\t    <account-number>3167</account-number>\\n\\t    <device-id>5c36ec25-1f82-4924-91f3-598e0ed790d8</device-id>\\n\\t    <phone-number>5306267379</phone-number>\\n\\t    <model>Titanic 1100</model>\\n\\t  </activation>\\n\\t  \\t\\t  <activation timestamp=\"1260016763\" type=\"phone\">\\n\\t    <account-number>1325</account-number>\\n\\t    <device-id>9ac6b20b-9b45-40fc-bd95-ced9f07abafa</device-id>\\n\\t    <phone-number>6509559740</phone-number>\\n\\t    <model>MeeToo 1.0</model>\\n\\t  </activation>\\n\\t  \\t\\t  <activation timestamp=\"1260013640\" type=\"phone\">\\n\\t    <account-number>2125</account-number>\\n\\t    <device-id>67a8c70d-c17d-4ba0-8534-2a6d93c2b166</device-id>\\n\\t    <phone-number>7071894506</phone-number>\\n\\t    <model>Sorrento F01L</model>\\n\\t  </activation>\\n\\t  \\t\\t  <activation timestamp=\"1259989200\" type=\"phone\">\\n\\t    <account-number>1490</account-number>\\n\\t    <device-id>49bf3496-6d20-41b7-97bd-10879605b148</device-id>\\n\\t    <phone-number>5109567664</phone-number>\\n\\t    <model>MeeToo 1.0</model>\\n\\t  </activation>\\n\\t  \\t\\t  <activation timestamp=\"1259948297\" type=\"phone\">\\n\\t    <account-number>1631</account-number>\\n\\t    <device-id>a055f0eb-aee7-4c10-978d-7f94037816d0</device-id>\\n\\t    <phone-number>5109357054</phone-number>\\n\\t    <model>iFruit 1</model>\\n\\t  </activation>\\n\\t  \\t\\t  <activation timestamp=\"1259930487\" type=\"phone\">\\n\\t    <account-number>3131</account-number>\\n\\t    <device-id>e9bd8ae8-b91b-4e7c-9b78-e19806cc70b5</device-id>\\n\\t    <phone-number>2092896511</phone-number>\\n\\t    <model>iFruit 1</model>\\n\\t  </activation>\\n\\t  \\t\\t  <activation timestamp=\"1259929553\" type=\"phone\">\\n\\t    <account-number>1965</account-number>\\n\\t    <device-id>fa1feb66-52e7-44eb-bdf1-75ea53770798</device-id>\\n\\t    <phone-number>6502383016</phone-number>\\n\\t    <model>Sorrento F00L</model>\\n\\t  </activation>\\n\\t  \\t\\t  <activation timestamp=\"1259927082\" type=\"phone\">\\n\\t    <account-number>1508</account-number>\\n\\t    <device-id>780cb349-2001-4e79-ba5f-2d4de036aa88</device-id>\\n\\t    <phone-number>6507275108</phone-number>\\n\\t    <model>Titanic 1000</model>\\n\\t  </activation>\\n\\t  \\t\\t  <activation timestamp=\"1259920267\" type=\"phone\">\\n\\t    <account-number>1957</account-number>\\n\\t    <device-id>c6d51485-d77c-46fe-a70d-58360ca0cd3a</device-id>\\n\\t    <phone-number>5102954790</phone-number>\\n\\t    <model>Sorrento F00L</model>\\n\\t  </activation>\\n\\t  \\t\\t  <activation timestamp=\"1259914301\" type=\"phone\">\\n\\t    <account-number>571</account-number>\\n\\t    <device-id>bf2d72b8-3ab4-46d4-8e06-408008a558cd</device-id>\\n\\t    <phone-number>5106546670</phone-number>\\n\\t    <model>Sorrento F00L</model>\\n\\t  </activation>\\n\\t  \\t\\t  <activation timestamp=\"1259908558\" type=\"phone\">\\n\\t    <account-number>43709</account-number>\\n\\t    <device-id>594d8f7b-8d75-468a-b432-26c75d1b925f</device-id>\\n\\t    <phone-number>6500378357</phone-number>\\n\\t    <model>Sorrento F00L</model>\\n\\t  </activation>\\n\\t  \\t\\t  <activation timestamp=\"1259908032\" type=\"phone\">\\n\\t    <account-number>17582</account-number>\\n\\t    <device-id>bd808bd9-8ced-451f-b972-dbab6e6bfaf5</device-id>\\n\\t    <phone-number>7074458699</phone-number>\\n\\t    <model>Sorrento F00L</model>\\n\\t  </activation>\\n\\t  \\t\\t  <activation timestamp=\"1259906540\" type=\"phone\">\\n\\t    <account-number>712</account-number>\\n\\t    <device-id>ae925d6e-3b1e-4ec5-bbf8-c405fc23b5aa</device-id>\\n\\t    <phone-number>4085544402</phone-number>\\n\\t    <model>Titanic 1100</model>\\n\\t  </activation>\\n\\t  \\t\\t  <activation timestamp=\"1259905113\" type=\"phone\">\\n\\t    <account-number>1694</account-number>\\n\\t    <device-id>5143ed32-6819-43f1-8dee-12c5be3975eb</device-id>\\n\\t    <phone-number>5102748290</phone-number>\\n\\t    <model>iFruit 1</model>\\n\\t  </activation>\\n\\t  \\t\\t  <activation timestamp=\"1259901021\" type=\"phone\">\\n\\t    <account-number>4631</account-number>\\n\\t    <device-id>33495db4-13dc-478d-afbd-a189432c757c</device-id>\\n\\t    <phone-number>5411608474</phone-number>\\n\\t    <model>Titanic 1100</model>\\n\\t  </activation>\\n\\t  \\t\\t  <activation timestamp=\"1259887009\" type=\"phone\">\\n\\t    <account-number>1168</account-number>\\n\\t    <device-id>d8a61ef8-0cbc-41d3-a3c6-ab0cbfd60d42</device-id>\\n\\t    <phone-number>9167599920</phone-number>\\n\\t    <model>Titanic 1100</model>\\n\\t  </activation>\\n\\t  \\t\\t  <activation timestamp=\"1259884607\" type=\"phone\">\\n\\t    <account-number>105277</account-number>\\n\\t    <device-id>b5f3d3f9-6ef0-484a-8d9a-976df250d635</device-id>\\n\\t    <phone-number>7750836240</phone-number>\\n\\t    <model>Sorrento F00L</model>\\n\\t  </activation>\\n\\t  \\t\\t  <activation timestamp=\"1259884458\" type=\"phone\">\\n\\t    <account-number>24975</account-number>\\n\\t    <device-id>bf6ad381-f919-406f-95e2-38d3772a9a6b</device-id>\\n\\t    <phone-number>7600231938</phone-number>\\n\\t    <model>iFruit 1</model>\\n\\t  </activation>\\n\\t  \\t\\t  <activation timestamp=\"1259870325\" type=\"phone\">\\n\\t    <account-number>1360</account-number>\\n\\t    <device-id>cb979e4c-75fe-47d5-b800-793e5f52b8df</device-id>\\n\\t    <phone-number>9167281381</phone-number>\\n\\t    <model>Sorrento F01L</model>\\n\\t  </activation>\\n\\t  \\t\\t  <activation timestamp=\"1259865602\" type=\"phone\">\\n\\t    <account-number>1958</account-number>\\n\\t    <device-id>8df9f2f8-9a7b-4c4e-8897-48780d833ff8</device-id>\\n\\t    <phone-number>4087335454</phone-number>\\n\\t    <model>Sorrento F01L</model>\\n\\t  </activation>\\n\\t  \\t\\t  <activation timestamp=\"1259855087\" type=\"phone\">\\n\\t    <account-number>2237</account-number>\\n\\t    <device-id>79f9ca68-ab7f-44e6-b66d-451cc2ed37de</device-id>\\n\\t    <phone-number>4153305153</phone-number>\\n\\t    <model>Sorrento F01L</model>\\n\\t  </activation>\\n\\t  \\t\\t  <activation timestamp=\"1259854532\" type=\"phone\">\\n\\t    <account-number>2542</account-number>\\n\\t    <device-id>c9a51ebb-486f-43f1-a000-44294c449d4d</device-id>\\n\\t    <phone-number>5302702368</phone-number>\\n\\t    <model>Sorrento F01L</model>\\n\\t  </activation>\\n\\t  \\t\\t  <activation timestamp=\"1259850398\" type=\"phone\">\\n\\t    <account-number>2422</account-number>\\n\\t    <device-id>50d38832-3217-4b2a-8c51-9461c7bf88d6</device-id>\\n\\t    <phone-number>5109874345</phone-number>\\n\\t    <model>Titanic 1000</model>\\n\\t  </activation>\\n\\t  \\t\\t  <activation timestamp=\"1259843504\" type=\"phone\">\\n\\t    <account-number>2286</account-number>\\n\\t    <device-id>a998382d-312c-40f2-a28c-f919a4f1974c</device-id>\\n\\t    <phone-number>5108139313</phone-number>\\n\\t    <model>Titanic 1100</model>\\n\\t  </activation>\\n\\t  \\t\\t  <activation timestamp=\"1259842808\" type=\"phone\">\\n\\t    <account-number>702</account-number>\\n\\t    <device-id>1b492436-5afe-4db1-9fa2-89eb0b87d307</device-id>\\n\\t    <phone-number>4159081293</phone-number>\\n\\t    <model>Sorrento F10L</model>\\n\\t  </activation>\\n\\t  \\t\\t  <activation timestamp=\"1259834855\" type=\"phone\">\\n\\t    <account-number>1790</account-number>\\n\\t    <device-id>8944d0f0-5bac-4366-a28c-5793514b2af2</device-id>\\n\\t    <phone-number>7070607626</phone-number>\\n\\t    <model>Sorrento F00L</model>\\n\\t  </activation>\\n\\t  \\t\\t  <activation timestamp=\"1259834690\" type=\"phone\">\\n\\t    <account-number>93568</account-number>\\n\\t    <device-id>4777901f-c8a5-48db-8dc6-36f4eeaad141</device-id>\\n\\t    <phone-number>2093038559</phone-number>\\n\\t    <model>Sorrento F10L</model>\\n\\t  </activation>\\n\\t  \\t\\t  <activation timestamp=\"1259828302\" type=\"phone\">\\n\\t    <account-number>3163</account-number>\\n\\t    <device-id>3c2ff3b3-4b5a-4bfd-b769-37b44aa8bb4a</device-id>\\n\\t    <phone-number>4084667968</phone-number>\\n\\t    <model>Titanic 1100</model>\\n\\t  </activation>\\n\\t  \\t\\t  <activation timestamp=\"1259824239\" type=\"phone\">\\n\\t    <account-number>3147</account-number>\\n\\t    <device-id>769fa315-4c49-4c4f-b0d3-b8d0abcf906a</device-id>\\n\\t    <phone-number>7075998311</phone-number>\\n\\t    <model>Titanic 1000</model>\\n\\t  </activation>\\n\\t  \\t\\t  <activation timestamp=\"1259818958\" type=\"phone\">\\n\\t    <account-number>2425</account-number>\\n\\t    <device-id>2feecf47-2b8e-44fe-a8f7-be538d1958a6</device-id>\\n\\t    <phone-number>9165562031</phone-number>\\n\\t    <model>Titanic 1100</model>\\n\\t  </activation>\\n\\t  \\t\\t  <activation timestamp=\"1259813670\" type=\"phone\">\\n\\t    <account-number>3119</account-number>\\n\\t    <device-id>c37564fb-296f-4e50-94fd-35ee040d8ed2</device-id>\\n\\t    <phone-number>9162231990</phone-number>\\n\\t    <model>Sorrento F00L</model>\\n\\t  </activation>\\n\\t  \\t\\t  <activation timestamp=\"1259805857\" type=\"phone\">\\n\\t    <account-number>1288</account-number>\\n\\t    <device-id>b5333ecd-a5eb-4ad4-9cb1-9d7425746e8f</device-id>\\n\\t    <phone-number>6506750763</phone-number>\\n\\t    <model>Sorrento F00L</model>\\n\\t  </activation>\\n\\t  \\t\\t  <activation timestamp=\"1259800973\" type=\"phone\">\\n\\t    <account-number>2846</account-number>\\n\\t    <device-id>5f1228a0-80c1-46f9-b476-fe6efa13613b</device-id>\\n\\t    <phone-number>9166579583</phone-number>\\n\\t    <model>iFruit 1</model>\\n\\t  </activation>\\n\\t  \\t\\t  <activation timestamp=\"1259799466\" type=\"phone\">\\n\\t    <account-number>1816</account-number>\\n\\t    <device-id>089af6d1-b61b-4e8f-a2b8-30f207159a4c</device-id>\\n\\t    <phone-number>5109908999</phone-number>\\n\\t    <model>iFruit 1</model>\\n\\t  </activation>\\n\\t  \\t\\t  <activation timestamp=\"1259769498\" type=\"phone\">\\n\\t    <account-number>1137</account-number>\\n\\t    <device-id>71b76d5e-8c4c-43df-9134-8f780658d422</device-id>\\n\\t    <phone-number>5104738314</phone-number>\\n\\t    <model>Titanic 1000</model>\\n\\t  </activation>\\n\\t  \\t\\t  <activation timestamp=\"1259753695\" type=\"phone\">\\n\\t    <account-number>10832</account-number>\\n\\t    <device-id>b4f5ad39-0b86-420c-9844-6346a24e85c8</device-id>\\n\\t    <phone-number>8183960335</phone-number>\\n\\t    <model>Titanic 1100</model>\\n\\t  </activation>\\n\\t  \\t\\t  <activation timestamp=\"1259740272\" type=\"phone\">\\n\\t    <account-number>972</account-number>\\n\\t    <device-id>1fc8bf66-a8f4-4bea-8c24-90dea31505d0</device-id>\\n\\t    <phone-number>2090609755</phone-number>\\n\\t    <model>Sorrento F01L</model>\\n\\t  </activation>\\n\\t  \\t\\t  <activation timestamp=\"1259737464\" type=\"phone\">\\n\\t    <account-number>1691</account-number>\\n\\t    <device-id>f19254bc-aafb-441d-a6c3-b7608955608d</device-id>\\n\\t    <phone-number>4158520733</phone-number>\\n\\t    <model>Titanic 1100</model>\\n\\t  </activation>\\n\\t  \\t\\t  <activation timestamp=\"1259736453\" type=\"phone\">\\n\\t    <account-number>1843</account-number>\\n\\t    <device-id>c7e083ec-08f6-474d-ab2f-9f11c2993166</device-id>\\n\\t    <phone-number>7070990179</phone-number>\\n\\t    <model>Titanic 1000</model>\\n\\t  </activation>\\n\\t  \\t\\t  <activation timestamp=\"1259730070\" type=\"phone\">\\n\\t    <account-number>79670</account-number>\\n\\t    <device-id>3d826c81-94df-4a3f-9ed0-c5beeea56516</device-id>\\n\\t    <phone-number>5035316006</phone-number>\\n\\t    <model>Sorrento F10L</model>\\n\\t  </activation>\\n\\t  \\t\\t  <activation timestamp=\"1259722595\" type=\"phone\">\\n\\t    <account-number>1245</account-number>\\n\\t    <device-id>997274c3-8095-4f64-9466-11afe780cc36</device-id>\\n\\t    <phone-number>5103540323</phone-number>\\n\\t    <model>MeeToo 1.0</model>\\n\\t  </activation>\\n\\t  \\t\\t  <activation timestamp=\"1259720697\" type=\"phone\">\\n\\t    <account-number>1307</account-number>\\n\\t    <device-id>1bbf57b1-62af-46ac-9828-296499f1b93a</device-id>\\n\\t    <phone-number>9168865790</phone-number>\\n\\t    <model>iFruit 1</model>\\n\\t  </activation>\\n\\t  \\t\\t  <activation timestamp=\"1259710052\" type=\"phone\">\\n\\t    <account-number>59921</account-number>\\n\\t    <device-id>e82d22d9-5824-4482-814c-7b0b9f94f57e</device-id>\\n\\t    <phone-number>6575222226</phone-number>\\n\\t    <model>Sorrento F10L</model>\\n\\t  </activation>\\n\\t  \\t\\t  <activation timestamp=\"1259708169\" type=\"phone\">\\n\\t    <account-number>2202</account-number>\\n\\t    <device-id>c4de292d-d880-466c-9b85-8b097427cf61</device-id>\\n\\t    <phone-number>5101805088</phone-number>\\n\\t    <model>Titanic 1000</model>\\n\\t  </activation>\\n\\t  \\t\\t  <activation timestamp=\"1259703534\" type=\"phone\">\\n\\t    <account-number>784</account-number>\\n\\t    <device-id>efa5b45c-760a-4bd4-9a97-c45858508aad</device-id>\\n\\t    <phone-number>7075701030</phone-number>\\n\\t    <model>MeeToo 1.0</model>\\n\\t  </activation>\\n\\t  \\t\\t  <activation timestamp=\"1259694355\" type=\"phone\">\\n\\t    <account-number>13202</account-number>\\n\\t    <device-id>72e50f15-f106-4448-8c57-57a89622c584</device-id>\\n\\t    <phone-number>9169124525</phone-number>\\n\\t    <model>Sorrento F10L</model>\\n\\t  </activation>\\n\\t  \\t\\t  <activation timestamp=\"1259685809\" type=\"phone\">\\n\\t    <account-number>9996</account-number>\\n\\t    <device-id>771ff921-08c4-4cd1-93a8-316e36279fac</device-id>\\n\\t    <phone-number>5108779408</phone-number>\\n\\t    <model>Titanic 1100</model>\\n\\t  </activation>\\n\\t  \\t\\t  <activation timestamp=\"1259678225\" type=\"phone\">\\n\\t    <account-number>2789</account-number>\\n\\t    <device-id>0a7f9396-be84-4456-9666-a2423bfcaa57</device-id>\\n\\t    <phone-number>4156944746</phone-number>\\n\\t    <model>Sorrento F00L</model>\\n\\t  </activation>\\n\\t  \\t\\t  <activation timestamp=\"1259657177\" type=\"phone\">\\n\\t    <account-number>2398</account-number>\\n\\t    <device-id>92d03da3-97ef-4ea8-92b8-3c60ad2035e2</device-id>\\n\\t    <phone-number>4083054865</phone-number>\\n\\t    <model>iFruit 1</model>\\n\\t  </activation>\\n\\t  \\t\\t  <activation timestamp=\"1259651765\" type=\"phone\">\\n\\t    <account-number>1565</account-number>\\n\\t    <device-id>dab4949f-2e55-4d8d-8531-09794c7a4006</device-id>\\n\\t    <phone-number>2096309142</phone-number>\\n\\t    <model>iFruit 1</model>\\n\\t  </activation>\\n\\t  \\t\\t  <activation timestamp=\"1259646136\" type=\"phone\">\\n\\t    <account-number>2013</account-number>\\n\\t    <device-id>4fc1061c-0165-4a3a-839c-cf12c690c9e6</device-id>\\n\\t    <phone-number>4089861362</phone-number>\\n\\t    <model>Titanic 1000</model>\\n\\t  </activation>\\n\\t  \\t\\t  <activation timestamp=\"1259646030\" type=\"phone\">\\n\\t    <account-number>1379</account-number>\\n\\t    <device-id>ce64fedf-c086-4bc5-ad7d-7b5aa87fdb10</device-id>\\n\\t    <phone-number>4080271225</phone-number>\\n\\t    <model>Titanic 1000</model>\\n\\t  </activation>\\n\\t  \\t\\t  <activation timestamp=\"1259638812\" type=\"phone\">\\n\\t    <account-number>2874</account-number>\\n\\t    <device-id>6e078227-6a56-4abb-9902-f867651ebc70</device-id>\\n\\t    <phone-number>2096697309</phone-number>\\n\\t    <model>Titanic 1000</model>\\n\\t  </activation>\\n\\t  \\t\\t  <activation timestamp=\"1259638041\" type=\"phone\">\\n\\t    <account-number>16951</account-number>\\n\\t    <device-id>a6f61a1c-72c8-42d3-8f2b-bda1a56282b6</device-id>\\n\\t    <phone-number>7757239169</phone-number>\\n\\t    <model>Sorrento F00L</model>\\n\\t  </activation>\\n\\t  \\t\\t  <activation timestamp=\"1259637303\" type=\"phone\">\\n\\t    <account-number>938</account-number>\\n\\t    <device-id>16b13c69-3865-4ba9-bed4-94f95914b155</device-id>\\n\\t    <phone-number>4082962289</phone-number>\\n\\t    <model>Sorrento F10L</model>\\n\\t  </activation>\\n\\t  \\t\\t  <activation timestamp=\"1259631718\" type=\"phone\">\\n\\t    <account-number>1416</account-number>\\n\\t    <device-id>6e1d0293-06a8-4bbb-a96b-1e46f99d6b3f</device-id>\\n\\t    <phone-number>2090127584</phone-number>\\n\\t    <model>MeeToo 1.0</model>\\n\\t  </activation>\\n\\t  \\t\\t  <activation timestamp=\"1259629023\" type=\"phone\">\\n\\t    <account-number>650</account-number>\\n\\t    <device-id>500da230-a4d6-4733-9e5d-7fc05a33aafd</device-id>\\n\\t    <phone-number>4151155659</phone-number>\\n\\t    <model>iFruit 1</model>\\n\\t  </activation>\\n\\t  \\t\\t  <activation timestamp=\"1259626689\" type=\"phone\">\\n\\t    <account-number>42313</account-number>\\n\\t    <device-id>efa148f7-4b83-4265-a2a0-e4f8e8deffb3</device-id>\\n\\t    <phone-number>6261913833</phone-number>\\n\\t    <model>Sorrento F10L</model>\\n\\t  </activation>\\n\\t  \\t\\t  <activation timestamp=\"1259619691\" type=\"phone\">\\n\\t    <account-number>3385</account-number>\\n\\t    <device-id>8b184ac2-edec-46ff-ab81-48a2af1f7e5e</device-id>\\n\\t    <phone-number>5102656881</phone-number>\\n\\t    <model>Sorrento F01L</model>\\n\\t  </activation>\\n\\t  \\t\\t  <activation timestamp=\"1259607971\" type=\"phone\">\\n\\t    <account-number>1988</account-number>\\n\\t    <device-id>51c78258-f0ba-45dd-9280-de7b27418c25</device-id>\\n\\t    <phone-number>5101458938</phone-number>\\n\\t    <model>Titanic 1000</model>\\n\\t  </activation>\\n\\t  \\t\\t  <activation timestamp=\"1259576237\" type=\"phone\">\\n\\t    <account-number>99248</account-number>\\n\\t    <device-id>d52499e1-f551-4889-886d-ed453ad81499</device-id>\\n\\t    <phone-number>6503359759</phone-number>\\n\\t    <model>Titanic 1100</model>\\n\\t  </activation>\\n\\t  \\t</activations>')]"
      ]
     },
     "execution_count": 88,
     "metadata": {},
     "output_type": "execute_result"
    }
   ],
   "source": [
    "rdd.take(1)"
   ]
  },
  {
   "cell_type": "markdown",
   "metadata": {},
   "source": [
    "One of the appraoch is to parse the XML using Python's elementtree package. In this case using `ET.fromstring(html_content)`"
   ]
  },
  {
   "cell_type": "code",
   "execution_count": 89,
   "metadata": {},
   "outputs": [],
   "source": [
    "import xml.etree.ElementTree as ET "
   ]
  },
  {
   "cell_type": "code",
   "execution_count": 92,
   "metadata": {},
   "outputs": [
    {
     "data": {
      "text/plain": [
       "[<Element 'activations' at 0x7fd8005ff790>]"
      ]
     },
     "execution_count": 92,
     "metadata": {},
     "output_type": "execute_result"
    }
   ],
   "source": [
    "rdd.map(lambda row:ET.fromstring(row[1])).take(1)"
   ]
  },
  {
   "cell_type": "markdown",
   "metadata": {},
   "source": [
    "## Step 5. Read a tab-delimited table from an HDFS location"
   ]
  },
  {
   "cell_type": "markdown",
   "metadata": {},
   "source": [
    "Because our VM's PySpark shell is configured to run in local mode by default, all paths are interpreted as local path by default. To load a file/directory from HDFS, you need to provide the full HDFS URI, in the form of `hdfs://host_name:8020/path/to/file`\n"
   ]
  },
  {
   "cell_type": "markdown",
   "metadata": {},
   "source": [
    "1\\. Explores the files in `/dualcore/customers` on HDFs. This location belongs to a Hive external table `dualcore.customers`. What is the format of the file?"
   ]
  },
  {
   "cell_type": "code",
   "execution_count": 93,
   "metadata": {},
   "outputs": [
    {
     "name": "stdout",
     "output_type": "stream",
     "text": [
      "Found 4 items\r\n",
      "-rw-r--r--   1 cloudera supergroup    3144522 2019-10-02 07:12 /dualcore/customers/part-m-00000\r\n",
      "-rw-r--r--   1 cloudera supergroup    3143941 2019-10-02 07:12 /dualcore/customers/part-m-00001\r\n",
      "-rw-r--r--   1 cloudera supergroup    3144303 2019-10-02 07:12 /dualcore/customers/part-m-00002\r\n",
      "-rw-r--r--   1 cloudera supergroup    3144580 2019-10-02 07:12 /dualcore/customers/part-m-00003\r\n"
     ]
    }
   ],
   "source": [
    "! hadoop fs -ls /dualcore/customers"
   ]
  },
  {
   "cell_type": "code",
   "execution_count": 94,
   "metadata": {},
   "outputs": [
    {
     "name": "stdout",
     "output_type": "stream",
     "text": [
      "1000000\tQuentin\tShepard\t32092 West 10th Street\tPrairie City\tSD\t57649\r\n",
      "1000001\tBrandon\tLouis\t1311 North 2nd Street\tClearfield\tIA\t50840\r\n",
      "1000002\tMarilyn\tHam\t25831 North 25th Street\tConcord\tCA\t94522\r\n",
      "1000003\tMister\tTee\t11596 West 1st Street\tSterling\tKS\t67579\r\n",
      "1000004\tNunya\tBeeswax\t3044 West 21st Street\tPhoenix\tAZ\t85017\r\n",
      "1000005\tMichael\tEller\t24326 West 11th Street\tGermantown\tIL\t62245\r\n",
      "1000006\tGerard\tFranks\t356 Turner Street\tPioneer\tCA\t95666\r\n",
      "1000007\tDeborah\tCarson\t4033 East 21st Street\tArbon\tID\t83212\r\n",
      "1000008\tThomas\tBrush\t20643 North 12th Street\tPoland\tME\t04274\r\n",
      "1000009\tBartman\tSimpsonite\t1748 East Fairbanks Road\tAlto Pass\tIL\t62905\r\n",
      "cat: Unable to write to output stream.\r\n"
     ]
    }
   ],
   "source": [
    "! hadoop fs -cat /dualcore/customers/part-m-00000 | head"
   ]
  },
  {
   "cell_type": "markdown",
   "metadata": {},
   "source": [
    "2\\. Create an RDD from the external Hive table `customers` from the dualcore database at `/dualcore/customers` on HDFs. Verify by showing one row"
   ]
  },
  {
   "cell_type": "code",
   "execution_count": null,
   "metadata": {
    "collapsed": true
   },
   "outputs": [],
   "source": [
    "rdd = sc.textFile(\"hdfs://localhost:8020/dualcore/customers\")"
   ]
  },
  {
   "cell_type": "code",
   "execution_count": 70,
   "metadata": {},
   "outputs": [
    {
     "data": {
      "text/plain": [
       "[u'1000000\\tQuentin\\tShepard\\t32092 West 10th Street\\tPrairie City\\tSD\\t57649']"
      ]
     },
     "execution_count": 70,
     "metadata": {},
     "output_type": "execute_result"
    }
   ],
   "source": [
    "rdd.take(1)"
   ]
  },
  {
   "cell_type": "markdown",
   "metadata": {},
   "source": [
    "3\\. Convert a string row into and an array of strings (one for each field). Verifying it by showing the first two rows."
   ]
  },
  {
   "cell_type": "code",
   "execution_count": 71,
   "metadata": {},
   "outputs": [
    {
     "data": {
      "text/plain": [
       "[[u'1000000',\n",
       "  u'Quentin',\n",
       "  u'Shepard',\n",
       "  u'32092 West 10th Street',\n",
       "  u'Prairie City',\n",
       "  u'SD',\n",
       "  u'57649'],\n",
       " [u'1000001',\n",
       "  u'Brandon',\n",
       "  u'Louis',\n",
       "  u'1311 North 2nd Street',\n",
       "  u'Clearfield',\n",
       "  u'IA',\n",
       "  u'50840']]"
      ]
     },
     "execution_count": 71,
     "metadata": {},
     "output_type": "execute_result"
    }
   ],
   "source": [
    "rdd.map(lambda row:row.split('\\t')).take(2)"
   ]
  },
  {
   "cell_type": "code",
   "execution_count": null,
   "metadata": {
    "collapsed": true
   },
   "outputs": [],
   "source": []
  },
  {
   "cell_type": "code",
   "execution_count": null,
   "metadata": {
    "collapsed": true
   },
   "outputs": [],
   "source": []
  }
 ],
 "metadata": {
  "kernelspec": {
   "display_name": "Python 3",
   "language": "python",
   "name": "python3"
  },
  "language_info": {
   "codemirror_mode": {
    "name": "ipython",
    "version": 3
   },
   "file_extension": ".py",
   "mimetype": "text/x-python",
   "name": "python",
   "nbconvert_exporter": "python",
   "pygments_lexer": "ipython3",
   "version": "3.7.3"
  }
 },
 "nbformat": 4,
 "nbformat_minor": 2
}
