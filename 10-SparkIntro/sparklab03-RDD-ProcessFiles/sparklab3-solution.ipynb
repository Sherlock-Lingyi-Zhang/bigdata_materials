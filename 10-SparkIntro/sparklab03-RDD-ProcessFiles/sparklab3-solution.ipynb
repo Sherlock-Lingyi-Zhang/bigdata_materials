{
 "cells": [
  {
   "cell_type": "markdown",
   "metadata": {},
   "source": [
    "# Spark Lab 3 - Process Data Files with Spark (Solution)\n"
   ]
  },
  {
   "cell_type": "markdown",
   "metadata": {},
   "source": [
    "## Data Scrubbing - Fixing Issues in devicestatus.txt"
   ]
  },
  {
   "cell_type": "markdown",
   "metadata": {},
   "source": [
    "A common part of the ETL process is data scrubbing. In the following step, you will process data in order to get it into a standardized format for later processing.\n",
    "\n",
    "Review the contents of the file **$DEV1DATA/devicestatus.txt**. This file contains data collected from mobile devices on Loudacre’s network, including device ID, current status, location and so on. Because Loudacre previously acquired other mobile provider’s networks, the data from different subnetworks has a different format. Note that the records in this file have different field delimiters: some use commas, some use pipes (|) and so on. "
   ]
  },
  {
   "cell_type": "code",
   "execution_count": 1,
   "metadata": {
    "collapsed": false
   },
   "outputs": [
    {
     "name": "stdout",
     "output_type": "stream",
     "text": [
      "2014-03-15:10:10:20,Sorrento F41L,8cc3b47e-bd01-4482-b500-28f2342679af,7,24,39,enabled,disabled,connected,55,67,12,33.6894754264,-117.543308253\r\n",
      "2014-03-15:10:10:20|MeeToo 1.0|ef8c7564-0a1a-4650-a655-c8bbd5f8f943|0|31|63|70|39|27|enabled|enabled|enabled|37.4321088904|-121.485029632\r\n",
      "2014-03-15:10:10:20|MeeToo 1.0|23eba027-b95a-4729-9a4b-a3cca51c5548|0|20|21|86|54|34|enabled|enabled|enabled|39.4378908349|-120.938978486\r\n",
      "2014-03-15:10:10:20,Sorrento F41L,707daba1-5640-4d60-a6d9-1d6fa0645be0,8,22,60,enabled,enabled,disabled,68,91,17,39.3635186767,-119.400334708\r\n",
      "2014-03-15:10:10:20,Ronin Novelty Note 1,db66fe81-aa55-43b4-9418-fc6e7a00f891,0,13,47,70,enabled,enabled,enabled,10,45,33.1913581092,-116.448242643\r\n",
      "2014-03-15:10:10:20,Sorrento F41L,ffa18088-69a0-433e-84b8-006b2b9cc1d0,3,10,36,enabled,connected,enabled,53,58,42,33.8343543748,-117.330000857\r\n",
      "2014-03-15:10:10:20,Sorrento F33L,66d678e6-9c87-48d2-a415-8d5035e54a23,1,34,74,enabled,disabled,enabled,57,42,15,37.3803954321,-121.840756755\r\n",
      "2014-03-15:10:10:20|MeeToo 4.1|673f7e4b-d52b-44fc-8826-aea460c3481a|1|16|77|61|24|50|enabled|disabled|enabled|34.1841062345|-117.9435329\r\n",
      "2014-03-15:10:10:20,Ronin Novelty Note 2,a678ccc3-b0d2-452d-bf89-85bd095e28ee,0,10,97,63,enabled,enabled,connected,48,4,32.2850556785,-111.819583734\r\n",
      "2014-03-15:10:10:20,Sorrento F41L,86bef6ae-2f1c-42ec-aa67-6acecd7b0675,9,27,35,enabled,enabled,enabled,62,41,19,45.2400522984,-122.377467861\r\n"
     ]
    }
   ],
   "source": [
    "!head $DEV1DATA/devicestatus.txt"
   ]
  },
  {
   "cell_type": "markdown",
   "metadata": {},
   "source": [
    "### Step 1. Load the file from local path\n",
    "When you load data in spark, you must use the full path. pyspark cannot recognize variables such as $DEV1DATA (which is defined in local bash shell)"
   ]
  },
  {
   "cell_type": "code",
   "execution_count": 2,
   "metadata": {
    "collapsed": true
   },
   "outputs": [],
   "source": [
    "mydata = sc.textFile('file:/home/cloudera/training_materials/data/devicestatus.txt')"
   ]
  },
  {
   "cell_type": "markdown",
   "metadata": {},
   "source": [
    "### Step 2.\tDetermine which delimiter to use \n",
    "**hint**: the character at position 19 is the first use of the delimiter"
   ]
  },
  {
   "cell_type": "code",
   "execution_count": 3,
   "metadata": {
    "collapsed": false
   },
   "outputs": [
    {
     "data": {
      "text/plain": [
       "[u'/', u',', u'|']"
      ]
     },
     "execution_count": 3,
     "metadata": {},
     "output_type": "execute_result"
    }
   ],
   "source": [
    "mydata.map(lambda line:line[19]).distinct().collect()"
   ]
  },
  {
   "cell_type": "markdown",
   "metadata": {},
   "source": [
    "### Step 3.\tFilter out any records which do not parse correctly \n",
    "**hint**: each record should have exactly 14 values"
   ]
  },
  {
   "cell_type": "code",
   "execution_count": 4,
   "metadata": {
    "collapsed": true
   },
   "outputs": [],
   "source": [
    "parsed  = mydata.map(lambda line:line.split(line[19]))"
   ]
  },
  {
   "cell_type": "markdown",
   "metadata": {},
   "source": [
    "alternatively, you may define a function."
   ]
  },
  {
   "cell_type": "code",
   "execution_count": 5,
   "metadata": {
    "collapsed": true
   },
   "outputs": [],
   "source": [
    "def my_split(s):\n",
    "    if s[19]==',':\n",
    "        return s.split(',')\n",
    "    elif s[19]=='|':\n",
    "        return s.split(\"|\")\n",
    "    else:\n",
    "        return s.split(\"/\")\n",
    "\n",
    "parsed  = mydata.map(my_split)"
   ]
  },
  {
   "cell_type": "code",
   "execution_count": 6,
   "metadata": {
    "collapsed": false
   },
   "outputs": [
    {
     "data": {
      "text/plain": [
       "459540"
      ]
     },
     "execution_count": 6,
     "metadata": {},
     "output_type": "execute_result"
    }
   ],
   "source": [
    "parsed.count()"
   ]
  },
  {
   "cell_type": "markdown",
   "metadata": {},
   "source": [
    "created an RDD that removes the rows that did not parse correctly (i.e. not containing 14 values)"
   ]
  },
  {
   "cell_type": "code",
   "execution_count": 7,
   "metadata": {
    "collapsed": true
   },
   "outputs": [],
   "source": [
    "filtered = parsed.filter(lambda record:len(record)==14)"
   ]
  },
  {
   "cell_type": "markdown",
   "metadata": {},
   "source": [
    "compare the # of records two RDDs"
   ]
  },
  {
   "cell_type": "code",
   "execution_count": 8,
   "metadata": {
    "collapsed": false
   },
   "outputs": [
    {
     "data": {
      "text/plain": [
       "459540"
      ]
     },
     "execution_count": 8,
     "metadata": {},
     "output_type": "execute_result"
    }
   ],
   "source": [
    "filtered.count()"
   ]
  },
  {
   "cell_type": "markdown",
   "metadata": {},
   "source": [
    "### Step 4\tExtract the fields\n",
    "Extra date (first field), model (second field), device ID (third field), and latitude and longitude (13th and 14th fields respectively)\n"
   ]
  },
  {
   "cell_type": "code",
   "execution_count": 9,
   "metadata": {
    "collapsed": true
   },
   "outputs": [],
   "source": [
    "selectedFields = filtered.map(lambda r:(r[0],r[1],r[2],r[12],r[13]))"
   ]
  },
  {
   "cell_type": "markdown",
   "metadata": {},
   "source": [
    "Inspect the results by print the first two rows"
   ]
  },
  {
   "cell_type": "code",
   "execution_count": 10,
   "metadata": {
    "collapsed": false
   },
   "outputs": [
    {
     "name": "stdout",
     "output_type": "stream",
     "text": [
      "2014-03-15:10:10:20, Sorrento F41L, 8cc3b47e-bd01-4482-b500-28f2342679af, 33.6894754264, -117.543308253\n",
      "2014-03-15:10:10:20, MeeToo 1.0, ef8c7564-0a1a-4650-a655-c8bbd5f8f943, 37.4321088904, -121.485029632\n",
      "2014-03-15:10:10:20, MeeToo 1.0, 23eba027-b95a-4729-9a4b-a3cca51c5548, 39.4378908349, -120.938978486\n",
      "2014-03-15:10:10:20, Sorrento F41L, 707daba1-5640-4d60-a6d9-1d6fa0645be0, 39.3635186767, -119.400334708\n",
      "2014-03-15:10:10:20, Ronin Novelty Note 1, db66fe81-aa55-43b4-9418-fc6e7a00f891, 33.1913581092, -116.448242643\n",
      "2014-03-15:10:10:20, Sorrento F41L, ffa18088-69a0-433e-84b8-006b2b9cc1d0, 33.8343543748, -117.330000857\n",
      "2014-03-15:10:10:20, Sorrento F33L, 66d678e6-9c87-48d2-a415-8d5035e54a23, 37.3803954321, -121.840756755\n",
      "2014-03-15:10:10:20, MeeToo 4.1, 673f7e4b-d52b-44fc-8826-aea460c3481a, 34.1841062345, -117.9435329\n",
      "2014-03-15:10:10:20, Ronin Novelty Note 2, a678ccc3-b0d2-452d-bf89-85bd095e28ee, 32.2850556785, -111.819583734\n",
      "2014-03-15:10:10:20, Sorrento F41L, 86bef6ae-2f1c-42ec-aa67-6acecd7b0675, 45.2400522984, -122.377467861\n"
     ]
    }
   ],
   "source": [
    "for row in selectedFields.take(10):\n",
    "    print(\"{}, {}, {}, {}, {}\".format(*row))"
   ]
  },
  {
   "cell_type": "markdown",
   "metadata": {},
   "source": [
    "### Step 5.\t Split the 2nd field into two\n",
    "The second field contains the device manufacturer and model name (e.g. Ronin S2.) Split this field by spaces to separate the manufacturer from the model (e.g. manufacturer Ronin, model S2.)"
   ]
  },
  {
   "cell_type": "code",
   "execution_count": 11,
   "metadata": {
    "collapsed": true
   },
   "outputs": [],
   "source": [
    "splitted = selectedFields.map(lambda r:(r[0],r[1].split(' ')[0],r[1].split(' ')[1],r[2],r[3],r[4]))"
   ]
  },
  {
   "cell_type": "markdown",
   "metadata": {},
   "source": [
    "inspect the results by printing first 10 rows"
   ]
  },
  {
   "cell_type": "code",
   "execution_count": 12,
   "metadata": {
    "collapsed": false
   },
   "outputs": [
    {
     "name": "stdout",
     "output_type": "stream",
     "text": [
      "2014-03-15:10:10:20, Sorrento, F41L, 8cc3b47e-bd01-4482-b500-28f2342679af, 33.6894754264, -117.543308253\n",
      "2014-03-15:10:10:20, MeeToo, 1.0, ef8c7564-0a1a-4650-a655-c8bbd5f8f943, 37.4321088904, -121.485029632\n",
      "2014-03-15:10:10:20, MeeToo, 1.0, 23eba027-b95a-4729-9a4b-a3cca51c5548, 39.4378908349, -120.938978486\n",
      "2014-03-15:10:10:20, Sorrento, F41L, 707daba1-5640-4d60-a6d9-1d6fa0645be0, 39.3635186767, -119.400334708\n",
      "2014-03-15:10:10:20, Ronin, Novelty, db66fe81-aa55-43b4-9418-fc6e7a00f891, 33.1913581092, -116.448242643\n",
      "2014-03-15:10:10:20, Sorrento, F41L, ffa18088-69a0-433e-84b8-006b2b9cc1d0, 33.8343543748, -117.330000857\n",
      "2014-03-15:10:10:20, Sorrento, F33L, 66d678e6-9c87-48d2-a415-8d5035e54a23, 37.3803954321, -121.840756755\n",
      "2014-03-15:10:10:20, MeeToo, 4.1, 673f7e4b-d52b-44fc-8826-aea460c3481a, 34.1841062345, -117.9435329\n",
      "2014-03-15:10:10:20, Ronin, Novelty, a678ccc3-b0d2-452d-bf89-85bd095e28ee, 32.2850556785, -111.819583734\n",
      "2014-03-15:10:10:20, Sorrento, F41L, 86bef6ae-2f1c-42ec-aa67-6acecd7b0675, 45.2400522984, -122.377467861\n"
     ]
    }
   ],
   "source": [
    "for row in splitted.take(10):\n",
    "    print(\"{}, {}, {}, {}, {}, {}\".format(*row))"
   ]
  },
  {
   "cell_type": "markdown",
   "metadata": {},
   "source": [
    "### Step 6.  Save CSV to HDFS\n",
    "Save the extracted data to comma delimited text files in the **devicestatus_etl** directory on local host\n"
   ]
  },
  {
   "cell_type": "code",
   "execution_count": 16,
   "metadata": {
    "collapsed": true
   },
   "outputs": [],
   "source": [
    "# if you need to rerun this, remove the output directory first\n",
    "# ! hadoop fs -rm -r -f /loudacre/devicestatus_etl"
   ]
  },
  {
   "cell_type": "code",
   "execution_count": null,
   "metadata": {
    "collapsed": false
   },
   "outputs": [],
   "source": [
    "splitted.map(lambda r :\",\".join(r)).saveAsTextFile('devicestatus_etl')"
   ]
  },
  {
   "cell_type": "markdown",
   "metadata": {
    "collapsed": true
   },
   "source": [
    "### Step 7.  Verify Results\n",
    "verify results with linux commands\n",
    "- first to show content of **devicestatus_etl** \n",
    "- then take sample rows from the files\n"
   ]
  },
  {
   "cell_type": "code",
   "execution_count": 18,
   "metadata": {
    "collapsed": false
   },
   "outputs": [
    {
     "name": "stdout",
     "output_type": "stream",
     "text": [
      "total 43520\r\n",
      "-rw-r--r-- 1 cloudera cloudera 22281863 Jul 31 19:43 part-00000\r\n",
      "-rw-r--r-- 1 cloudera cloudera 22278372 Jul 31 19:43 part-00001\r\n",
      "-rw-r--r-- 1 cloudera cloudera        0 Jul 31 19:43 _SUCCESS\r\n"
     ]
    }
   ],
   "source": [
    "!ls -l devicestatus_etl"
   ]
  },
  {
   "cell_type": "code",
   "execution_count": 20,
   "metadata": {
    "collapsed": false
   },
   "outputs": [
    {
     "name": "stdout",
     "output_type": "stream",
     "text": [
      "2014-03-15:10:10:20,Sorrento,F41L,8cc3b47e-bd01-4482-b500-28f2342679af,33.6894754264,-117.543308253\r\n",
      "2014-03-15:10:10:20,MeeToo,1.0,ef8c7564-0a1a-4650-a655-c8bbd5f8f943,37.4321088904,-121.485029632\r\n",
      "2014-03-15:10:10:20,MeeToo,1.0,23eba027-b95a-4729-9a4b-a3cca51c5548,39.4378908349,-120.938978486\r\n",
      "2014-03-15:10:10:20,Sorrento,F41L,707daba1-5640-4d60-a6d9-1d6fa0645be0,39.3635186767,-119.400334708\r\n",
      "2014-03-15:10:10:20,Ronin,Novelty,db66fe81-aa55-43b4-9418-fc6e7a00f891,33.1913581092,-116.448242643\r\n",
      "2014-03-15:10:10:20,Sorrento,F41L,ffa18088-69a0-433e-84b8-006b2b9cc1d0,33.8343543748,-117.330000857\r\n",
      "2014-03-15:10:10:20,Sorrento,F33L,66d678e6-9c87-48d2-a415-8d5035e54a23,37.3803954321,-121.840756755\r\n",
      "2014-03-15:10:10:20,MeeToo,4.1,673f7e4b-d52b-44fc-8826-aea460c3481a,34.1841062345,-117.9435329\r\n",
      "2014-03-15:10:10:20,Ronin,Novelty,a678ccc3-b0d2-452d-bf89-85bd095e28ee,32.2850556785,-111.819583734\r\n",
      "2014-03-15:10:10:20,Sorrento,F41L,86bef6ae-2f1c-42ec-aa67-6acecd7b0675,45.2400522984,-122.377467861\r\n",
      "cat: write error: Broken pipe\r\n"
     ]
    }
   ],
   "source": [
    "!cat devicestatus_etl/* | head"
   ]
  },
  {
   "cell_type": "code",
   "execution_count": null,
   "metadata": {
    "collapsed": true
   },
   "outputs": [],
   "source": []
  }
 ],
 "metadata": {
  "kernelspec": {
   "display_name": "Python 2",
   "language": "python",
   "name": "python2"
  },
  "language_info": {
   "codemirror_mode": {
    "name": "ipython",
    "version": 2
   },
   "file_extension": ".py",
   "mimetype": "text/x-python",
   "name": "python",
   "nbconvert_exporter": "python",
   "pygments_lexer": "ipython2",
   "version": "2.7.13"
  }
 },
 "nbformat": 4,
 "nbformat_minor": 2
}
