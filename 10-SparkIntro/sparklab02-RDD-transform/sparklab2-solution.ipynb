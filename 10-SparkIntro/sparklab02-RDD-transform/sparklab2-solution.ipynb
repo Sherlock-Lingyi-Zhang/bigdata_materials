{
 "cells": [
  {
   "cell_type": "markdown",
   "metadata": {},
   "source": [
    "# Spark Lab 2 - Use RDDs to Transform a Dataset (Solution)\n"
   ]
  },
  {
   "cell_type": "code",
   "execution_count": 1,
   "metadata": {},
   "outputs": [
    {
     "data": {
      "text/html": [
       "\n",
       "        <div>\n",
       "            <p><b>SparkContext</b></p>\n",
       "\n",
       "            <p><a href=\"http://10.0.2.15:4040\">Spark UI</a></p>\n",
       "\n",
       "            <dl>\n",
       "              <dt>Version</dt>\n",
       "                <dd><code>v2.3.3</code></dd>\n",
       "              <dt>Master</dt>\n",
       "                <dd><code>local[*]</code></dd>\n",
       "              <dt>AppName</dt>\n",
       "                <dd><code>PySparkShell</code></dd>\n",
       "            </dl>\n",
       "        </div>\n",
       "        "
      ],
      "text/plain": [
       "<SparkContext master=local[*] appName=PySparkShell>"
      ]
     },
     "execution_count": 1,
     "metadata": {},
     "output_type": "execute_result"
    }
   ],
   "source": [
    "sc"
   ]
  },
  {
   "cell_type": "markdown",
   "metadata": {},
   "source": [
    "### Note: this lab assumes that your spark runs in the local mode, so that all file paths defaults to local path."
   ]
  },
  {
   "cell_type": "markdown",
   "metadata": {},
   "source": [
    "\n",
    "## Explore the Loudacre web log files"
   ]
  },
  {
   "cell_type": "markdown",
   "metadata": {},
   "source": [
    "### Data Preparation\n",
    "first run the following commands to prepare data in local host"
   ]
  },
  {
   "cell_type": "code",
   "execution_count": 14,
   "metadata": {},
   "outputs": [],
   "source": [
    "! cd training_materials/data/weblogs"
   ]
  },
  {
   "cell_type": "code",
   "execution_count": null,
   "metadata": {
    "collapsed": true
   },
   "outputs": [],
   "source": []
  },
  {
   "cell_type": "markdown",
   "metadata": {},
   "source": [
    "###  Step 1.  Explore the data files\n",
    "\n",
    "First explore what is in local directory **weblogs**\n"
   ]
  },
  {
   "cell_type": "code",
   "execution_count": null,
   "metadata": {
    "scrolled": false
   },
   "outputs": [],
   "source": [
    "!ls "
   ]
  },
  {
   "cell_type": "markdown",
   "metadata": {},
   "source": [
    "Then view the head of one of the web log file. "
   ]
  },
  {
   "cell_type": "code",
   "execution_count": 16,
   "metadata": {},
   "outputs": [
    {
     "name": "stdout",
     "output_type": "stream",
     "text": [
      "3.94.78.5 - 69827 [15/Sep/2013:23:58:36 +0100] \"GET /KBDOC-00033.html HTTP/1.0\" 200 14417 \"http://www.loudacre.com\"  \"Loudacre Mobile Browser iFruit 1\"\r\n",
      "3.94.78.5 - 69827 [15/Sep/2013:23:58:36 +0100] \"GET /theme.css HTTP/1.0\" 200 3576 \"http://www.loudacre.com\"  \"Loudacre Mobile Browser iFruit 1\"\r\n",
      "19.38.140.62 - 21475 [15/Sep/2013:23:58:34 +0100] \"GET /KBDOC-00277.html HTTP/1.0\" 200 15517 \"http://www.loudacre.com\"  \"Loudacre Mobile Browser Ronin S1\"\r\n",
      "19.38.140.62 - 21475 [15/Sep/2013:23:58:34 +0100] \"GET /theme.css HTTP/1.0\" 200 13353 \"http://www.loudacre.com\"  \"Loudacre Mobile Browser Ronin S1\"\r\n",
      "129.133.56.105 - 2489 [15/Sep/2013:23:58:34 +0100] \"GET /KBDOC-00033.html HTTP/1.0\" 200 10590 \"http://www.loudacre.com\"  \"Loudacre Mobile Browser Sorrento F00L\"\r\n",
      "129.133.56.105 - 2489 [15/Sep/2013:23:58:34 +0100] \"GET /theme.css HTTP/1.0\" 200 12295 \"http://www.loudacre.com\"  \"Loudacre Mobile Browser Sorrento F00L\"\r\n",
      "217.150.149.167 - 4712 [15/Sep/2013:23:56:06 +0100] \"GET /ronin_s4_sales.html HTTP/1.0\" 200 845 \"http://www.loudacre.com\"  \"Loudacre Mobile Browser MeeToo 1.0\"\r\n",
      "217.150.149.167 - 4712 [15/Sep/2013:23:56:06 +0100] \"GET /theme.css HTTP/1.0\" 200 738 \"http://www.loudacre.com\"  \"Loudacre Mobile Browser MeeToo 1.0\"\r\n",
      "217.150.149.167 - 4712 [15/Sep/2013:23:56:06 +0100] \"GET /code.js HTTP/1.0\" 200 938 \"http://www.loudacre.com\"  \"Loudacre Mobile Browser MeeToo 1.0\"\r\n",
      "217.150.149.167 - 4712 [15/Sep/2013:23:56:06 +0100] \"GET /ronin_s4.jpg HTTP/1.0\" 200 5552 \"http://www.loudacre.com\"  \"Loudacre Mobile Browser MeeToo 1.0\"\r\n",
      "cat: write error: Broken pipe\r\n"
     ]
    }
   ],
   "source": [
    "!cat * | head"
   ]
  },
  {
   "cell_type": "markdown",
   "metadata": {},
   "source": [
    "\n",
    "### Step 2.  Set a variable for the data file so you do not have to retype it each time."
   ]
  },
  {
   "cell_type": "code",
   "execution_count": 17,
   "metadata": {
    "collapsed": true
   },
   "outputs": [],
   "source": [
    "logfile=\"training_materials/data/weblogs\""
   ]
  },
  {
   "cell_type": "markdown",
   "metadata": {},
   "source": [
    "### Step 3.\tCreate an RDD from the data file."
   ]
  },
  {
   "cell_type": "code",
   "execution_count": 18,
   "metadata": {
    "collapsed": true
   },
   "outputs": [],
   "source": [
    "logs = sc.textFile(logfile)"
   ]
  },
  {
   "cell_type": "markdown",
   "metadata": {},
   "source": [
    "### Step 4.\tCreate an RDD containing only those lines that are requests for JPG files."
   ]
  },
  {
   "cell_type": "code",
   "execution_count": 19,
   "metadata": {
    "collapsed": true
   },
   "outputs": [],
   "source": [
    "jpglogs = logs.filter(lambda line:\".jpg\" in line)"
   ]
  },
  {
   "cell_type": "markdown",
   "metadata": {},
   "source": [
    "### Step 5.\tView the first 10 lines of the data using `take`"
   ]
  },
  {
   "cell_type": "code",
   "execution_count": 20,
   "metadata": {},
   "outputs": [
    {
     "data": {
      "text/plain": [
       "[u'114.56.156.55 - 62826 [02/Dec/2013:12:10:36 +0100] \"GET /ifruit_4.jpg HTTP/1.0\" 200 4649 \"http://www.loudacre.com\"  \"Loudacre Mobile Browser iFruit 3\"',\n",
       " u'86.125.145.15 - 7362 [02/Dec/2013:12:10:35 +0100] \"GET /ifruit_3a.jpg HTTP/1.0\" 200 16517 \"http://www.loudacre.com\"  \"Loudacre Mobile Browser iFruit 1\"',\n",
       " u'241.32.165.119 - 4237 [02/Dec/2013:12:05:31 +0100] \"GET /meetoo_4.0.jpg HTTP/1.0\" 200 19283 \"http://www.loudacre.com\"  \"Loudacre Mobile Browser Ronin S1\"',\n",
       " u'215.56.56.60 - 16622 [02/Dec/2013:12:02:16 +0100] \"GET /ronin_s2.jpg HTTP/1.0\" 200 9524 \"http://www.loudacre.com\"  \"Loudacre Mobile Browser MeeToo 3.0\"',\n",
       " u'159.134.45.232 - 72027 [02/Dec/2013:11:57:54 +0100] \"GET /ifruit_5a.jpg HTTP/1.0\" 200 18828 \"http://www.loudacre.com\"  \"Loudacre Mobile Browser Sorrento F21L\"',\n",
       " u'64.90.36.213 - 21932 [02/Dec/2013:11:57:30 +0100] \"GET /ronin_s2.jpg HTTP/1.0\" 200 6012 \"http://www.loudacre.com\"  \"Loudacre Mobile Browser Titanic 1100\"',\n",
       " u'85.177.200.35 - 18442 [02/Dec/2013:11:54:19 +0100] \"GET /map.jpg HTTP/1.0\" 200 5848 \"http://www.loudacre.com\"  \"Loudacre Mobile Browser Ronin S1\"',\n",
       " u'208.166.247.131 - 17900 [02/Dec/2013:11:52:38 +0100] \"GET /sorrento_f31l.jpg HTTP/1.0\" 200 11301 \"http://www.loudacre.com\"  \"Loudacre Mobile Browser MeeToo 2.0\"',\n",
       " u'207.227.152.76 - 77944 [02/Dec/2013:11:50:10 +0100] \"GET /titanic_2300.jpg HTTP/1.0\" 200 14807 \"http://www.loudacre.com\"  \"Loudacre Mobile Browser Titanic 1100\"',\n",
       " u'114.147.66.45 - 67229 [02/Dec/2013:11:48:14 +0100] \"GET /titanic_3000.jpg HTTP/1.0\" 200 17379 \"http://www.loudacre.com\"  \"Loudacre Mobile Browser Ronin Novelty Note 2\"']"
      ]
     },
     "execution_count": 20,
     "metadata": {},
     "output_type": "execute_result"
    }
   ],
   "source": [
    "jpglogs.take(10)"
   ]
  },
  {
   "cell_type": "markdown",
   "metadata": {},
   "source": [
    "### Step 6. Combine Previous Steps\n",
    "Sometimes you do not need to store intermediate objects in a variable, in which case you can combine the steps into a single line of code. Combine the previous commands into a single command to count the number of JPG requests.\n",
    "\n",
    "**Tip**: To break long lines, make sure to use a space and \\ at the end."
   ]
  },
  {
   "cell_type": "code",
   "execution_count": 22,
   "metadata": {},
   "outputs": [
    {
     "data": {
      "text/plain": [
       "64978"
      ]
     },
     "execution_count": 22,
     "metadata": {},
     "output_type": "execute_result"
    }
   ],
   "source": [
    "sc.textFile(logfile) \\\n",
    "    .filter(lambda line:\".jpg\" in line) \\\n",
    "    .count()"
   ]
  },
  {
   "cell_type": "markdown",
   "metadata": {},
   "source": [
    "### Step 7.\t Compute line lengths using `map`\n",
    "Now try using the `map` function to define a new RDD. Start with a simple map that returns the length of each line in the log file. This will produce an array of five integers corresponding to the **first five lines** in the file.\n"
   ]
  },
  {
   "cell_type": "code",
   "execution_count": 23,
   "metadata": {},
   "outputs": [
    {
     "data": {
      "text/plain": [
       "[153, 158, 152, 159, 152]"
      ]
     },
     "execution_count": 23,
     "metadata": {},
     "output_type": "execute_result"
    }
   ],
   "source": [
    "logs.map(lambda line:len(line)).take(5)"
   ]
  },
  {
   "cell_type": "markdown",
   "metadata": {},
   "source": [
    "### Step 8.  Words\n",
    "That is not very useful. Instead, try mapping to an array of words for each line. \n",
    "\n",
    "This time, you will print out five arrays, each containing the words in the corresponding log file line.\n"
   ]
  },
  {
   "cell_type": "code",
   "execution_count": 24,
   "metadata": {},
   "outputs": [],
   "source": [
    "words  = logs.map(lambda line:line.split())"
   ]
  },
  {
   "cell_type": "code",
   "execution_count": 25,
   "metadata": {},
   "outputs": [
    {
     "name": "stdout",
     "output_type": "stream",
     "text": [
      "[u'151.21.109.132', u'-', u'36918', u'[02/Dec/2013:12:12:12', u'+0100]', u'\"GET', u'/theme.css', u'HTTP/1.0\"', u'200', u'10552', u'\"http://www.loudacre.com\"', u'\"Loudacre', u'Mobile', u'Browser', u'Titanic', u'1100\"']\n",
      "[u'142.152.5.137', u'-', u'88890', u'[02/Dec/2013:12:11:45', u'+0100]', u'\"GET', u'/KBDOC-00122.html', u'HTTP/1.0\"', u'200', u'8938', u'\"http://www.loudacre.com\"', u'\"Loudacre', u'Mobile', u'Browser', u'Titanic', u'2300\"']\n",
      "[u'142.152.5.137', u'-', u'88890', u'[02/Dec/2013:12:11:45', u'+0100]', u'\"GET', u'/theme.css', u'HTTP/1.0\"', u'200', u'14348', u'\"http://www.loudacre.com\"', u'\"Loudacre', u'Mobile', u'Browser', u'Titanic', u'2300\"']\n",
      "[u'193.68.215.33', u'-', u'108180', u'[02/Dec/2013:12:11:24', u'+0100]', u'\"GET', u'/KBDOC-00270.html', u'HTTP/1.0\"', u'200', u'9680', u'\"http://www.loudacre.com\"', u'\"Loudacre', u'Mobile', u'Browser', u'Titanic', u'2400\"']\n",
      "[u'193.68.215.33', u'-', u'108180', u'[02/Dec/2013:12:11:24', u'+0100]', u'\"GET', u'/theme.css', u'HTTP/1.0\"', u'200', u'7382', u'\"http://www.loudacre.com\"', u'\"Loudacre', u'Mobile', u'Browser', u'Titanic', u'2400\"']\n"
     ]
    }
   ],
   "source": [
    "for word in words.take(5):\n",
    "    print(word)"
   ]
  },
  {
   "cell_type": "markdown",
   "metadata": {},
   "source": [
    "### Step 9.  IP addresses\n",
    "Now that you know how map works, define a new RDD containing just the IP addresses from each line in the log file. (The IP address is the first “word” in each line)."
   ]
  },
  {
   "cell_type": "code",
   "execution_count": 27,
   "metadata": {},
   "outputs": [
    {
     "data": {
      "text/plain": [
       "[u'151.21.109.132',\n",
       " u'142.152.5.137',\n",
       " u'142.152.5.137',\n",
       " u'193.68.215.33',\n",
       " u'193.68.215.33']"
      ]
     },
     "execution_count": 27,
     "metadata": {},
     "output_type": "execute_result"
    }
   ],
   "source": [
    "ips = logs.map(lambda line: line.split()[0])\n",
    "ips.take(5)"
   ]
  },
  {
   "cell_type": "markdown",
   "metadata": {},
   "source": [
    "### Step 10.\tPrint Return Results\n",
    "Although take and collect are useful ways to look at data in an RDD, their output is not very readable. Fortunately, they return arrays which you can iterate through:"
   ]
  },
  {
   "cell_type": "code",
   "execution_count": 13,
   "metadata": {},
   "outputs": [
    {
     "name": "stdout",
     "output_type": "stream",
     "text": [
      "3.94.78.5\n",
      "3.94.78.5\n",
      "19.38.140.62\n",
      "19.38.140.62\n",
      "129.133.56.105\n",
      "129.133.56.105\n",
      "217.150.149.167\n",
      "217.150.149.167\n",
      "217.150.149.167\n",
      "217.150.149.167\n"
     ]
    }
   ],
   "source": [
    "for ip in ips.take(10): print ip"
   ]
  },
  {
   "cell_type": "markdown",
   "metadata": {},
   "source": [
    "### Step 11 . Save IP addresses as a text file\n",
    "Finally, save the list of IP addresses as a text file to: `iplist`"
   ]
  },
  {
   "cell_type": "code",
   "execution_count": 16,
   "metadata": {
    "collapsed": true
   },
   "outputs": [],
   "source": [
    "# if you were to recreate the iplist, delete the output folder first\n",
    "# !hadoop fs -rm -r -r /loudacre/iplist"
   ]
  },
  {
   "cell_type": "code",
   "execution_count": 28,
   "metadata": {},
   "outputs": [],
   "source": [
    "ips.saveAsTextFile(\"iplist\")"
   ]
  },
  {
   "cell_type": "markdown",
   "metadata": {},
   "source": [
    "### Step 12: Display result folder\n",
    "\n",
    "In a terminal window, list the contents of the local \n",
    "**iplist** folder. You should see multiple files, including several part-xxxxx files, which are the files containing the output data. (“Part” (partition) files are numbered because there may be results from multiple tasks running on the cluster; you will learn more about this later.) Review the contents of one of the files to confirm that they were created correctly.\n"
   ]
  },
  {
   "cell_type": "code",
   "execution_count": 30,
   "metadata": {},
   "outputs": [
    {
     "name": "stdout",
     "output_type": "stream",
     "text": [
      "part-00000  part-00052\tpart-00104  part-00156\tpart-00208  part-00260\r\n",
      "part-00001  part-00053\tpart-00105  part-00157\tpart-00209  part-00261\r\n",
      "part-00002  part-00054\tpart-00106  part-00158\tpart-00210  part-00262\r\n",
      "part-00003  part-00055\tpart-00107  part-00159\tpart-00211  part-00263\r\n",
      "part-00004  part-00056\tpart-00108  part-00160\tpart-00212  part-00264\r\n",
      "part-00005  part-00057\tpart-00109  part-00161\tpart-00213  part-00265\r\n",
      "part-00006  part-00058\tpart-00110  part-00162\tpart-00214  part-00266\r\n",
      "part-00007  part-00059\tpart-00111  part-00163\tpart-00215  part-00267\r\n",
      "part-00008  part-00060\tpart-00112  part-00164\tpart-00216  part-00268\r\n",
      "part-00009  part-00061\tpart-00113  part-00165\tpart-00217  part-00269\r\n",
      "part-00010  part-00062\tpart-00114  part-00166\tpart-00218  part-00270\r\n",
      "part-00011  part-00063\tpart-00115  part-00167\tpart-00219  part-00271\r\n",
      "part-00012  part-00064\tpart-00116  part-00168\tpart-00220  part-00272\r\n",
      "part-00013  part-00065\tpart-00117  part-00169\tpart-00221  part-00273\r\n",
      "part-00014  part-00066\tpart-00118  part-00170\tpart-00222  part-00274\r\n",
      "part-00015  part-00067\tpart-00119  part-00171\tpart-00223  part-00275\r\n",
      "part-00016  part-00068\tpart-00120  part-00172\tpart-00224  part-00276\r\n",
      "part-00017  part-00069\tpart-00121  part-00173\tpart-00225  part-00277\r\n",
      "part-00018  part-00070\tpart-00122  part-00174\tpart-00226  part-00278\r\n",
      "part-00019  part-00071\tpart-00123  part-00175\tpart-00227  part-00279\r\n",
      "part-00020  part-00072\tpart-00124  part-00176\tpart-00228  part-00280\r\n",
      "part-00021  part-00073\tpart-00125  part-00177\tpart-00229  part-00281\r\n",
      "part-00022  part-00074\tpart-00126  part-00178\tpart-00230  part-00282\r\n",
      "part-00023  part-00075\tpart-00127  part-00179\tpart-00231  part-00283\r\n",
      "part-00024  part-00076\tpart-00128  part-00180\tpart-00232  part-00284\r\n",
      "part-00025  part-00077\tpart-00129  part-00181\tpart-00233  part-00285\r\n",
      "part-00026  part-00078\tpart-00130  part-00182\tpart-00234  part-00286\r\n",
      "part-00027  part-00079\tpart-00131  part-00183\tpart-00235  part-00287\r\n",
      "part-00028  part-00080\tpart-00132  part-00184\tpart-00236  part-00288\r\n",
      "part-00029  part-00081\tpart-00133  part-00185\tpart-00237  part-00289\r\n",
      "part-00030  part-00082\tpart-00134  part-00186\tpart-00238  part-00290\r\n",
      "part-00031  part-00083\tpart-00135  part-00187\tpart-00239  part-00291\r\n",
      "part-00032  part-00084\tpart-00136  part-00188\tpart-00240  part-00292\r\n",
      "part-00033  part-00085\tpart-00137  part-00189\tpart-00241  part-00293\r\n",
      "part-00034  part-00086\tpart-00138  part-00190\tpart-00242  part-00294\r\n",
      "part-00035  part-00087\tpart-00139  part-00191\tpart-00243  part-00295\r\n",
      "part-00036  part-00088\tpart-00140  part-00192\tpart-00244  part-00296\r\n",
      "part-00037  part-00089\tpart-00141  part-00193\tpart-00245  part-00297\r\n",
      "part-00038  part-00090\tpart-00142  part-00194\tpart-00246  part-00298\r\n",
      "part-00039  part-00091\tpart-00143  part-00195\tpart-00247  part-00299\r\n",
      "part-00040  part-00092\tpart-00144  part-00196\tpart-00248  part-00300\r\n",
      "part-00041  part-00093\tpart-00145  part-00197\tpart-00249  part-00301\r\n",
      "part-00042  part-00094\tpart-00146  part-00198\tpart-00250  part-00302\r\n",
      "part-00043  part-00095\tpart-00147  part-00199\tpart-00251  part-00303\r\n",
      "part-00044  part-00096\tpart-00148  part-00200\tpart-00252  part-00304\r\n",
      "part-00045  part-00097\tpart-00149  part-00201\tpart-00253  part-00305\r\n",
      "part-00046  part-00098\tpart-00150  part-00202\tpart-00254  part-00306\r\n",
      "part-00047  part-00099\tpart-00151  part-00203\tpart-00255  part-00307\r\n",
      "part-00048  part-00100\tpart-00152  part-00204\tpart-00256  part-00308\r\n",
      "part-00049  part-00101\tpart-00153  part-00205\tpart-00257  part-00309\r\n",
      "part-00050  part-00102\tpart-00154  part-00206\tpart-00258  part-00310\r\n",
      "part-00051  part-00103\tpart-00155  part-00207\tpart-00259  _SUCCESS\r\n"
     ]
    }
   ],
   "source": [
    "!ls iplist"
   ]
  },
  {
   "cell_type": "markdown",
   "metadata": {},
   "source": [
    "### Step 13. Create a User-IP dataset\n",
    "Use RDD transformations to create a dataset consisting of the IP address and corresponding user ID for each request for an HTML file. (Disregard requests for other file types). The user ID is the third field in each log file line. Rows in the new RDD should be like:\n",
    "```\n",
    "(165.32.101.206, 8)\n",
    "(100.219.90.44, 102)\n",
    "...\n",
    "```"
   ]
  },
  {
   "cell_type": "code",
   "execution_count": 31,
   "metadata": {
    "collapsed": true
   },
   "outputs": [],
   "source": [
    "ipusers = logs.filter(lambda line:\".html\" in line). \\\n",
    "    map(lambda line: (line.split()[0],line.split()[2]))"
   ]
  },
  {
   "cell_type": "markdown",
   "metadata": {},
   "source": [
    "Display the first 10 rows in the form ipaddress/userid, e.g.:\n",
    "```\n",
    "165.32.101.206/8\n",
    "100.219.90.44/102\t\n",
    "182.4.148.56/173\n",
    "246.241.6.175/45395\n",
    "175.223.172.207/4115\n",
    "```"
   ]
  },
  {
   "cell_type": "code",
   "execution_count": 32,
   "metadata": {},
   "outputs": [
    {
     "name": "stdout",
     "output_type": "stream",
     "text": [
      "142.152.5.137/88890\n",
      "193.68.215.33/108180\n",
      "97.76.130.234/96\n",
      "184.216.140.241/202\n",
      "200.149.118.18/61733\n",
      "171.148.136.192/171\n",
      "114.56.156.55/62826\n",
      "86.125.145.15/7362\n",
      "138.147.182.19/47\n",
      "122.3.151.2/177\n"
     ]
    }
   ],
   "source": [
    "# display 10 records\n",
    "for ipuser in ipusers.take(10):\n",
    "    print(\"{}/{}\".format(*ipuser))"
   ]
  },
  {
   "cell_type": "markdown",
   "metadata": {},
   "source": [
    "display the # of records"
   ]
  },
  {
   "cell_type": "code",
   "execution_count": 20,
   "metadata": {},
   "outputs": [
    {
     "data": {
      "text/plain": [
       "474360"
      ]
     },
     "execution_count": 20,
     "metadata": {},
     "output_type": "execute_result"
    }
   ],
   "source": [
    "ipusers.count()"
   ]
  },
  {
   "cell_type": "code",
   "execution_count": null,
   "metadata": {
    "collapsed": true
   },
   "outputs": [],
   "source": []
  }
 ],
 "metadata": {
  "kernelspec": {
   "display_name": "Python 3",
   "language": "python",
   "name": "python3"
  },
  "language_info": {
   "codemirror_mode": {
    "name": "ipython",
    "version": 3
   },
   "file_extension": ".py",
   "mimetype": "text/x-python",
   "name": "python",
   "nbconvert_exporter": "python",
   "pygments_lexer": "ipython3",
   "version": "3.7.3"
  }
 },
 "nbformat": 4,
 "nbformat_minor": 2
}
