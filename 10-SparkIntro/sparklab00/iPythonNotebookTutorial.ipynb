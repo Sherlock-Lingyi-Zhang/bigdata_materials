{
 "cells": [
  {
   "cell_type": "markdown",
   "metadata": {},
   "source": [
    "MSBA 6330 Prof Liu"
   ]
  },
  {
   "cell_type": "markdown",
   "metadata": {},
   "source": [
    "# iPython Notebook - A Brief Tutorial"
   ]
  },
  {
   "cell_type": "markdown",
   "metadata": {},
   "source": [
    " IPython is a set of tools originally developed to make it easier for scientists to work with Python and data. It allows you to combine interactive Python exploration with prewritten programs and even text and equations for documentation.\n",
    "\n",
    "IPython isn't a different programming language, it's just a set of computer programs for working with the Python language.\n",
    "\n",
    "To begin, the notebook consists of cells that switch between edit mode and command mode. Basically, in the edito mode, you can edit the content of the cells, such as writting python scripts or a comment. Whereas in the command mode you can add/delete cells, move them up and down etc."
   ]
  },
  {
   "cell_type": "markdown",
   "metadata": {},
   "source": [
    "## 1. Watch this video to get an idea of what the notebook is capable of\n",
    "\n",
    "Youtube video link: [iPython Notebook tour](http://www.youtube.com/watch?v=H6dLGQw9yFQ)"
   ]
  },
  {
   "cell_type": "markdown",
   "metadata": {},
   "source": [
    "## 2. Explore the Environment"
   ]
  },
  {
   "cell_type": "markdown",
   "metadata": {},
   "source": [
    "Use the **help menu** / **User interface tour**"
   ]
  },
  {
   "cell_type": "markdown",
   "metadata": {},
   "source": [
    "## 3. Run Cell \n",
    "\n",
    "Click on the next cell, notcing the editing mode symbol. <kbd>Ctrl+Enter</kbd>to run cell"
   ]
  },
  {
   "cell_type": "code",
   "execution_count": 3,
   "metadata": {
    "collapsed": false
   },
   "outputs": [
    {
     "name": "stdout",
     "output_type": "stream",
     "text": [
      "Hello iPython Notebook\n"
     ]
    }
   ],
   "source": [
    "print \"Hello iPython Notebook\""
   ]
  },
  {
   "cell_type": "markdown",
   "metadata": {},
   "source": [
    "The iPython preserves the variable values in the same session. For example (run the next two cells sequentially)"
   ]
  },
  {
   "cell_type": "code",
   "execution_count": 4,
   "metadata": {
    "collapsed": false
   },
   "outputs": [],
   "source": [
    "m = \"my secret message\""
   ]
  },
  {
   "cell_type": "code",
   "execution_count": 5,
   "metadata": {
    "collapsed": false
   },
   "outputs": [
    {
     "name": "stdout",
     "output_type": "stream",
     "text": [
      "my secret message\n"
     ]
    }
   ],
   "source": [
    "print m"
   ]
  },
  {
   "cell_type": "markdown",
   "metadata": {},
   "source": [
    "This is very useful to us because we do not want to repeatly make the same API calls when we are debugging the python scripts that processes the API return values."
   ]
  },
  {
   "cell_type": "markdown",
   "metadata": {},
   "source": [
    "## 4. Add & Run Cells\n",
    "\n",
    "To add a new cell below. You can use the following sequence of actions\n",
    "- <kbd>ESC</kbd> --> to exit the edit mode\n",
    "- <kbd>b</kbd> --> to add a new cell below (a to add a new cell above)\n",
    "- <kbd>Enter</kbd> --> to edit the new cell\n",
    "\n",
    "Or you could use \n",
    "\n",
    "- <kbd>Alt+Enter</kbd> --> to run current cell and insert a new one below\n",
    "\n",
    "Now practice using the two approaches to enter some new cells below and run them, such as \n",
    "- `print \"I can do it also\"`\n",
    "- `print \"iPython notebook rocks\"`"
   ]
  },
  {
   "cell_type": "markdown",
   "metadata": {},
   "source": [
    "## 5.  Insert a new Markdown cell (i.e. a text block) \n",
    "\n",
    "In the command mode, you can change a cell to a Markdown cell using shortcut \"m\".\n",
    "\n",
    "This means that <kbd>ESC</kbd>--> <kbd>b</kbd> --> <kbd>m</kbd> --> <kbd>Enter</kbd> will insert a new markdown cell and edit it\n",
    "\n",
    "Practice below to enter some Markdown cells.\n",
    "\n",
    "Like code cells, you also need <kbd>Ctrl+Enter</kbd> or <kbd>Alter+Enter</kbd> to \"run\" markdown cells so that they look formatted as text"
   ]
  },
  {
   "cell_type": "markdown",
   "metadata": {},
   "source": [
    "- this is a mark down cell"
   ]
  },
  {
   "cell_type": "markdown",
   "metadata": {},
   "source": [
    "## 6. So how do I enter headings and bullets within Markdown cells?\n",
    "\n",
    "the answer is simple. \n",
    "- to begin a line with # will make it heading 1\n",
    "- to begin a line with ## makes it heading 2 ... and you get the point\n",
    "- to begin a line with - makes it a bullet.\n",
    "- if you enter text like this: `**text to emphasis**`, they should look like this: **text to emphasis**\n",
    "- additionally, to enter `[google](http://www.google.com)` makes it a URL. like this [google](http://www.google.com)."
   ]
  },
  {
   "cell_type": "markdown",
   "metadata": {},
   "source": [
    "## 7. iPYthon Notebook also allows you to run terminal commands within it\n",
    "\n",
    "such as the next example. Only Unix-style commands are accepted"
   ]
  },
  {
   "cell_type": "code",
   "execution_count": 1,
   "metadata": {
    "collapsed": false
   },
   "outputs": [
    {
     "data": {
      "text/plain": [
       "u'/home/cloudera'"
      ]
     },
     "execution_count": 1,
     "metadata": {},
     "output_type": "execute_result"
    }
   ],
   "source": [
    "%pwd"
   ]
  },
  {
   "cell_type": "code",
   "execution_count": 5,
   "metadata": {
    "collapsed": false
   },
   "outputs": [
    {
     "name": "stdout",
     "output_type": "stream",
     "text": [
      "\u001b[0m\u001b[01;34manalyst\u001b[0m/  \u001b[01;34mdata\u001b[0m/  \u001b[01;34mdev1\u001b[0m/  \u001b[01;34mdeveloper\u001b[0m/\r\n",
      "\u001b[m"
     ]
    }
   ],
   "source": [
    "%ls training_materials"
   ]
  },
  {
   "cell_type": "markdown",
   "metadata": {},
   "source": [
    "## 8. You can also load Python files into a cell using %load command\n",
    "\n",
    "as this [example](http://goo.gl/RFgF1u) shows. Run the following cell to load a sample python file"
   ]
  },
  {
   "cell_type": "code",
   "execution_count": null,
   "metadata": {
    "collapsed": true
   },
   "outputs": [],
   "source": [
    "%load \"training_materials/analyst/exercises/transform/ipgeolocator.py\""
   ]
  },
  {
   "cell_type": "markdown",
   "metadata": {},
   "source": [
    "## 9. iPython Notebook files are saved and checkpointed so that you may revert to an ealier checkpoints\n",
    "\n",
    "view the menu, **file** / **save** and **checkpoint**\n",
    "\n"
   ]
  },
  {
   "cell_type": "markdown",
   "metadata": {},
   "source": [
    "There are other features of iPython Notebook. The full documentation is here \n",
    "\n",
    "[http://ipython.org/ipython-doc/stable/notebook/index.html](http://ipython.org/ipython-doc/stable/notebook/index.html)"
   ]
  }
 ],
 "metadata": {
  "kernelspec": {
   "display_name": "Python 3",
   "language": "python",
   "name": "python3"
  },
  "language_info": {
   "codemirror_mode": {
    "name": "ipython",
    "version": 3
   },
   "file_extension": ".py",
   "mimetype": "text/x-python",
   "name": "python",
   "nbconvert_exporter": "python",
   "pygments_lexer": "ipython3",
   "version": "3.6.0"
  }
 },
 "nbformat": 4,
 "nbformat_minor": 0
}
